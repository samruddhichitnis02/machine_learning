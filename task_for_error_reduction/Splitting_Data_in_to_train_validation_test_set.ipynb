{
 "cells": [
  {
   "cell_type": "code",
   "execution_count": 1,
   "metadata": {},
   "outputs": [],
   "source": [
    "import os\n",
    "import glob\n",
    "import pandas\n",
    "\n",
    "directory1 = '/home/admin1/Downloads/machine_learning/task_for error_reduction/Datasets_Healthy_Older_People/S1_Dataset/'\n",
    "file1 = glob.glob(directory1 + '/*')\n",
    "\n",
    "directory2 = '/home/admin1/Downloads/machine_learning/task_for error_reduction/Datasets_Healthy_Older_People/S2_Dataset/'\n",
    "file2 = glob.glob(directory2 + '/*')"
   ]
  },
  {
   "cell_type": "code",
   "execution_count": 2,
   "metadata": {},
   "outputs": [],
   "source": [
    "files = file1 + file2"
   ]
  },
  {
   "cell_type": "code",
   "execution_count": 3,
   "metadata": {},
   "outputs": [
    {
     "data": {
      "text/plain": [
       "89"
      ]
     },
     "execution_count": 3,
     "metadata": {},
     "output_type": "execute_result"
    }
   ],
   "source": [
    "len(files)"
   ]
  },
  {
   "cell_type": "code",
   "execution_count": 4,
   "metadata": {},
   "outputs": [],
   "source": [
    "with open('dataset.txt','w') as outfile:\n",
    "    for names in files:\n",
    "        if names.endswith('.txt'):\n",
    "            continue\n",
    "        with open(names) as infile:\n",
    "            for line in infile:\n",
    "                outfile.write(line)"
   ]
  },
  {
   "cell_type": "code",
   "execution_count": 16,
   "metadata": {},
   "outputs": [],
   "source": [
    "import pandas as pd\n",
    "data = pd.read_csv('dataset.txt', header = None)"
   ]
  },
  {
   "cell_type": "code",
   "execution_count": 17,
   "metadata": {},
   "outputs": [
    {
     "data": {
      "text/html": [
       "<div>\n",
       "<style scoped>\n",
       "    .dataframe tbody tr th:only-of-type {\n",
       "        vertical-align: middle;\n",
       "    }\n",
       "\n",
       "    .dataframe tbody tr th {\n",
       "        vertical-align: top;\n",
       "    }\n",
       "\n",
       "    .dataframe thead th {\n",
       "        text-align: right;\n",
       "    }\n",
       "</style>\n",
       "<table border=\"1\" class=\"dataframe\">\n",
       "  <thead>\n",
       "    <tr style=\"text-align: right;\">\n",
       "      <th></th>\n",
       "      <th>0</th>\n",
       "      <th>1</th>\n",
       "      <th>2</th>\n",
       "      <th>3</th>\n",
       "      <th>4</th>\n",
       "      <th>5</th>\n",
       "      <th>6</th>\n",
       "      <th>7</th>\n",
       "      <th>8</th>\n",
       "    </tr>\n",
       "  </thead>\n",
       "  <tbody>\n",
       "    <tr>\n",
       "      <th>0</th>\n",
       "      <td>0.00</td>\n",
       "      <td>0.29548</td>\n",
       "      <td>0.97377</td>\n",
       "      <td>0.088944</td>\n",
       "      <td>1</td>\n",
       "      <td>-61.0</td>\n",
       "      <td>5.6527</td>\n",
       "      <td>923.75</td>\n",
       "      <td>1</td>\n",
       "    </tr>\n",
       "    <tr>\n",
       "      <th>1</th>\n",
       "      <td>0.50</td>\n",
       "      <td>0.29548</td>\n",
       "      <td>0.97377</td>\n",
       "      <td>0.088944</td>\n",
       "      <td>1</td>\n",
       "      <td>-60.0</td>\n",
       "      <td>1.4297</td>\n",
       "      <td>921.75</td>\n",
       "      <td>1</td>\n",
       "    </tr>\n",
       "    <tr>\n",
       "      <th>2</th>\n",
       "      <td>1.25</td>\n",
       "      <td>0.17823</td>\n",
       "      <td>1.05420</td>\n",
       "      <td>0.031928</td>\n",
       "      <td>1</td>\n",
       "      <td>-61.0</td>\n",
       "      <td>6.1221</td>\n",
       "      <td>920.25</td>\n",
       "      <td>1</td>\n",
       "    </tr>\n",
       "    <tr>\n",
       "      <th>3</th>\n",
       "      <td>1.50</td>\n",
       "      <td>0.17823</td>\n",
       "      <td>1.05420</td>\n",
       "      <td>0.031928</td>\n",
       "      <td>1</td>\n",
       "      <td>-62.0</td>\n",
       "      <td>5.6128</td>\n",
       "      <td>924.25</td>\n",
       "      <td>1</td>\n",
       "    </tr>\n",
       "    <tr>\n",
       "      <th>4</th>\n",
       "      <td>1.75</td>\n",
       "      <td>0.17823</td>\n",
       "      <td>1.05420</td>\n",
       "      <td>0.031928</td>\n",
       "      <td>1</td>\n",
       "      <td>-60.5</td>\n",
       "      <td>2.3976</td>\n",
       "      <td>920.75</td>\n",
       "      <td>1</td>\n",
       "    </tr>\n",
       "  </tbody>\n",
       "</table>\n",
       "</div>"
      ],
      "text/plain": [
       "      0        1        2         3  4     5       6       7  8\n",
       "0  0.00  0.29548  0.97377  0.088944  1 -61.0  5.6527  923.75  1\n",
       "1  0.50  0.29548  0.97377  0.088944  1 -60.0  1.4297  921.75  1\n",
       "2  1.25  0.17823  1.05420  0.031928  1 -61.0  6.1221  920.25  1\n",
       "3  1.50  0.17823  1.05420  0.031928  1 -62.0  5.6128  924.25  1\n",
       "4  1.75  0.17823  1.05420  0.031928  1 -60.5  2.3976  920.75  1"
      ]
     },
     "execution_count": 17,
     "metadata": {},
     "output_type": "execute_result"
    }
   ],
   "source": [
    "data.head()"
   ]
  },
  {
   "cell_type": "code",
   "execution_count": 18,
   "metadata": {
    "scrolled": true
   },
   "outputs": [
    {
     "data": {
      "text/plain": [
       "(75128, 9)"
      ]
     },
     "execution_count": 18,
     "metadata": {},
     "output_type": "execute_result"
    }
   ],
   "source": [
    "data.shape"
   ]
  },
  {
   "cell_type": "code",
   "execution_count": 19,
   "metadata": {},
   "outputs": [],
   "source": [
    "data.columns = ['Time(secs)', 'Acceleration reading in G(frontal axis)',\n",
    "                          'Acceleration reading in G (vertical axis)',\n",
    "                          'Acceleration reading in G(lateral axis)',\n",
    "                          'Id of antenna reading sensor',\n",
    "                          'Received signal strength indicator (RSSI)',\n",
    "                          'Phase','Frequency', 'Label of activity']"
   ]
  },
  {
   "cell_type": "code",
   "execution_count": 20,
   "metadata": {},
   "outputs": [],
   "source": [
    "import numpy as np\n",
    "train, validate, test = np.split(data.sample(frac = 1), [ int(0.6*len(data)), int(0.8*len(data))])"
   ]
  },
  {
   "cell_type": "code",
   "execution_count": 21,
   "metadata": {},
   "outputs": [
    {
     "data": {
      "text/html": [
       "<div>\n",
       "<style scoped>\n",
       "    .dataframe tbody tr th:only-of-type {\n",
       "        vertical-align: middle;\n",
       "    }\n",
       "\n",
       "    .dataframe tbody tr th {\n",
       "        vertical-align: top;\n",
       "    }\n",
       "\n",
       "    .dataframe thead th {\n",
       "        text-align: right;\n",
       "    }\n",
       "</style>\n",
       "<table border=\"1\" class=\"dataframe\">\n",
       "  <thead>\n",
       "    <tr style=\"text-align: right;\">\n",
       "      <th></th>\n",
       "      <th>Time(secs)</th>\n",
       "      <th>Acceleration reading in G(frontal axis)</th>\n",
       "      <th>Acceleration reading in G (vertical axis)</th>\n",
       "      <th>Acceleration reading in G(lateral axis)</th>\n",
       "      <th>Id of antenna reading sensor</th>\n",
       "      <th>Received signal strength indicator (RSSI)</th>\n",
       "      <th>Phase</th>\n",
       "      <th>Frequency</th>\n",
       "      <th>Label of activity</th>\n",
       "    </tr>\n",
       "  </thead>\n",
       "  <tbody>\n",
       "    <tr>\n",
       "      <th>7113</th>\n",
       "      <td>234.50</td>\n",
       "      <td>0.97555</td>\n",
       "      <td>-0.082679</td>\n",
       "      <td>0.134560</td>\n",
       "      <td>3</td>\n",
       "      <td>-48.5</td>\n",
       "      <td>4.2798</td>\n",
       "      <td>921.75</td>\n",
       "      <td>3</td>\n",
       "    </tr>\n",
       "    <tr>\n",
       "      <th>50843</th>\n",
       "      <td>305.75</td>\n",
       "      <td>1.08110</td>\n",
       "      <td>-0.140090</td>\n",
       "      <td>-0.082102</td>\n",
       "      <td>4</td>\n",
       "      <td>-66.5</td>\n",
       "      <td>3.8948</td>\n",
       "      <td>920.75</td>\n",
       "      <td>3</td>\n",
       "    </tr>\n",
       "    <tr>\n",
       "      <th>71644</th>\n",
       "      <td>444.33</td>\n",
       "      <td>0.10787</td>\n",
       "      <td>0.238850</td>\n",
       "      <td>-1.074200</td>\n",
       "      <td>3</td>\n",
       "      <td>-60.0</td>\n",
       "      <td>5.5576</td>\n",
       "      <td>923.75</td>\n",
       "      <td>3</td>\n",
       "    </tr>\n",
       "    <tr>\n",
       "      <th>18796</th>\n",
       "      <td>101.75</td>\n",
       "      <td>1.13970</td>\n",
       "      <td>-0.025263</td>\n",
       "      <td>-0.093505</td>\n",
       "      <td>3</td>\n",
       "      <td>-56.5</td>\n",
       "      <td>4.0221</td>\n",
       "      <td>922.25</td>\n",
       "      <td>3</td>\n",
       "    </tr>\n",
       "    <tr>\n",
       "      <th>73054</th>\n",
       "      <td>1560.30</td>\n",
       "      <td>0.26030</td>\n",
       "      <td>0.169950</td>\n",
       "      <td>-1.062800</td>\n",
       "      <td>3</td>\n",
       "      <td>-62.5</td>\n",
       "      <td>5.8644</td>\n",
       "      <td>920.25</td>\n",
       "      <td>3</td>\n",
       "    </tr>\n",
       "  </tbody>\n",
       "</table>\n",
       "</div>"
      ],
      "text/plain": [
       "       Time(secs)  Acceleration reading in G(frontal axis)  \\\n",
       "7113       234.50                                  0.97555   \n",
       "50843      305.75                                  1.08110   \n",
       "71644      444.33                                  0.10787   \n",
       "18796      101.75                                  1.13970   \n",
       "73054     1560.30                                  0.26030   \n",
       "\n",
       "       Acceleration reading in G (vertical axis)  \\\n",
       "7113                                   -0.082679   \n",
       "50843                                  -0.140090   \n",
       "71644                                   0.238850   \n",
       "18796                                  -0.025263   \n",
       "73054                                   0.169950   \n",
       "\n",
       "       Acceleration reading in G(lateral axis)  Id of antenna reading sensor  \\\n",
       "7113                                  0.134560                             3   \n",
       "50843                                -0.082102                             4   \n",
       "71644                                -1.074200                             3   \n",
       "18796                                -0.093505                             3   \n",
       "73054                                -1.062800                             3   \n",
       "\n",
       "       Received signal strength indicator (RSSI)   Phase  Frequency  \\\n",
       "7113                                       -48.5  4.2798     921.75   \n",
       "50843                                      -66.5  3.8948     920.75   \n",
       "71644                                      -60.0  5.5576     923.75   \n",
       "18796                                      -56.5  4.0221     922.25   \n",
       "73054                                      -62.5  5.8644     920.25   \n",
       "\n",
       "       Label of activity  \n",
       "7113                   3  \n",
       "50843                  3  \n",
       "71644                  3  \n",
       "18796                  3  \n",
       "73054                  3  "
      ]
     },
     "execution_count": 21,
     "metadata": {},
     "output_type": "execute_result"
    }
   ],
   "source": [
    "train.head()"
   ]
  },
  {
   "cell_type": "code",
   "execution_count": 22,
   "metadata": {},
   "outputs": [
    {
     "data": {
      "text/plain": [
       "(45076, 9)"
      ]
     },
     "execution_count": 22,
     "metadata": {},
     "output_type": "execute_result"
    }
   ],
   "source": [
    "train.shape"
   ]
  },
  {
   "cell_type": "code",
   "execution_count": 23,
   "metadata": {},
   "outputs": [
    {
     "data": {
      "text/html": [
       "<div>\n",
       "<style scoped>\n",
       "    .dataframe tbody tr th:only-of-type {\n",
       "        vertical-align: middle;\n",
       "    }\n",
       "\n",
       "    .dataframe tbody tr th {\n",
       "        vertical-align: top;\n",
       "    }\n",
       "\n",
       "    .dataframe thead th {\n",
       "        text-align: right;\n",
       "    }\n",
       "</style>\n",
       "<table border=\"1\" class=\"dataframe\">\n",
       "  <thead>\n",
       "    <tr style=\"text-align: right;\">\n",
       "      <th></th>\n",
       "      <th>Time(secs)</th>\n",
       "      <th>Acceleration reading in G(frontal axis)</th>\n",
       "      <th>Acceleration reading in G (vertical axis)</th>\n",
       "      <th>Acceleration reading in G(lateral axis)</th>\n",
       "      <th>Id of antenna reading sensor</th>\n",
       "      <th>Received signal strength indicator (RSSI)</th>\n",
       "      <th>Phase</th>\n",
       "      <th>Frequency</th>\n",
       "      <th>Label of activity</th>\n",
       "    </tr>\n",
       "  </thead>\n",
       "  <tbody>\n",
       "    <tr>\n",
       "      <th>37633</th>\n",
       "      <td>42.75</td>\n",
       "      <td>1.315600</td>\n",
       "      <td>0.009187</td>\n",
       "      <td>0.031928</td>\n",
       "      <td>1</td>\n",
       "      <td>-58.5</td>\n",
       "      <td>5.7800</td>\n",
       "      <td>923.75</td>\n",
       "      <td>3</td>\n",
       "    </tr>\n",
       "    <tr>\n",
       "      <th>15012</th>\n",
       "      <td>182.68</td>\n",
       "      <td>0.354110</td>\n",
       "      <td>0.973770</td>\n",
       "      <td>-0.059296</td>\n",
       "      <td>4</td>\n",
       "      <td>-59.5</td>\n",
       "      <td>2.6906</td>\n",
       "      <td>925.75</td>\n",
       "      <td>1</td>\n",
       "    </tr>\n",
       "    <tr>\n",
       "      <th>66187</th>\n",
       "      <td>428.75</td>\n",
       "      <td>0.354110</td>\n",
       "      <td>0.089569</td>\n",
       "      <td>-1.040000</td>\n",
       "      <td>2</td>\n",
       "      <td>-52.0</td>\n",
       "      <td>2.1184</td>\n",
       "      <td>922.25</td>\n",
       "      <td>3</td>\n",
       "    </tr>\n",
       "    <tr>\n",
       "      <th>44372</th>\n",
       "      <td>176.80</td>\n",
       "      <td>-0.021106</td>\n",
       "      <td>1.180500</td>\n",
       "      <td>-0.013684</td>\n",
       "      <td>1</td>\n",
       "      <td>-68.0</td>\n",
       "      <td>2.5648</td>\n",
       "      <td>924.25</td>\n",
       "      <td>2</td>\n",
       "    </tr>\n",
       "    <tr>\n",
       "      <th>7927</th>\n",
       "      <td>380.00</td>\n",
       "      <td>0.928650</td>\n",
       "      <td>-0.048229</td>\n",
       "      <td>-0.013684</td>\n",
       "      <td>3</td>\n",
       "      <td>-49.0</td>\n",
       "      <td>4.1632</td>\n",
       "      <td>922.25</td>\n",
       "      <td>3</td>\n",
       "    </tr>\n",
       "  </tbody>\n",
       "</table>\n",
       "</div>"
      ],
      "text/plain": [
       "       Time(secs)  Acceleration reading in G(frontal axis)  \\\n",
       "37633       42.75                                 1.315600   \n",
       "15012      182.68                                 0.354110   \n",
       "66187      428.75                                 0.354110   \n",
       "44372      176.80                                -0.021106   \n",
       "7927       380.00                                 0.928650   \n",
       "\n",
       "       Acceleration reading in G (vertical axis)  \\\n",
       "37633                                   0.009187   \n",
       "15012                                   0.973770   \n",
       "66187                                   0.089569   \n",
       "44372                                   1.180500   \n",
       "7927                                   -0.048229   \n",
       "\n",
       "       Acceleration reading in G(lateral axis)  Id of antenna reading sensor  \\\n",
       "37633                                 0.031928                             1   \n",
       "15012                                -0.059296                             4   \n",
       "66187                                -1.040000                             2   \n",
       "44372                                -0.013684                             1   \n",
       "7927                                 -0.013684                             3   \n",
       "\n",
       "       Received signal strength indicator (RSSI)   Phase  Frequency  \\\n",
       "37633                                      -58.5  5.7800     923.75   \n",
       "15012                                      -59.5  2.6906     925.75   \n",
       "66187                                      -52.0  2.1184     922.25   \n",
       "44372                                      -68.0  2.5648     924.25   \n",
       "7927                                       -49.0  4.1632     922.25   \n",
       "\n",
       "       Label of activity  \n",
       "37633                  3  \n",
       "15012                  1  \n",
       "66187                  3  \n",
       "44372                  2  \n",
       "7927                   3  "
      ]
     },
     "execution_count": 23,
     "metadata": {},
     "output_type": "execute_result"
    }
   ],
   "source": [
    "test.head()"
   ]
  },
  {
   "cell_type": "code",
   "execution_count": 24,
   "metadata": {},
   "outputs": [
    {
     "data": {
      "text/plain": [
       "(15026, 9)"
      ]
     },
     "execution_count": 24,
     "metadata": {},
     "output_type": "execute_result"
    }
   ],
   "source": [
    "test.shape"
   ]
  },
  {
   "cell_type": "code",
   "execution_count": 25,
   "metadata": {},
   "outputs": [
    {
     "data": {
      "text/html": [
       "<div>\n",
       "<style scoped>\n",
       "    .dataframe tbody tr th:only-of-type {\n",
       "        vertical-align: middle;\n",
       "    }\n",
       "\n",
       "    .dataframe tbody tr th {\n",
       "        vertical-align: top;\n",
       "    }\n",
       "\n",
       "    .dataframe thead th {\n",
       "        text-align: right;\n",
       "    }\n",
       "</style>\n",
       "<table border=\"1\" class=\"dataframe\">\n",
       "  <thead>\n",
       "    <tr style=\"text-align: right;\">\n",
       "      <th></th>\n",
       "      <th>Time(secs)</th>\n",
       "      <th>Acceleration reading in G(frontal axis)</th>\n",
       "      <th>Acceleration reading in G (vertical axis)</th>\n",
       "      <th>Acceleration reading in G(lateral axis)</th>\n",
       "      <th>Id of antenna reading sensor</th>\n",
       "      <th>Received signal strength indicator (RSSI)</th>\n",
       "      <th>Phase</th>\n",
       "      <th>Frequency</th>\n",
       "      <th>Label of activity</th>\n",
       "    </tr>\n",
       "  </thead>\n",
       "  <tbody>\n",
       "    <tr>\n",
       "      <th>62060</th>\n",
       "      <td>611.130</td>\n",
       "      <td>0.36583</td>\n",
       "      <td>0.319230</td>\n",
       "      <td>-0.99434</td>\n",
       "      <td>2</td>\n",
       "      <td>-49.5</td>\n",
       "      <td>2.374600</td>\n",
       "      <td>921.25</td>\n",
       "      <td>3</td>\n",
       "    </tr>\n",
       "    <tr>\n",
       "      <th>45013</th>\n",
       "      <td>288.650</td>\n",
       "      <td>1.31560</td>\n",
       "      <td>-0.105650</td>\n",
       "      <td>-0.03649</td>\n",
       "      <td>1</td>\n",
       "      <td>-55.5</td>\n",
       "      <td>1.619900</td>\n",
       "      <td>921.25</td>\n",
       "      <td>3</td>\n",
       "    </tr>\n",
       "    <tr>\n",
       "      <th>55317</th>\n",
       "      <td>106.250</td>\n",
       "      <td>1.03420</td>\n",
       "      <td>0.032153</td>\n",
       "      <td>-0.15052</td>\n",
       "      <td>3</td>\n",
       "      <td>-65.0</td>\n",
       "      <td>0.018408</td>\n",
       "      <td>921.75</td>\n",
       "      <td>3</td>\n",
       "    </tr>\n",
       "    <tr>\n",
       "      <th>60539</th>\n",
       "      <td>38.825</td>\n",
       "      <td>0.23685</td>\n",
       "      <td>0.525930</td>\n",
       "      <td>-0.94873</td>\n",
       "      <td>2</td>\n",
       "      <td>-48.0</td>\n",
       "      <td>2.830200</td>\n",
       "      <td>921.25</td>\n",
       "      <td>3</td>\n",
       "    </tr>\n",
       "    <tr>\n",
       "      <th>23140</th>\n",
       "      <td>384.000</td>\n",
       "      <td>1.05760</td>\n",
       "      <td>-0.082679</td>\n",
       "      <td>-0.03649</td>\n",
       "      <td>4</td>\n",
       "      <td>-65.5</td>\n",
       "      <td>1.138200</td>\n",
       "      <td>923.25</td>\n",
       "      <td>3</td>\n",
       "    </tr>\n",
       "  </tbody>\n",
       "</table>\n",
       "</div>"
      ],
      "text/plain": [
       "       Time(secs)  Acceleration reading in G(frontal axis)  \\\n",
       "62060     611.130                                  0.36583   \n",
       "45013     288.650                                  1.31560   \n",
       "55317     106.250                                  1.03420   \n",
       "60539      38.825                                  0.23685   \n",
       "23140     384.000                                  1.05760   \n",
       "\n",
       "       Acceleration reading in G (vertical axis)  \\\n",
       "62060                                   0.319230   \n",
       "45013                                  -0.105650   \n",
       "55317                                   0.032153   \n",
       "60539                                   0.525930   \n",
       "23140                                  -0.082679   \n",
       "\n",
       "       Acceleration reading in G(lateral axis)  Id of antenna reading sensor  \\\n",
       "62060                                 -0.99434                             2   \n",
       "45013                                 -0.03649                             1   \n",
       "55317                                 -0.15052                             3   \n",
       "60539                                 -0.94873                             2   \n",
       "23140                                 -0.03649                             4   \n",
       "\n",
       "       Received signal strength indicator (RSSI)     Phase  Frequency  \\\n",
       "62060                                      -49.5  2.374600     921.25   \n",
       "45013                                      -55.5  1.619900     921.25   \n",
       "55317                                      -65.0  0.018408     921.75   \n",
       "60539                                      -48.0  2.830200     921.25   \n",
       "23140                                      -65.5  1.138200     923.25   \n",
       "\n",
       "       Label of activity  \n",
       "62060                  3  \n",
       "45013                  3  \n",
       "55317                  3  \n",
       "60539                  3  \n",
       "23140                  3  "
      ]
     },
     "execution_count": 25,
     "metadata": {},
     "output_type": "execute_result"
    }
   ],
   "source": [
    "validate.head()"
   ]
  },
  {
   "cell_type": "code",
   "execution_count": 26,
   "metadata": {},
   "outputs": [
    {
     "data": {
      "text/plain": [
       "(15026, 9)"
      ]
     },
     "execution_count": 26,
     "metadata": {},
     "output_type": "execute_result"
    }
   ],
   "source": [
    "validate.shape"
   ]
  },
  {
   "cell_type": "code",
   "execution_count": 27,
   "metadata": {},
   "outputs": [],
   "source": [
    "train.to_csv('train.csv', index = False)"
   ]
  },
  {
   "cell_type": "code",
   "execution_count": 28,
   "metadata": {},
   "outputs": [],
   "source": [
    "validate.to_csv('cross_validation.csv', index = False)"
   ]
  },
  {
   "cell_type": "code",
   "execution_count": 29,
   "metadata": {},
   "outputs": [],
   "source": [
    "test.to_csv('test.csv', index = False)"
   ]
  },
  {
   "cell_type": "code",
   "execution_count": null,
   "metadata": {},
   "outputs": [],
   "source": []
  }
 ],
 "metadata": {
  "kernelspec": {
   "display_name": "Python 3",
   "language": "python",
   "name": "python3"
  },
  "language_info": {
   "codemirror_mode": {
    "name": "ipython",
    "version": 3
   },
   "file_extension": ".py",
   "mimetype": "text/x-python",
   "name": "python",
   "nbconvert_exporter": "python",
   "pygments_lexer": "ipython3",
   "version": "3.7.4"
  }
 },
 "nbformat": 4,
 "nbformat_minor": 2
}
