{
 "cells": [
  {
   "cell_type": "code",
   "execution_count": 1,
   "metadata": {},
   "outputs": [],
   "source": [
    "\"\"\"Build a machine learning model to predict whether a person makes over 50K a year or not\"\"\"\n",
    "\n",
    "import pandas as pd\n",
    "import numpy as np\n",
    "import operator"
   ]
  },
  {
   "cell_type": "code",
   "execution_count": 2,
   "metadata": {},
   "outputs": [],
   "source": [
    "data=pd.read_csv('classification_2.csv')"
   ]
  },
  {
   "cell_type": "code",
   "execution_count": 3,
   "metadata": {},
   "outputs": [],
   "source": [
    "data=pd.get_dummies(data=data,drop_first=True)"
   ]
  },
  {
   "cell_type": "code",
   "execution_count": 4,
   "metadata": {},
   "outputs": [],
   "source": [
    "#Splitting the dataset in to train and test dataset\n",
    "Training_data = int(0.70*len(data))\n",
    "\n",
    "train_data = data.iloc[0:Training_data,:]\n",
    "test_data = data.iloc[Training_data:,:]"
   ]
  },
  {
   "cell_type": "code",
   "execution_count": 5,
   "metadata": {},
   "outputs": [],
   "source": [
    "def euclidean(data1,data2):\n",
    "    dist = 0.0\n",
    "    for i in range(len(data1)-1):\n",
    "        dist += np.square(data1[i]-data2[i])\n",
    "    return np.sqrt(dist)"
   ]
  },
  {
   "cell_type": "code",
   "execution_count": 6,
   "metadata": {},
   "outputs": [],
   "source": [
    "def prediction(train_data,test_data,k):\n",
    "    distance = [ ]\n",
    "    knn = [ ]\n",
    "    count1 = 0\n",
    "    count2 = 0\n",
    "    for i in test_data:\n",
    "        for j in train_data:\n",
    "            dist = euclidean(i, j)\n",
    "            distance.append((j[-1], dist))\n",
    "        distance.sort(key = operator.itemgetter(1))\n",
    "        knn = distance[:k] #Extracting top k neighbour\n",
    "    for k in range(len(knn)):\n",
    "        if knn[k][0]==1:\n",
    "            count1 += 1\n",
    "        else:\n",
    "            count2 += 1\n",
    "    if(count1>count2):\n",
    "        return 'yes'\n",
    "    else:\n",
    "        return 'no'"
   ]
  },
  {
   "cell_type": "code",
   "execution_count": 7,
   "metadata": {},
   "outputs": [
    {
     "data": {
      "text/plain": [
       "'no'"
      ]
     },
     "execution_count": 7,
     "metadata": {},
     "output_type": "execute_result"
    }
   ],
   "source": [
    "prediction(train_data.values,test_data.iloc[3:5,:].values,3)"
   ]
  },
  {
   "cell_type": "code",
   "execution_count": 8,
   "metadata": {},
   "outputs": [
    {
     "data": {
      "text/plain": [
       "22795    0\n",
       "22796    0\n",
       "Name:  <=50K_ >50K, dtype: uint8"
      ]
     },
     "execution_count": 8,
     "metadata": {},
     "output_type": "execute_result"
    }
   ],
   "source": [
    "test_data.iloc[3:5,-1]  "
   ]
  }
 ],
 "metadata": {
  "kernelspec": {
   "display_name": "Python 3",
   "language": "python",
   "name": "python3"
  },
  "language_info": {
   "codemirror_mode": {
    "name": "ipython",
    "version": 3
   },
   "file_extension": ".py",
   "mimetype": "text/x-python",
   "name": "python",
   "nbconvert_exporter": "python",
   "pygments_lexer": "ipython3",
   "version": "3.7.4"
  }
 },
 "nbformat": 4,
 "nbformat_minor": 2
}
