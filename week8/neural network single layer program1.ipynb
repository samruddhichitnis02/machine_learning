{
 "cells": [
  {
   "cell_type": "code",
   "execution_count": 459,
   "metadata": {},
   "outputs": [],
   "source": [
    "\"\"\"The data given in the url  is related with direct marketing campaigns of a banking institution. The marketing \n",
    "campaigns were based on phone calls. Often, more than one contact to the same client was required, in order to \n",
    "access if the product (bank term deposit) would be ('yes') or not ('no') subscribed. Build a model to predict \n",
    "whether client will subscribe to term deposit\n",
    "\"\"\"\n",
    "import pandas as pd\n",
    "import numpy as np"
   ]
  },
  {
   "cell_type": "code",
   "execution_count": 460,
   "metadata": {},
   "outputs": [
    {
     "data": {
      "text/html": [
       "<div>\n",
       "<style scoped>\n",
       "    .dataframe tbody tr th:only-of-type {\n",
       "        vertical-align: middle;\n",
       "    }\n",
       "\n",
       "    .dataframe tbody tr th {\n",
       "        vertical-align: top;\n",
       "    }\n",
       "\n",
       "    .dataframe thead th {\n",
       "        text-align: right;\n",
       "    }\n",
       "</style>\n",
       "<table border=\"1\" class=\"dataframe\">\n",
       "  <thead>\n",
       "    <tr style=\"text-align: right;\">\n",
       "      <th></th>\n",
       "      <th>age</th>\n",
       "      <th>balance</th>\n",
       "      <th>day</th>\n",
       "      <th>duration</th>\n",
       "      <th>campaign</th>\n",
       "      <th>pdays</th>\n",
       "      <th>previous</th>\n",
       "      <th>y</th>\n",
       "    </tr>\n",
       "  </thead>\n",
       "  <tbody>\n",
       "    <tr>\n",
       "      <th>0</th>\n",
       "      <td>30</td>\n",
       "      <td>1787</td>\n",
       "      <td>19</td>\n",
       "      <td>79</td>\n",
       "      <td>1</td>\n",
       "      <td>-1</td>\n",
       "      <td>0</td>\n",
       "      <td>no</td>\n",
       "    </tr>\n",
       "    <tr>\n",
       "      <th>1</th>\n",
       "      <td>33</td>\n",
       "      <td>4789</td>\n",
       "      <td>11</td>\n",
       "      <td>220</td>\n",
       "      <td>1</td>\n",
       "      <td>339</td>\n",
       "      <td>4</td>\n",
       "      <td>no</td>\n",
       "    </tr>\n",
       "    <tr>\n",
       "      <th>2</th>\n",
       "      <td>35</td>\n",
       "      <td>1350</td>\n",
       "      <td>16</td>\n",
       "      <td>185</td>\n",
       "      <td>1</td>\n",
       "      <td>330</td>\n",
       "      <td>1</td>\n",
       "      <td>no</td>\n",
       "    </tr>\n",
       "    <tr>\n",
       "      <th>3</th>\n",
       "      <td>30</td>\n",
       "      <td>1476</td>\n",
       "      <td>3</td>\n",
       "      <td>199</td>\n",
       "      <td>4</td>\n",
       "      <td>-1</td>\n",
       "      <td>0</td>\n",
       "      <td>no</td>\n",
       "    </tr>\n",
       "    <tr>\n",
       "      <th>4</th>\n",
       "      <td>59</td>\n",
       "      <td>0</td>\n",
       "      <td>5</td>\n",
       "      <td>226</td>\n",
       "      <td>1</td>\n",
       "      <td>-1</td>\n",
       "      <td>0</td>\n",
       "      <td>no</td>\n",
       "    </tr>\n",
       "  </tbody>\n",
       "</table>\n",
       "</div>"
      ],
      "text/plain": [
       "   age  balance  day  duration  campaign  pdays  previous   y\n",
       "0   30     1787   19        79         1     -1         0  no\n",
       "1   33     4789   11       220         1    339         4  no\n",
       "2   35     1350   16       185         1    330         1  no\n",
       "3   30     1476    3       199         4     -1         0  no\n",
       "4   59        0    5       226         1     -1         0  no"
      ]
     },
     "execution_count": 460,
     "metadata": {},
     "output_type": "execute_result"
    }
   ],
   "source": [
    "data = pd.read_csv('bank.csv',delimiter = ';')\n",
    "data.drop(['job','marital','education','default','housing','loan','month','poutcome','contact'],axis=1,inplace=True)\n",
    "data.head()"
   ]
  },
  {
   "cell_type": "code",
   "execution_count": 461,
   "metadata": {},
   "outputs": [],
   "source": [
    "data=pd.get_dummies(data=data,drop_first=True)\n",
    "data['age'] = (data['age'] - data['age'].mean())/(data['age'].std())\n",
    "data['balance'] = (data['balance'] - data['balance'].mean())/(data['balance'].std())\n",
    "data['day'] = (data['day'] - data['day'].mean())/(data['day'].std())\n",
    "data['duration'] = (data['duration'] - data['duration'].mean())/(data['duration'].std())\n",
    "data['campaign'] = (data['campaign'] - data['campaign'].mean())/(data['campaign'].std())\n",
    "data['pdays'] = (data['pdays'] - data['pdays'].mean())/(data['pdays'].std())\n",
    "data['previous'] = (data['previous'] - data['previous'].mean())/(data['previous'].std())"
   ]
  },
  {
   "cell_type": "code",
   "execution_count": 462,
   "metadata": {},
   "outputs": [],
   "source": [
    "Training_data = int(0.70*len(data))\n",
    "Train_data = data.iloc[0:Training_data,:]\n",
    "Test_data = data.iloc[Training_data:,:]\n",
    "\n",
    "\n",
    "x_train,y_train,x_test,y_test = np.array(Train_data.iloc[:,0:38]),np.array(Train_data.iloc[:,-1:]),np.array(Test_data.iloc[:,0:38]),np.array(Test_data.iloc[:,-1:])"
   ]
  },
  {
   "cell_type": "code",
   "execution_count": 463,
   "metadata": {},
   "outputs": [
    {
     "data": {
      "text/plain": [
       "((3164, 8), (3164, 1))"
      ]
     },
     "execution_count": 463,
     "metadata": {},
     "output_type": "execute_result"
    }
   ],
   "source": [
    "x_train.shape,y_train.shape"
   ]
  },
  {
   "cell_type": "code",
   "execution_count": 464,
   "metadata": {},
   "outputs": [],
   "source": [
    "def shape(x,y):\n",
    "    transform_x = x.shape[0]\n",
    "    transform_w = x.shape[1]\n",
    "    return transform_x, transform_w"
   ]
  },
  {
   "cell_type": "code",
   "execution_count": 465,
   "metadata": {},
   "outputs": [],
   "source": [
    "def initialize(x, y, transform_x, transform_w):\n",
    "    x = np.reshape(x,(transform_w,transform_x))\n",
    "    y = np.reshape(y,(1,transform_x))\n",
    "    \n",
    "    np.random.seed(0)\n",
    "    W = np.random.randn(1,transform_w) *0.01\n",
    "    b = np.zeros((1,1))\n",
    "    \n",
    "    parameters = {'W':W, 'b':b}\n",
    "    return x, y, parameters"
   ]
  },
  {
   "cell_type": "code",
   "execution_count": 466,
   "metadata": {},
   "outputs": [],
   "source": [
    "def forward_propagation(x, y, parameters):\n",
    "    W = parameters['W']\n",
    "    b = parameters['b']\n",
    "    \n",
    "    Z = np.dot(W,x) + b\n",
    "\n",
    "    return Z"
   ]
  },
  {
   "cell_type": "code",
   "execution_count": 467,
   "metadata": {},
   "outputs": [],
   "source": [
    "def sigmoid(Z):\n",
    "    sigmoid = 1 / (1 + np.exp(-Z))\n",
    "    return sigmoid"
   ]
  },
  {
   "cell_type": "code",
   "execution_count": 468,
   "metadata": {},
   "outputs": [],
   "source": [
    "def backward_propagation(A, x, y):\n",
    "    dz = A - y\n",
    "    m = x.shape[1]\n",
    "    \n",
    "    dw = (np.dot(x,dz.T))/m\n",
    "    \n",
    "    db = (np.sum(dz))/m\n",
    "    db = np.reshape(db,(1,1))\n",
    "    \n",
    "    grads = {'dw':dw, 'db':db}\n",
    "    return grads"
   ]
  },
  {
   "cell_type": "code",
   "execution_count": 469,
   "metadata": {},
   "outputs": [],
   "source": [
    "def update(grads,parameters):\n",
    "    learning_rate = 0.01\n",
    "    W = parameters['W']\n",
    "    b = parameters['b']\n",
    "    \n",
    "    dw = grads['dw']\n",
    "    db = grads['db']\n",
    "    \n",
    "    W = W - (learning_rate * dw.T)\n",
    "    b = b - (learning_rate * db)\n",
    "    \n",
    "    parameters = {'W':W, 'b':b}\n",
    "    return parameters"
   ]
  },
  {
   "cell_type": "code",
   "execution_count": 470,
   "metadata": {},
   "outputs": [],
   "source": [
    "def compute_cost(A, x, y):\n",
    "    m = x.shape[1]\n",
    "    L = (y * np.log(A)) +((1-y) * np.log(1-A))\n",
    "    cost = - ( np.sum(L) / m)\n",
    "    return cost"
   ]
  },
  {
   "cell_type": "code",
   "execution_count": 471,
   "metadata": {},
   "outputs": [],
   "source": [
    "def nn_model(x1, y1):\n",
    "    epoch = 2500\n",
    "    cost_list = [ ]\n",
    "    transform_x, transform_w = shape(x1, y1)\n",
    "    x, y, parameters = initialize(x1, y1, transform_x, transform_w)\n",
    "    for i in range(epoch):\n",
    "        Z = forward_propagation(x, y, parameters)\n",
    "        A = sigmoid(Z)\n",
    "        cost = compute_cost(A, x, y)\n",
    "        cost_list.append(cost)\n",
    "        grads = backward_propagation(A, x, y)\n",
    "        parameters = update(grads, parameters)\n",
    "    return parameters, cost_list"
   ]
  },
  {
   "cell_type": "code",
   "execution_count": 472,
   "metadata": {},
   "outputs": [],
   "source": [
    "new_parameters, cost_list = nn_model(x_train, y_train)"
   ]
  },
  {
   "cell_type": "code",
   "execution_count": 473,
   "metadata": {},
   "outputs": [
    {
     "data": {
      "image/png": "[encoded data removed]",
      "text/plain": [
       "<Figure size 432x288 with 1 Axes>"
      ]
     },
     "metadata": {
      "needs_background": "light"
     },
     "output_type": "display_data"
    }
   ],
   "source": [
    "import matplotlib.pyplot as plt\n",
    "plt.plot(cost_list)\n",
    "plt.xlabel('Number of iterations')\n",
    "plt.ylabel('Cost Function')\n",
    "plt.show()"
   ]
  },
  {
   "cell_type": "code",
   "execution_count": 474,
   "metadata": {},
   "outputs": [],
   "source": [
    "def check_prediction(x1, y1, new_parameters):\n",
    "    transform_x, transform_w = shape(x1, y1)\n",
    "    x, y, para = initialize(x1, y1, transform_x, transform_w)\n",
    "    Z1 = forward_propagation(x, y, new_parameters)\n",
    "    A1 = sigmoid(Z1)\n",
    "    return A1, y\n"
   ]
  },
  {
   "cell_type": "code",
   "execution_count": 475,
   "metadata": {},
   "outputs": [],
   "source": [
    "A1, y = check_prediction(x_test, y_test, new_parameters)\n",
    "a = np.round(A1)\n",
    "y = y"
   ]
  },
  {
   "cell_type": "code",
   "execution_count": 476,
   "metadata": {},
   "outputs": [],
   "source": [
    "def check_accuracy(a, y):\n",
    "    accuracy = 0\n",
    "    n = a.shape[1]\n",
    "    for i in range(len(a[0])):\n",
    "        if (a[0][i] == y[0][i]):\n",
    "            accuracy += 1\n",
    "    acc = (accuracy / n) * 100\n",
    "    return acc"
   ]
  },
  {
   "cell_type": "code",
   "execution_count": 477,
   "metadata": {},
   "outputs": [
    {
     "name": "stdout",
     "output_type": "stream",
     "text": [
      "88.57774502579218\n"
     ]
    }
   ],
   "source": [
    "accuracy = check_accuracy(a,y)\n",
    "print(accuracy)"
   ]
  },
  {
   "cell_type": "code",
   "execution_count": 478,
   "metadata": {},
   "outputs": [
    {
     "data": {
      "text/plain": [
       "((1, 1357), (1, 1357))"
      ]
     },
     "execution_count": 478,
     "metadata": {},
     "output_type": "execute_result"
    }
   ],
   "source": [
    "a.shape,y.shape"
   ]
  },
  {
   "cell_type": "code",
   "execution_count": 479,
   "metadata": {},
   "outputs": [
    {
     "data": {
      "text/plain": [
       "1357"
      ]
     },
     "execution_count": 479,
     "metadata": {},
     "output_type": "execute_result"
    }
   ],
   "source": [
    "len(a[0])"
   ]
  }
 ],
 "metadata": {
  "kernelspec": {
   "display_name": "Python 3",
   "language": "python",
   "name": "python3"
  },
  "language_info": {
   "codemirror_mode": {
    "name": "ipython",
    "version": 3
   },
   "file_extension": ".py",
   "mimetype": "text/x-python",
   "name": "python",
   "nbconvert_exporter": "python",
   "pygments_lexer": "ipython3",
   "version": "3.7.4"
  }
 },
 "nbformat": 4,
 "nbformat_minor": 2
}
