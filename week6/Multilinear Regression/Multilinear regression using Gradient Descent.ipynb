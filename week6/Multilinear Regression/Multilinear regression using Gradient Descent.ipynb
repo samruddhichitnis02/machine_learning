{
 "cells": [
  {
   "cell_type": "code",
   "execution_count": 3,
   "metadata": {},
   "outputs": [],
   "source": [
    "\"\"\"Build a predictive linear regression model for given dataset, given temperature, humidity, wind speed , \n",
    "wind bearing, visibility, pressure  predict apparent temperature\"\"\"\n",
    "import seaborn as sb\n",
    "import matplotlib.pyplot as plt\n",
    "import pandas as pd\n",
    "import numpy as np"
   ]
  },
  {
   "cell_type": "code",
   "execution_count": 4,
   "metadata": {},
   "outputs": [],
   "source": [
    "data=pd.read_csv('weatherHistory.csv')\n",
    "data.drop(['Formatted Date','Summary','Precip Type','Loud Cover','Daily Summary'],axis=1,inplace=True)\n",
    "data['x0']=np.ones((len(data),1))\n",
    "data=data.reindex(columns=sorted(data.columns))\n",
    "data = data[:10000]"
   ]
  },
  {
   "cell_type": "code",
   "execution_count": 5,
   "metadata": {
    "scrolled": true
   },
   "outputs": [
    {
     "data": {
      "text/plain": [
       "Apparent Temperature (C)   -0.169044\n",
       "Humidity                   -0.705021\n",
       "Pressure (millibars)       -6.309898\n",
       "Temperature (C)            -0.021943\n",
       "Visibility (km)            -0.571543\n",
       "Wind Bearing (degrees)     -0.200441\n",
       "Wind Speed (km/h)           1.184477\n",
       "x0                          0.000000\n",
       "dtype: float64"
      ]
     },
     "execution_count": 5,
     "metadata": {},
     "output_type": "execute_result"
    }
   ],
   "source": [
    "data.skew() #Check the skewness"
   ]
  },
  {
   "cell_type": "code",
   "execution_count": 6,
   "metadata": {},
   "outputs": [],
   "source": [
    "#sb.distplot(np.square(data['Humidity']))\n",
    "#print(np.square(data['Humidity']).skew())\n",
    "data['Humidity'] = np.square(data['Humidity'])\n",
    "data['Wind Speed (km/h)'] = np.cbrt(data['Wind Speed (km/h)'])"
   ]
  },
  {
   "cell_type": "code",
   "execution_count": 7,
   "metadata": {},
   "outputs": [],
   "source": [
    "#Standardization\n",
    "data['Apparent Temperature (C)'] = (data['Apparent Temperature (C)'] - data['Apparent Temperature (C)'].mean()) / (data['Apparent Temperature (C)'].std())\n",
    "data['Humidity'] = (data['Humidity'] - data['Humidity'].mean()) / (data['Humidity'].std())\n",
    "data['Pressure (millibars)'] = (data['Pressure (millibars)'] - data['Pressure (millibars)'].mean()) / (data['Pressure (millibars)'].std())\n",
    "data['Temperature (C)'] = (data['Temperature (C)'] - data['Temperature (C)'].mean()) / (data['Temperature (C)'].std())\n",
    "data['Visibility (km)'] = (data['Visibility (km)'] - data['Visibility (km)'].mean()) / (data['Visibility (km)'].std())\n",
    "data['Wind Bearing (degrees)'] = (data['Wind Bearing (degrees)'] - data['Wind Bearing (degrees)'].mean()) / (data['Wind Bearing (degrees)'].std())\n",
    "data['Wind Speed (km/h)'] = (data['Wind Speed (km/h)'] - data['Wind Speed (km/h)'].mean()) / (data['Wind Speed (km/h)'].std())"
   ]
  },
  {
   "cell_type": "code",
   "execution_count": 8,
   "metadata": {},
   "outputs": [],
   "source": [
    "Training_data=int(0.70*len(data))\n",
    "Train_data=data.iloc[0:Training_data,:]\n",
    "Test_data=data.iloc[Training_data:,:]\n",
    "\n",
    "x_train,y_train,x_test,y_test=np.array(Train_data.iloc[:,1:]),np.array(Train_data.iloc[:,0:1]),np.array(Test_data.iloc[:,1:]),np.array(Test_data.iloc[:,0:1])"
   ]
  },
  {
   "cell_type": "code",
   "execution_count": 9,
   "metadata": {},
   "outputs": [
    {
     "data": {
      "text/plain": [
       "array([0.5488135 , 0.71518937, 0.60276338, 0.54488318, 0.4236548 ,\n",
       "       0.64589411, 0.43758721])"
      ]
     },
     "execution_count": 9,
     "metadata": {},
     "output_type": "execute_result"
    }
   ],
   "source": [
    "np.random.seed(0)\n",
    "theta=np.random.rand(7)\n",
    "theta"
   ]
  },
  {
   "cell_type": "code",
   "execution_count": 10,
   "metadata": {},
   "outputs": [
    {
     "data": {
      "text/plain": [
       "array([[0.5488135 ],\n",
       "       [0.71518937],\n",
       "       [0.60276338],\n",
       "       [0.54488318],\n",
       "       [0.4236548 ],\n",
       "       [0.64589411],\n",
       "       [0.43758721]])"
      ]
     },
     "execution_count": 10,
     "metadata": {},
     "output_type": "execute_result"
    }
   ],
   "source": [
    "theta = np.reshape(theta,(7,1))\n",
    "theta"
   ]
  },
  {
   "cell_type": "code",
   "execution_count": 11,
   "metadata": {},
   "outputs": [
    {
     "data": {
      "text/plain": [
       "((7000, 7), (7000, 1), (7, 1))"
      ]
     },
     "execution_count": 11,
     "metadata": {},
     "output_type": "execute_result"
    }
   ],
   "source": [
    "x_train.shape, y_train.shape, theta.shape"
   ]
  },
  {
   "cell_type": "code",
   "execution_count": 12,
   "metadata": {},
   "outputs": [],
   "source": [
    "def model(x_train,y_train,theta):\n",
    "    learning_rate = 0.00000001\n",
    "    epochs = 3000\n",
    "    n = len(x_train)\n",
    "\n",
    "\n",
    "    for epoch in range(epochs):\n",
    "        y_pred = np.dot(x_train ,theta)\n",
    "        temp = y_pred - y_train\n",
    "        product = (learning_rate / n) * np.dot(x_train.T,temp)\n",
    "        theta = theta - product\n",
    "        cost = (1 / (2 * n)) * np.dot(temp.T, temp)\n",
    "        #print(cost)\n",
    "    return theta"
   ]
  },
  {
   "cell_type": "code",
   "execution_count": 13,
   "metadata": {},
   "outputs": [],
   "source": [
    "theta=model(x_train,y_train,theta)"
   ]
  },
  {
   "cell_type": "code",
   "execution_count": 14,
   "metadata": {},
   "outputs": [
    {
     "name": "stdout",
     "output_type": "stream",
     "text": [
      "[[0.5487995 ]\n",
      " [0.71517133]\n",
      " [0.60278174]\n",
      " [0.5448769 ]\n",
      " [0.42364254]\n",
      " [0.64587613]\n",
      " [0.43756956]]\n"
     ]
    },
    {
     "data": {
      "text/plain": [
       "((3000, 1), (3000, 1))"
      ]
     },
     "execution_count": 14,
     "metadata": {},
     "output_type": "execute_result"
    }
   ],
   "source": [
    "print(theta)\n",
    "Y=np.dot(x_test,theta)\n",
    "Y.shape, y_test.shape"
   ]
  },
  {
   "cell_type": "code",
   "execution_count": 15,
   "metadata": {},
   "outputs": [
    {
     "data": {
      "text/plain": [
       "(3000, 1)"
      ]
     },
     "execution_count": 15,
     "metadata": {},
     "output_type": "execute_result"
    }
   ],
   "source": [
    "y_test.shape"
   ]
  },
  {
   "cell_type": "code",
   "execution_count": 16,
   "metadata": {},
   "outputs": [
    {
     "data": {
      "text/plain": [
       "1.9533440124572103"
      ]
     },
     "execution_count": 16,
     "metadata": {},
     "output_type": "execute_result"
    }
   ],
   "source": [
    "mse=np.mean((Y-y_test)**2)\n",
    "mse"
   ]
  },
  {
   "cell_type": "code",
   "execution_count": 17,
   "metadata": {},
   "outputs": [
    {
     "data": {
      "text/plain": [
       "1.3976208400196422"
      ]
     },
     "execution_count": 17,
     "metadata": {},
     "output_type": "execute_result"
    }
   ],
   "source": [
    "rmse=np.sqrt(mse)\n",
    "rmse"
   ]
  },
  {
   "cell_type": "code",
   "execution_count": null,
   "metadata": {},
   "outputs": [],
   "source": []
  }
 ],
 "metadata": {
  "kernelspec": {
   "display_name": "Python 3",
   "language": "python",
   "name": "python3"
  },
  "language_info": {
   "codemirror_mode": {
    "name": "ipython",
    "version": 3
   },
   "file_extension": ".py",
   "mimetype": "text/x-python",
   "name": "python",
   "nbconvert_exporter": "python",
   "pygments_lexer": "ipython3",
   "version": "3.7.4"
  }
 },
 "nbformat": 4,
 "nbformat_minor": 2
}
