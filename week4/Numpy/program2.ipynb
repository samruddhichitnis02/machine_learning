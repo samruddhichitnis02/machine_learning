{
 "cells": [
  {
   "cell_type": "code",
   "execution_count": null,
   "metadata": {},
   "outputs": [],
   "source": [
    "\"\"\"Create a 3x3 matrix with values ranging from 2 to 10.  \n",
    "Expected Output:\n",
    "[[ 2 3 4] \n",
    "[ 5 6 7] \n",
    "[ 8 9 10]] \"\"\"\n",
    "\n",
    "import numpy as np\n",
    "n=int(input('Enter a number-')) #Take the number up to which you want to create arange\n",
    "k=n+1 #Increase the value by 1 to include the entered number\n",
    "m=int(input('Enter the number of rows-')) #Enter the number of rows u want in a matrix\n",
    "l=int(input('Enter the number of coloumns-')) #Enter the number of coloumns in a matrix\n",
    "try:\n",
    "    x=np.arange(2,k).reshape(m,l) #If a matrix can be created with user input coloumns and rows \n",
    "    print(x) #print the matrix\n",
    "except ValueError: #If the matrix cannot be created with user input coloumns and rows raise a value error\n",
    "    print('Cannot Create a matrix with given input')\n"
   ]
  }
 ],
 "metadata": {
  "kernelspec": {
   "display_name": "Python 3",
   "language": "python",
   "name": "python3"
  },
  "language_info": {
   "codemirror_mode": {
    "name": "ipython",
    "version": 3
   },
   "file_extension": ".py",
   "mimetype": "text/x-python",
   "name": "python",
   "nbconvert_exporter": "python",
   "pygments_lexer": "ipython3",
   "version": "3.7.3"
  }
 },
 "nbformat": 4,
 "nbformat_minor": 4
}
