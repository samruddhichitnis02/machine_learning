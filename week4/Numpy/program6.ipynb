{
 "cells": [
  {
   "cell_type": "code",
   "execution_count": null,
   "metadata": {},
   "outputs": [],
   "source": [
    "\"\"\"Write a Python program to add a border (filled with 0's) around an existing array. \n",
    "Expected Output:\n",
    "Original array: \n",
    "[[ 1. 1. 1.] \n",
    "[ 1. 1. 1.] \n",
    "[ 1. 1. 1.]] \n",
    "1 on the border and 0 inside in the array \n",
    "[[ 0. 0. 0. 0. 0.] \n",
    "[ 0. 1. 1. 1. 0.] \n",
    "[ 0. 1. 1. 1. 0.] \n",
    "[ 0. 1. 1. 1. 0.] \n",
    "[ 0. 0. 0. 0. 0.]]\n",
    "\"\"\"\n",
    "\n",
    "import numpy as np\n",
    "m=int(input('Enter the number of rows-'))\n",
    "n=int(input('Enter the number of coloumns-'))\n",
    "x=np.ones((n,m))\n",
    "print(x)\n",
    "b=int(input('Enter the constant value for the border-'))\n",
    "a=np.pad(x,pad_width=1,mode='constant',constant_values=b) #x-array, pad_width-no of rows & col. to which we want to apply border,mode-constant(pads with a constant value provided by the user)\n",
    "print(a)"
   ]
  }
 ],
 "metadata": {
  "kernelspec": {
   "display_name": "Python 3",
   "language": "python",
   "name": "python3"
  },
  "language_info": {
   "codemirror_mode": {
    "name": "ipython",
    "version": 3
   },
   "file_extension": ".py",
   "mimetype": "text/x-python",
   "name": "python",
   "nbconvert_exporter": "python",
   "pygments_lexer": "ipython3",
   "version": "3.7.3"
  }
 },
 "nbformat": 4,
 "nbformat_minor": 4
}
