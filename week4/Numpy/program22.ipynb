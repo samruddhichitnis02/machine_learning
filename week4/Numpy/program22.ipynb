{
 "cells": [
  {
   "cell_type": "code",
   "execution_count": null,
   "metadata": {},
   "outputs": [],
   "source": [
    "\"\"\" Write a Python program to make an array immutable (read-only). \n",
    "Expected Output:\n",
    "Test the array is read-only or not:\n",
    "Try to change the value of the first element:\n",
    "Traceback (most recent call last):\n",
    "File \"19236bd0-0bd9-11e7-a232-c706d0968eb6.py\", line 6, in \n",
    "x[0] = 1\n",
    "ValueError: assignment destination is read-only\"\"\"\n",
    "\n",
    "\n",
    "import numpy as np\n",
    "x = np.ones(10)\n",
    "x.flags.writeable = False\n",
    "print('Testing  the array is read-only or not-')\n",
    "print('Trying  to change the value of the first element')\n",
    "try:\n",
    "    x[0] = int(input('Enter the value-'))\n",
    "except:\n",
    "    print('assignment destination is read-only')"
   ]
  }
 ],
 "metadata": {
  "kernelspec": {
   "display_name": "Python 3",
   "language": "python",
   "name": "python3"
  },
  "language_info": {
   "codemirror_mode": {
    "name": "ipython",
    "version": 3
   },
   "file_extension": ".py",
   "mimetype": "text/x-python",
   "name": "python",
   "nbconvert_exporter": "python",
   "pygments_lexer": "ipython3",
   "version": "3.7.4"
  }
 },
 "nbformat": 4,
 "nbformat_minor": 2
}
