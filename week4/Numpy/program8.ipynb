{
 "cells": [
  {
   "cell_type": "code",
   "execution_count": null,
   "metadata": {},
   "outputs": [],
   "source": [
    "\"\"\"Write a Python program to convert a list and tuple into arrays. \n",
    "List to array:\n",
    "[1 2 3 4 5 6 7 8] \n",
    "Tuple to array:\n",
    "[[8 4 6] \n",
    "[1 2 3]]\n",
    "\"\"\"\n",
    "\n",
    "import numpy as np\n",
    "x=[ ]\n",
    "n=int(input('Enter the number of elements-'))\n",
    "for i in range(n):\n",
    "    a=int(input('Enter the elements-'))\n",
    "    x.append(a)\n",
    "print(x)\n",
    "print()\n",
    "b=np.array(x) #converting list to numpy array\n",
    "print(b)\n",
    "\n",
    "y=[ ] #creating a list to take different dimensions and then converting the list to tuple\n",
    "n=int(input('Enter the number of rows-'))\n",
    "m=int(input('Enter the number of coloumns-'))\n",
    "for i in range(n):\n",
    "    y.append([ ])\n",
    "for i in range(n):\n",
    "    for j in range(m):\n",
    "        y[i].append(j)\n",
    "        y[i][j]=int(input('Enter the elements-'))\n",
    "z=tuple(y) #converting the list to tuple\n",
    "print(z)\n",
    "k=np.array(z) #converting the tuple to array\n",
    "print(k)"
   ]
  }
 ],
 "metadata": {
  "kernelspec": {
   "display_name": "Python 3",
   "language": "python",
   "name": "python3"
  },
  "language_info": {
   "codemirror_mode": {
    "name": "ipython",
    "version": 3
   },
   "file_extension": ".py",
   "mimetype": "text/x-python",
   "name": "python",
   "nbconvert_exporter": "python",
   "pygments_lexer": "ipython3",
   "version": "3.7.4"
  }
 },
 "nbformat": 4,
 "nbformat_minor": 4
}
