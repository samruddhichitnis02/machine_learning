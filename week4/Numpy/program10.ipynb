{
 "cells": [
  {
   "cell_type": "code",
   "execution_count": null,
   "metadata": {},
   "outputs": [],
   "source": [
    "\"\"\"Write a Python program to find the real and imaginary parts of an array of complex numbers. \n",
    "Expected Output:\n",
    "Original array [ 1.00000000+0.j 0.70710678+0.70710678j] \n",
    "Real part of the array: \n",
    "[ 1. 0.70710678] \n",
    "Imaginary part of the array:\n",
    "[ 0. 0.70710678]\"\"\"\n",
    "\n",
    "import numpy as np\n",
    "x = [ ]  #List for taking  n complex numbers from users\n",
    "n=int(input('Enter the number of elements-'))\n",
    "for i in range(n):\n",
    "    a = complex(input(\" Enter a Number-\"))\n",
    "    x.append(a)\n",
    "z=np.array(x)  #Converting the list to numpy array\n",
    "print('Original array-x ',x)\n",
    "print('Real part of the array-',z.real)\n",
    "print('Imaginary part of the array-',z.imag)"
   ]
  }
 ],
 "metadata": {
  "kernelspec": {
   "display_name": "Python 3",
   "language": "python",
   "name": "python3"
  },
  "language_info": {
   "codemirror_mode": {
    "name": "ipython",
    "version": 3
   },
   "file_extension": ".py",
   "mimetype": "text/x-python",
   "name": "python",
   "nbconvert_exporter": "python",
   "pygments_lexer": "ipython3",
   "version": "3.7.3"
  }
 },
 "nbformat": 4,
 "nbformat_minor": 2
}
