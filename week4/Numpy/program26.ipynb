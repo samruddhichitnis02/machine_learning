{
 "cells": [
  {
   "cell_type": "code",
   "execution_count": null,
   "metadata": {},
   "outputs": [],
   "source": [
    "\"\"\"Write a Python program to how to add an extra column to an numpy array. \n",
    "\n",
    "Expected Output:\n",
    "[[ 10 20 30 100]\n",
    "[ 40 50 60 200]]\"\"\"\n",
    "\n",
    "\n",
    "import numpy as np\n",
    "x=[ ]\n",
    "n=int(input('Enter the number of rows-'))\n",
    "m=int(input('Enter the number of coloumns-'))\n",
    "for i in range(n):\n",
    "\tx.append([ ])\n",
    "for i in range(n):\n",
    "\tfor j in range(m):\n",
    "\t\tx[i].append(j)\n",
    "\t\tx[i][j]=int(input('Enter the elements-'))\n",
    "print(x)\n",
    "y=[ ]\n",
    "n=int(input('enter the number of rows-'))\n",
    "m=int(input('Enter the number of coloumns-'))\n",
    "for i in range(n):\n",
    "\ty.append([ ])\n",
    "for i in range(n):\n",
    "\tfor j in range(m):\n",
    "\t\ty[i].append(j)\n",
    "\t\ty[i][j]=int(input('Enter the elements-'))\n",
    "print(y)\n",
    "if(np.shape(x)==np.shape(y)):\n",
    "\tprint(np.append(x,y,axis=1))\n",
    "else:\n",
    "\tprint('Shape does not match hence cannot add an extra coloumn') "
   ]
  }
 ],
 "metadata": {
  "kernelspec": {
   "display_name": "Python 3",
   "language": "python",
   "name": "python3"
  },
  "language_info": {
   "codemirror_mode": {
    "name": "ipython",
    "version": 3
   },
   "file_extension": ".py",
   "mimetype": "text/x-python",
   "name": "python",
   "nbconvert_exporter": "python",
   "pygments_lexer": "ipython3",
   "version": "3.7.4"
  }
 },
 "nbformat": 4,
 "nbformat_minor": 2
}
