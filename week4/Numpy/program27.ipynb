{
 "cells": [
  {
   "cell_type": "code",
   "execution_count": null,
   "metadata": {},
   "outputs": [],
   "source": [
    "\"\"\"Write a Python program to remove specific elements in a numpy array. \n",
    "\n",
    "Expected Output:\n",
    "Original array: \n",
    "[ 10 20 30 40 50 60 70 80 90 100]\n",
    "Delete first, fourth and fifth elements:\n",
    "[ 20 30 60 70 80 90 100]\"\"\"\n",
    "\n",
    "import numpy as np\n",
    "m=[ ]\n",
    "n=int(input('Enter the size of array-'))\n",
    "x=np.zeros(n)\n",
    "for i in range(len(x)):\n",
    "\tx[i]=int(input('Enter the elements-'))\n",
    "print(x)\n",
    "a=int(input('Enter how many numbers to delete-'))\n",
    "for i in range(a):\n",
    "\tz=int(input('enter the index number to delete-'))\n",
    "\tm.append(z)\n",
    "y=np.delete(x,m)\n",
    "print(y)"
   ]
  }
 ],
 "metadata": {
  "kernelspec": {
   "display_name": "Python 3",
   "language": "python",
   "name": "python3"
  },
  "language_info": {
   "codemirror_mode": {
    "name": "ipython",
    "version": 3
   },
   "file_extension": ".py",
   "mimetype": "text/x-python",
   "name": "python",
   "nbconvert_exporter": "python",
   "pygments_lexer": "ipython3",
   "version": "3.7.3"
  }
 },
 "nbformat": 4,
 "nbformat_minor": 2
}
