{
 "cells": [
  {
   "cell_type": "code",
   "execution_count": null,
   "metadata": {},
   "outputs": [],
   "source": [
    "\"\"\"Write a Python program to suppresses the use of scientific notation for small numbers in numpy array.  \n",
    "Expected Output:\n",
    "Original array elements:\n",
    "[ 1.60000000e-10 1.60000000e+00 1.20000000e+03 2.35000000e-01] \n",
    "Print array values with precision 3: \n",
    "[ 0. 1.6 1200. 0.235]\"\"\"\n",
    "\n",
    "import numpy as np\n",
    "x=[ ]\n",
    "n=int(input('Enter the size of array-'))\n",
    "for i in range(n):\n",
    "    a=float(input('Enter a number-'))\n",
    "    x.append(a)\n",
    "y=np.array() \n",
    "print(\"Original array elements:\")\n",
    "print(y)\n",
    "np.set_printoptions(suppress=True,precision=3)\n",
    "print(y)"
   ]
  }
 ],
 "metadata": {
  "kernelspec": {
   "display_name": "Python 3",
   "language": "python",
   "name": "python3"
  },
  "language_info": {
   "codemirror_mode": {
    "name": "ipython",
    "version": 3
   },
   "file_extension": ".py",
   "mimetype": "text/x-python",
   "name": "python",
   "nbconvert_exporter": "python",
   "pygments_lexer": "ipython3",
   "version": "3.7.3"
  }
 },
 "nbformat": 4,
 "nbformat_minor": 2
}
