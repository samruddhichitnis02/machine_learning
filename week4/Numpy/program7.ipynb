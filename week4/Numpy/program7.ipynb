{
 "cells": [
  {
   "cell_type": "code",
   "execution_count": null,
   "metadata": {},
   "outputs": [],
   "source": [
    "\"\"\"Write a Python program to create a 8x8 matrix and fill it with a checkerboard pattern. \n",
    "Checkerboard pattern:\n",
    "[[0 1 0 1 0 1 0 1] \n",
    "[1 0 1 0 1 0 1 0] \n",
    "[0 1 0 1 0 1 0 1] \n",
    "[1 0 1 0 1 0 1 0] \n",
    "[0 1 0 1 0 1 0 1] \n",
    "[1 0 1 0 1 0 1 0] \n",
    "[0 1 0 1 0 1 0 1] \n",
    "[1 0 1 0 1 0 1 0]]\n",
    "\"\"\"\n",
    "\n",
    "import numpy as np\n",
    "m=int(input('Enter the number of rows-'))\n",
    "n=int(input('Enter the number of coloumns-'))\n",
    "x=np.zeros((n,m))\n",
    "x[1::2,::2]=1 #Slice from 1st index row till 1+2+2… and fill all columns with 1 starting from 0th to 0+2+2… \n",
    "x[::2,1::2]=1 #Slice from 0th row till 0+2+2… and fill all columns with 1 starting from 1 to 1+2+2+…..\n",
    "print(x)"
   ]
  }
 ],
 "metadata": {
  "kernelspec": {
   "display_name": "Python 3",
   "language": "python",
   "name": "python3"
  },
  "language_info": {
   "codemirror_mode": {
    "name": "ipython",
    "version": 3
   },
   "file_extension": ".py",
   "mimetype": "text/x-python",
   "name": "python",
   "nbconvert_exporter": "python",
   "pygments_lexer": "ipython3",
   "version": "3.7.4"
  }
 },
 "nbformat": 4,
 "nbformat_minor": 4
}
