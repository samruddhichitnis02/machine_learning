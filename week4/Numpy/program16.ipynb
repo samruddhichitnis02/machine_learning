{
 "cells": [
  {
   "cell_type": "code",
   "execution_count": null,
   "metadata": {},
   "outputs": [],
   "source": [
    "\"\"\"Write a Python program to save a NumPy array to a text file. \"\"\"\n",
    "\n",
    "import numpy as np\n",
    "n=int(input('Enter the sixe of array-'))\n",
    "x=[ ]\n",
    "for i in range(n):\n",
    "    a=float(input('Enter the elements-'))\n",
    "    x.append(a)\n",
    "y=np.array(x)\n",
    "\n",
    "fn=input('Enter the file name with extention to create & save the text-')\n",
    "np.savetxt(fn,y,fmt='%1.4e')\n"
   ]
  }
 ],
 "metadata": {
  "kernelspec": {
   "display_name": "Python 3",
   "language": "python",
   "name": "python3"
  },
  "language_info": {
   "codemirror_mode": {
    "name": "ipython",
    "version": 3
   },
   "file_extension": ".py",
   "mimetype": "text/x-python",
   "name": "python",
   "nbconvert_exporter": "python",
   "pygments_lexer": "ipython3",
   "version": "3.7.3"
  }
 },
 "nbformat": 4,
 "nbformat_minor": 2
}
