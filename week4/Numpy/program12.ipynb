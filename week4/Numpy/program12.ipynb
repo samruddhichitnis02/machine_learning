{
 "cells": [
  {
   "cell_type": "code",
   "execution_count": null,
   "metadata": {},
   "outputs": [],
   "source": [
    "\"\"\"Write a Python program to find common values between two arrays. \n",
    "Expected Output:\n",
    "Array1: [ 0 10 20 40 60] \n",
    "Array2: [10, 30, 40]\n",
    "Common values between two arrays:\n",
    "[10 40] \"\"\"\n",
    "\n",
    "import numpy as np\n",
    "x=[ ] #1st array with any dimension given by user\n",
    "n=int(input('Enter the number of rows-'))\n",
    "m=int(input('Enter the number of coloumns-'))\n",
    "for i in range(n):\n",
    "\tx.append([])\n",
    "for i in range(n):\n",
    "\tfor j in range(m):\n",
    "\t\tx[i].append(j)\n",
    "\t\tx[i][j]=int(input('Enter the elements-'))\n",
    "y=np.array(x)\n",
    "print(y)\n",
    "\n",
    "z=[ ] #2nd array with any dimension given by user\n",
    "n=int(input('Enter the number of rows-'))\n",
    "m=int(input('Enter the number of coloumns-'))\n",
    "for i in range(n):\n",
    "\tz.append([])\n",
    "for i in range(n):\n",
    "\tfor j in range(m):\n",
    "\t\tz[i].append(j)\n",
    "\t\tz[i][j]=int(input('Enter the elements-'))\n",
    "p=np.array(z)\n",
    "print(p)\n",
    "\n",
    "#checking for common value in both the array using intersect1d\n",
    "print()\n",
    "print('Common Values between two arrays are-',np.intersect1d(y, p))"
   ]
  }
 ],
 "metadata": {
  "kernelspec": {
   "display_name": "Python 3",
   "language": "python",
   "name": "python3"
  },
  "language_info": {
   "codemirror_mode": {
    "name": "ipython",
    "version": 3
   },
   "file_extension": ".py",
   "mimetype": "text/x-python",
   "name": "python",
   "nbconvert_exporter": "python",
   "pygments_lexer": "ipython3",
   "version": "3.7.3"
  }
 },
 "nbformat": 4,
 "nbformat_minor": 2
}
