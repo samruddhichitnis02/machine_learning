{
 "cells": [
  {
   "cell_type": "code",
   "execution_count": null,
   "metadata": {},
   "outputs": [],
   "source": [
    "\"\"\" Write a Python program to create an array which looks like below array. \n",
    "Expected Output:\n",
    "[[ 0. 0. 0.]\n",
    "[ 1. 0. 0.]\n",
    "[ 1. 1. 0.]\n",
    "[ 1. 1. 1.]]\"\"\"\n",
    "\n",
    "import numpy as np\n",
    "n=int(input('Enter the number of rows-'))\n",
    "m=int(input('Enter the number of coloumns-'))\n",
    "k=int(input('Enter the diagonal number-')) #k is actually a subdiagonal that is a diagonal below the main diagonal\n",
    "x = np.tri(n,m,k) #returns array with ones at and below the given diagonal and zeros elsewhere.\n",
    "print(x)"
   ]
  }
 ],
 "metadata": {
  "kernelspec": {
   "display_name": "Python 3",
   "language": "python",
   "name": "python3"
  },
  "language_info": {
   "codemirror_mode": {
    "name": "ipython",
    "version": 3
   },
   "file_extension": ".py",
   "mimetype": "text/x-python",
   "name": "python",
   "nbconvert_exporter": "python",
   "pygments_lexer": "ipython3",
   "version": "3.7.3"
  }
 },
 "nbformat": 4,
 "nbformat_minor": 2
}
