{
 "cells": [
  {
   "cell_type": "code",
   "execution_count": null,
   "metadata": {},
   "outputs": [],
   "source": [
    "\"\"\"Write a Python program to create a 3-D array with ones on a diagonal and zeros elsewhere. \n",
    "Expected Output:\n",
    "[[ 1. 0. 0.]\n",
    "[ 0. 1. 0.] \n",
    "[ 0. 0. 1.]]\"\"\"\n",
    "\n",
    "\n",
    "import numpy as np\n",
    "n=int(input('Enter number of rows-'))\n",
    "m=int(input('Enter the number of coloumns-'))\n",
    "x = np.eye(n,m) #np.eye will return an array with  ones on the diagonals and zeros elsewhere\n",
    "print(x)"
   ]
  }
 ],
 "metadata": {
  "kernelspec": {
   "display_name": "Python 3",
   "language": "python",
   "name": "python3"
  },
  "language_info": {
   "codemirror_mode": {
    "name": "ipython",
    "version": 3
   },
   "file_extension": ".py",
   "mimetype": "text/x-python",
   "name": "python",
   "nbconvert_exporter": "python",
   "pygments_lexer": "ipython3",
   "version": "3.7.4"
  }
 },
 "nbformat": 4,
 "nbformat_minor": 2
}
