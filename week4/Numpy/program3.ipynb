{
 "cells": [
  {
   "cell_type": "code",
   "execution_count": null,
   "metadata": {},
   "outputs": [],
   "source": [
    "\"\"\" Write a Python program to create a null vector of size 10 and update sixth value to 11. \n",
    "[ 0. 0. 0. 0. 0. 0. 0. 0. 0. 0.] \n",
    "Update sixth value to 11 \n",
    "[ 0. 0. 0. 0. 0. 0. 11. 0. 0. 0.]\n",
    "\"\"\"\n",
    "\n",
    "\n",
    "import numpy as np\n",
    "n=int(input('Enter the size-')) #Enter the size of the null vector\n",
    "x=np.zeros(n)\n",
    "print(x)\n",
    "m=int(input('Enter the index of array whose value you want to update-')) #Enter the index position that should be updated\n",
    "l=int(input('Enter the value to update-')) #Enter the value to be updated\n",
    "x[m]=l\n",
    "print(x)\n"
   ]
  }
 ],
 "metadata": {
  "kernelspec": {
   "display_name": "Python 3",
   "language": "python",
   "name": "python3"
  },
  "language_info": {
   "codemirror_mode": {
    "name": "ipython",
    "version": 3
   },
   "file_extension": ".py",
   "mimetype": "text/x-python",
   "name": "python",
   "nbconvert_exporter": "python",
   "pygments_lexer": "ipython3",
   "version": "3.7.4"
  }
 },
 "nbformat": 4,
 "nbformat_minor": 4
}
