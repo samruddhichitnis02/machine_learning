{
 "cells": [
  {
   "cell_type": "code",
   "execution_count": null,
   "metadata": {},
   "outputs": [],
   "source": [
    "\"\"\" Write a Python program to create a contiguous flattened array. \n",
    "Original array:\n",
    "[[10 20 30] \n",
    "[20 40 50]] \n",
    "New flattened array: \n",
    "[10 20 30 20 40 50]\"\"\"\n",
    "\n",
    "import numpy as np\n",
    "x=[ ]\n",
    "n=int(input('Enter the number of rows-'))\n",
    "m=int(input('Enter the number of coloumns-'))\n",
    "for i in range(n):\n",
    "\tx.append([ ])\n",
    "for i in range(n):\n",
    "\tfor j in range(m):\n",
    "\t\tx[i].append(j)\n",
    "\t\tx[i][j]=int(input('Enter the elements-'))\n",
    "z=np.array(x)\n",
    "print(z)\n",
    "y=np.ravel(z) #ravel will convert any given array to contiguous  flattened array(A contiguous array is an array stored in an unbroken block of memory)\n",
    "print('The new flattened array is-',y)"
   ]
  }
 ],
 "metadata": {
  "kernelspec": {
   "display_name": "Python 3",
   "language": "python",
   "name": "python3"
  },
  "language_info": {
   "codemirror_mode": {
    "name": "ipython",
    "version": 3
   },
   "file_extension": ".py",
   "mimetype": "text/x-python",
   "name": "python",
   "nbconvert_exporter": "python",
   "pygments_lexer": "ipython3",
   "version": "3.7.3"
  }
 },
 "nbformat": 4,
 "nbformat_minor": 2
}
