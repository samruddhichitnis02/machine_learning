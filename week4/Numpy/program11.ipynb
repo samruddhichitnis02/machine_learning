{
 "cells": [
  {
   "cell_type": "code",
   "execution_count": null,
   "metadata": {},
   "outputs": [],
   "source": [
    "\"\"\"Write a Python program to find the number of elements of an array, length of one array element in bytes and total bytes consumed by the elements. \n",
    "Expected Output:\n",
    "Size of the array: 3\n",
    "Length of one array element in bytes: 8 \n",
    "Total bytes consumed by the elements of the array: 24 \"\"\"\n",
    "\n",
    "import numpy as np\n",
    "x=[ ]\n",
    "n=int(input('Enter the number of elements-'))\n",
    "for i in range(n):\n",
    "\ta=float(input('Enter the elements-'))\n",
    "\tx.append(a)\n",
    "y=np.array(x) #numpy array\n",
    "print('Size of the array-', y.size) #size of array\n",
    "print('Length of one array element in bytes-', y.itemsize)  #length of an array element in bytes\n",
    "print(\"Total bytes consumed by the elements of the array: \", y.nbytes)  #length of all the array elements in byte"
   ]
  }
 ],
 "metadata": {
  "kernelspec": {
   "display_name": "Python 3",
   "language": "python",
   "name": "python3"
  },
  "language_info": {
   "codemirror_mode": {
    "name": "ipython",
    "version": 3
   },
   "file_extension": ".py",
   "mimetype": "text/x-python",
   "name": "python",
   "nbconvert_exporter": "python",
   "pygments_lexer": "ipython3",
   "version": "3.7.3"
  }
 },
 "nbformat": 4,
 "nbformat_minor": 2
}
