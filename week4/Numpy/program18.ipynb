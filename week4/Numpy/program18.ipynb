{
 "cells": [
  {
   "cell_type": "code",
   "execution_count": null,
   "metadata": {},
   "outputs": [],
   "source": [
    "\"\"\"Write a Python program to change the data type of an array. \n",
    "Expected Output:\n",
    "[[ 2 4 6]\n",
    "[ 6 8 10]] \n",
    "Data type of the array x is: int32 \n",
    "New Type: float64 \n",
    "[[ 2. 4. 6.] \n",
    "[ 6. 8. 10.]]\"\"\"\n",
    "\n",
    "import numpy as np\n",
    "x=[ ]\n",
    "n=int(input('Enter the number of rows-'))\n",
    "m=int(input('Enter the number of coloumns-'))\n",
    "for i in range(n):\n",
    "\tx.append([ ])\n",
    "for i in range(n):\n",
    "\tfor j in range(m):\n",
    "\t\tx[i].append(j)\n",
    "\t\tx[i][j]=int(input('Enter the elements-'))\n",
    "y=np.array(x)\n",
    "print(y)\n",
    "print('Data type of the array y is-',(y.dtype))\n",
    "z=np.array(x,dtype='float64')\n",
    "print()\n",
    "print(z)\n",
    "print('New Data  Type is-',(z.dtype))"
   ]
  }
 ],
 "metadata": {
  "kernelspec": {
   "display_name": "Python 3",
   "language": "python",
   "name": "python3"
  },
  "language_info": {
   "codemirror_mode": {
    "name": "ipython",
    "version": 3
   },
   "file_extension": ".py",
   "mimetype": "text/x-python",
   "name": "python",
   "nbconvert_exporter": "python",
   "pygments_lexer": "ipython3",
   "version": "3.7.3"
  }
 },
 "nbformat": 4,
 "nbformat_minor": 2
}
