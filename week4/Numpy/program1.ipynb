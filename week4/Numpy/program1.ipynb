{
 "cells": [
  {
   "cell_type": "code",
   "execution_count": null,
   "metadata": {},
   "outputs": [],
   "source": [
    "\"\"\"Write a Python program to convert a list of numeric value into a one-dimensional NumPy array.  \n",
    "Expected Output:\n",
    "Original List: [12.23, 13.32, 100, 36.32] \n",
    "One-dimensional numpy array: [ 12.23 13.32 100. 36.32] \"\"\"\n",
    "\n",
    "import numpy as np\n",
    "x=[ ] #Creating a list so that we can convert it to numpy array\n",
    "n=int(input('Enter the number of elements-')) #taking the no of elements to store in list\n",
    "for i in range(n):\n",
    "    a=float(input('Enter the elements-')) #taking the list elements from user\n",
    "    x.append(a)\n",
    "print(x)\n",
    "y=np.array(x) #converting list to 1 dimensional NumPy array\n",
    "print(y)"
   ]
  }
 ],
 "metadata": {
  "kernelspec": {
   "display_name": "Python 3",
   "language": "python",
   "name": "python3"
  },
  "language_info": {
   "codemirror_mode": {
    "name": "ipython",
    "version": 3
   },
   "file_extension": ".py",
   "mimetype": "text/x-python",
   "name": "python",
   "nbconvert_exporter": "python",
   "pygments_lexer": "ipython3",
   "version": "3.7.4"
  }
 },
 "nbformat": 4,
 "nbformat_minor": 4
}
