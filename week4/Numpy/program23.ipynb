{
 "cells": [
  {
   "cell_type": "code",
   "execution_count": null,
   "metadata": {},
   "outputs": [],
   "source": [
    "\"\"\"Write a Python program to create an array of (3, 4) shape, multiply every element value by 3 and display the new array. \n",
    "Expected Output:\n",
    "Original array elements: \n",
    "[[ 0 1 2 3] \n",
    "[ 4 5 6 7] \n",
    "[ 8 9 10 11]] \n",
    "New array elements:\n",
    "[[ 0 3 6 9] \n",
    "[12 15 18 21] \n",
    "[24 27 30 33]]\"\"\"\n",
    "\n",
    "import numpy as np\n",
    "x=[ ]\n",
    "n=int(input('Enter the number of rows-'))\n",
    "m=int(input('Enter th number of coloumns-'))\n",
    "for i in range(n):\n",
    "\tx.append([ ])\n",
    "for i in range(n):\n",
    "\tfor j in range(m):\n",
    "\t\tx[i].append(j)\n",
    "\t\tx[i][j]=int(input('Enter the elements-'))\n",
    "y=np.array(x)\n",
    "print(y)\n",
    "\n",
    "k=int(input('Enter the number to multiply with the array-'))\n",
    "for i in np.nditer(y,op_flags=['readwrite']):  #nditer is an iterator object in numpy that provides many ways to visit all the elements of one or more array also by default treats the input array as readonly hence we specify readwrite using operand flags\n",
    "\ti[...]=k*i  #i[...] is ellipes which is similar to slicing & is used for slicing multidimensional array\n",
    "print(y)"
   ]
  }
 ],
 "metadata": {
  "kernelspec": {
   "display_name": "Python 3",
   "language": "python",
   "name": "python3"
  },
  "language_info": {
   "codemirror_mode": {
    "name": "ipython",
    "version": 3
   },
   "file_extension": ".py",
   "mimetype": "text/x-python",
   "name": "python",
   "nbconvert_exporter": "python",
   "pygments_lexer": "ipython3",
   "version": "3.7.3"
  }
 },
 "nbformat": 4,
 "nbformat_minor": 2
}
