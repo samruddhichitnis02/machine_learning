{
 "cells": [
  {
   "cell_type": "code",
   "execution_count": null,
   "metadata": {},
   "outputs": [],
   "source": [
    "\"\"\"Write a Python program to convert a NumPy array into Python list structure. \n",
    "Expected Output:\n",
    "Original array elements:\n",
    "[[0 1]\n",
    "[2 3] \n",
    "[4 5]] \n",
    "Array to list: \n",
    "[[0, 1], [2, 3], [4, 5]]\n",
    "\"\"\"\n",
    "\n",
    "\n",
    "import numpy as np\n",
    "n=int(input('enter the number of row-'))\n",
    "m=int(input('Enter the number of columns-'))\n",
    "k=int(input('Enter a number-'))\n",
    "try:\n",
    "    x= np.arange(k).reshape(n, m)\n",
    "    print(\"Original array elements:\")\n",
    "    print(x)\n",
    "    print(\"Array to list:\")\n",
    "    print(x.tolist())\n",
    "except:\n",
    "    print('cannot reshape array of size',k,'into shape',(n,m))\n"
   ]
  }
 ],
 "metadata": {
  "kernelspec": {
   "display_name": "Python 3",
   "language": "python",
   "name": "python3"
  },
  "language_info": {
   "codemirror_mode": {
    "name": "ipython",
    "version": 3
   },
   "file_extension": ".py",
   "mimetype": "text/x-python",
   "name": "python",
   "nbconvert_exporter": "python",
   "pygments_lexer": "ipython3",
   "version": "3.7.4"
  }
 },
 "nbformat": 4,
 "nbformat_minor": 2
}
