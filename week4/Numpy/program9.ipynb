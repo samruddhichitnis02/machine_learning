{
 "cells": [
  {
   "cell_type": "code",
   "execution_count": null,
   "metadata": {},
   "outputs": [],
   "source": [
    "\"\"\"Write a Python program to append values to the end of an array. \n",
    "Expected Output:\n",
    "Original array:\n",
    "[10, 20, 30] \n",
    "After append values to the end of the array:\n",
    "[10 20 30 40 50 60 70 80 90]\"\"\"\n",
    "\n",
    "\n",
    "import numpy as np\n",
    "x = [10, 20, 30]\n",
    "print(\"Original array-\",x)\n",
    "y=[ ]\n",
    "n=int(input('Enter the number of elements-'))\n",
    "for i in range(n):\n",
    "\ta=int(input('Enter the elements-'))\n",
    "\ty.append(a)\n",
    "x = np.append(x, [y])\n",
    "print('After appending values to the end of array-')\n",
    "print(x)"
   ]
  }
 ],
 "metadata": {
  "kernelspec": {
   "display_name": "Python 3",
   "language": "python",
   "name": "python3"
  },
  "language_info": {
   "codemirror_mode": {
    "name": "ipython",
    "version": 3
   },
   "file_extension": ".py",
   "mimetype": "text/x-python",
   "name": "python",
   "nbconvert_exporter": "python",
   "pygments_lexer": "ipython3",
   "version": "3.7.4"
  }
 },
 "nbformat": 4,
 "nbformat_minor": 4
}
