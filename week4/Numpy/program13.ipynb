{
 "cells": [
  {
   "cell_type": "code",
   "execution_count": null,
   "metadata": {},
   "outputs": [],
   "source": [
    "\"\"\"Write a Python program to find the set difference of two arrays. The set difference will return the sorted, unique values in array1 that are not in array2. \n",
    "Expected Output:\n",
    "Array1: [ 0 10 20 40 60 80]\n",
    "Array2: [10, 30, 40, 50, 70, 90] \n",
    "Set difference between two arrays:\n",
    "[ 0 20 60 80]\"\"\"\n",
    "\n",
    "\n",
    "\n",
    "import numpy as np\n",
    "x=[ ] \n",
    "n=int(input('Enter the number of rows-'))\n",
    "m=int(input('Enter the number of coloumns-'))\n",
    "for i in range(n):\n",
    "\tx.append([ ])\n",
    "for i in range(n):\n",
    "\tfor j in range(m):\n",
    "\t\tx[i].append(j)\n",
    "\t\tx[i][j]=int(input('Enter the elements-'))\n",
    "y=np.array(x) #creating 1st array by taking dimensions from user\n",
    "print('Array1-',y)\n",
    "\n",
    "z=[ ]\n",
    "n=int(input('Enter the number of rows-'))\n",
    "m=int(input('Enter the number of coloumns-'))\n",
    "for i in range(n):\n",
    "\tz.append([ ])\n",
    "for i in range(n):\n",
    "\tfor j in range(m):\n",
    "\t\tz[i].append(j)\n",
    "\t\tz[i][j]=int(input('Enter the elements-'))\n",
    "p=np.array(z)\n",
    "print('Array2-',p) #creating 2nd array by taking dimensions from user\n",
    "\n",
    "#finding the set difference of two arrays\n",
    "print('The set difference of two arrays are-',np.setdiff1d(y,p)) #setdiff1d returns 1d array of values in array1 that are not in array 2\n"
   ]
  }
 ],
 "metadata": {
  "kernelspec": {
   "display_name": "Python 3",
   "language": "python",
   "name": "python3"
  },
  "language_info": {
   "codemirror_mode": {
    "name": "ipython",
    "version": 3
   },
   "file_extension": ".py",
   "mimetype": "text/x-python",
   "name": "python",
   "nbconvert_exporter": "python",
   "pygments_lexer": "ipython3",
   "version": "3.7.4"
  }
 },
 "nbformat": 4,
 "nbformat_minor": 2
}
