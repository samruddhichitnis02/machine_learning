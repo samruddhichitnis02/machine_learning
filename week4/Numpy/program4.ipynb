{
 "cells": [
  {
   "cell_type": "code",
   "execution_count": null,
   "metadata": {},
   "outputs": [],
   "source": [
    "\"\"\"Write a Python program to reverse an array (first element becomes last).  \n",
    "Original array: \n",
    "[12 13 14 15 16 17 18 19 20 21 22 23 24 25 26 27 28 29 30 31 32 33 34 35 36 37] \n",
    "Reverse array: \n",
    "[37 36 35 34 33 32 31 30 29 28 27 26 25 24 23 22 21 20 19 18 17 16 15 14 13 12] \"\"\"\n",
    "import numpy as np\n",
    "n=int(input('Enter the size of array-'))\n",
    "x=np.zeros(n)\n",
    "for i in range(len(x)):\n",
    "    a=int(input('Enter the elements-'))\n",
    "    x[i]=a\n",
    "print(x)\n",
    "np.flip(x,0)\n"
   ]
  }
 ],
 "metadata": {
  "kernelspec": {
   "display_name": "Python 3",
   "language": "python",
   "name": "python3"
  },
  "language_info": {
   "codemirror_mode": {
    "name": "ipython",
    "version": 3
   },
   "file_extension": ".py",
   "mimetype": "text/x-python",
   "name": "python",
   "nbconvert_exporter": "python",
   "pygments_lexer": "ipython3",
   "version": "3.7.3"
  }
 },
 "nbformat": 4,
 "nbformat_minor": 4
}
