{
 "cells": [
  {
   "cell_type": "code",
   "execution_count": null,
   "metadata": {},
   "outputs": [],
   "source": [
    "\"\"\"Write a Python program to find the set exclusive-or of two arrays. Set exclusive-or will return the sorted, unique values that are in only one (not both) of the input arrays. \n",
    "Array1: [ 0 10 20 40 60 80] \n",
    "Array2: [10, 30, 40, 50, 70] \n",
    "Unique values that are in only one (not both) of the input arrays: \n",
    "[ 0 20 30 50 60 70 80]\"\"\"\n",
    "\n",
    "import numpy as np\n",
    "x=[ ]\n",
    "n=int(input('Enter the number of rows-'))\n",
    "m=int(input('Enter the number of coloumns-'))\n",
    "for i in range(n):\n",
    "\tx.append([ ])\n",
    "for i in range(n):\n",
    "\tfor j in range(m):\n",
    "\t\tx[i].append(j)\n",
    "\t\tx[i][j]=int(input('Enter the elements-'))\n",
    "y=np.array(x) #Creating 1st array\n",
    "print('Array1-',y)\n",
    "\n",
    "z=[ ]\n",
    "n=int(input('Enter the number of rows-'))\n",
    "m=int(input('Enter the number of coloumns-'))\n",
    "for i in range(n):\n",
    "\tz.append([ ])\n",
    "for i in range(n):\n",
    "\tfor j in range(m):\n",
    "\t\tz[i].append(j)\n",
    "\t\tz[i][j]=int(input('Enter the elements-'))\n",
    "p=np.array(z)\n",
    "print('Array2-',y) #Creating the 2nd array\n",
    "\n",
    "#finding  the set exclusive-or of two arrays\n",
    "print('The set exclusive-or of two arrays is-',np.setxor1d(y,p))"
   ]
  }
 ],
 "metadata": {
  "kernelspec": {
   "display_name": "Python 3",
   "language": "python",
   "name": "python3"
  },
  "language_info": {
   "codemirror_mode": {
    "name": "ipython",
    "version": 3
   },
   "file_extension": ".py",
   "mimetype": "text/x-python",
   "name": "python",
   "nbconvert_exporter": "python",
   "pygments_lexer": "ipython3",
   "version": "3.7.3"
  }
 },
 "nbformat": 4,
 "nbformat_minor": 2
}
