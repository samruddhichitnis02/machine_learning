{
 "cells": [
  {
   "cell_type": "code",
   "execution_count": null,
   "metadata": {},
   "outputs": [],
   "source": [
    "\"\"\"Write a Python program compare two arrays using numpy. \n",
    "Array a: [1 2]\n",
    "Array b: [4 5]\n",
    "a > b \n",
    "[False False]\n",
    "a >= b \n",
    "[False False] \n",
    "a < b \n",
    "[ True True] \n",
    "a <= b \n",
    "[ True True]\"\"\"\n",
    "\n",
    "\n",
    "import numpy as np\n",
    "x=[ ]\n",
    "n=int(input('Enter the number of rows-'))\n",
    "m=int(input('Enter the number of coloumns-'))\n",
    "for i in range(n):\n",
    "\tx.append([ ])\n",
    "for i in range(n):\n",
    "\tfor j in range(m):\n",
    "\t\tx[i].append(j)\n",
    "\t\tx[i][j]=int(input('Enter the elements-'))\n",
    "z=np.array(x)\n",
    "print('Array1-',z)\n",
    "\n",
    "y=[ ]\n",
    "n=int(input('Enter the number of rows-'))\n",
    "m=int(input('Enter the number of coloumns-'))\n",
    "for i in range(n):\n",
    "\ty.append([ ])\n",
    "for i in range(n):\n",
    "\tfor j in range(m):\n",
    "\t\ty[i].append(j)\n",
    "\t\ty[i][j]=int(input('Enter the elements-'))\n",
    "k=np.array(y)\n",
    "print('Array2-',k)\n",
    "\n",
    "if(z.shape==k.shape):\n",
    "\tprint('Array1>Array2')\n",
    "\tprint(np.greater(z, k))\n",
    "\tprint('Array1 >= Array2')\n",
    "\tprint(np.greater_equal(z, k))\n",
    "\tprint('Array1 < Array2')\n",
    "\tprint(np.less(z, k))\n",
    "\tprint('Array1 <= Array2')\n",
    "\tprint(np.less_equal(z, k))\n",
    "else:\n",
    "\tprint('The shape of both the arrays does not match hence comparison cannot be done')"
   ]
  }
 ],
 "metadata": {
  "kernelspec": {
   "display_name": "Python 3",
   "language": "python",
   "name": "python3"
  },
  "language_info": {
   "codemirror_mode": {
    "name": "ipython",
    "version": 3
   },
   "file_extension": ".py",
   "mimetype": "text/x-python",
   "name": "python",
   "nbconvert_exporter": "python",
   "pygments_lexer": "ipython3",
   "version": "3.7.3"
  }
 },
 "nbformat": 4,
 "nbformat_minor": 2
}
