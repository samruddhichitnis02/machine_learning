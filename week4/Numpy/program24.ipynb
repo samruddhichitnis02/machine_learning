{
 "cells": [
  {
   "cell_type": "code",
   "execution_count": null,
   "metadata": {},
   "outputs": [],
   "source": [
    "\"\"\"Write a Python program to convert a NumPy array into Python list structure. \n",
    "Expected Output:\n",
    "Original array elements:\n",
    "[ 0.26153123 0.52760141 0.5718299 0.5927067 0.7831874 0.69746349 \n",
    "0.35399976 0.99469633 0.0694458 0.54711478] \n",
    "Print array values with precision 3: \n",
    "[ 0.262 0.528 0.572 0.593 0.783 0.697 0.354 0.995 0.069 0.547]\"\"\"\n",
    "\n",
    "import numpy as np\n",
    "n=int(input('Enter a number-'))\n",
    "\n",
    "x=np.zeros(n)\n",
    "for i in range(len(x)):\n",
    "\tx[i]=float(input('Enter the elements-'))\n",
    "\n",
    "x=list(np.around(x,3)) #around will take an array as input and convert the precison to given precision as argument\n",
    "print(x)"
   ]
  }
 ],
 "metadata": {
  "kernelspec": {
   "display_name": "Python 3",
   "language": "python",
   "name": "python3"
  },
  "language_info": {
   "codemirror_mode": {
    "name": "ipython",
    "version": 3
   },
   "file_extension": ".py",
   "mimetype": "text/x-python",
   "name": "python",
   "nbconvert_exporter": "python",
   "pygments_lexer": "ipython3",
   "version": "3.7.3"
  }
 },
 "nbformat": 4,
 "nbformat_minor": 2
}
