{
 "cells": [
  {
   "cell_type": "code",
   "execution_count": null,
   "metadata": {},
   "outputs": [],
   "source": [
    "\"\"\"Write a Python program to create a 2d array with 1 on the border and 0 inside.  \n",
    "Expected Output:\n",
    "Original array: \n",
    "[[ 1. 1. 1. 1. 1.] \n",
    "[ 1. 1. 1. 1. 1.] \n",
    "[ 1. 1. 1. 1. 1.] \n",
    "[ 1. 1. 1. 1. 1.] \n",
    "[ 1. 1. 1. 1. 1.]] \n",
    "1 on the border and 0 inside in the array \n",
    "[[ 1. 1. 1. 1. 1.] \n",
    "[ 1. 0. 0. 0. 1.] \n",
    "[ 1. 0. 0. 0. 1.] \n",
    "[ 1. 0. 0. 0. 1.] \n",
    "[ 1. 1. 1. 1. 1.]]\n",
    "\"\"\"\n",
    "import numpy as np\n",
    "n=int(input('Enter the number of rows of array-')) #rows of the 2d array\n",
    "m=int(input('Enter the number of coloumns of array-')) #coloumns of the 2d array\n",
    "x=np.ones((n,m))#assigning all the values of 2d array to 1\n",
    "print(x)\n",
    "x[1:-1,1:-1]=0 #changing the value of row from 1 to-1 to zero & changing the value of coloumn from 1 to -1 to zero \n",
    "print(x)"
   ]
  }
 ],
 "metadata": {
  "kernelspec": {
   "display_name": "Python 3",
   "language": "python",
   "name": "python3"
  },
  "language_info": {
   "codemirror_mode": {
    "name": "ipython",
    "version": 3
   },
   "file_extension": ".py",
   "mimetype": "text/x-python",
   "name": "python",
   "nbconvert_exporter": "python",
   "pygments_lexer": "ipython3",
   "version": "3.7.3"
  }
 },
 "nbformat": 4,
 "nbformat_minor": 4
}
