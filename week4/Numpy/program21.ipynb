{
 "cells": [
  {
   "cell_type": "code",
   "execution_count": null,
   "metadata": {},
   "outputs": [],
   "source": [
    "\"\"\" Write a Python program to concatenate two 2-dimensional arrays. \n",
    "Expected Output:\n",
    "Sample arrays: ([[0, 1, 3], [5, 7, 9]], [[0, 2, 4], [6, 8, 10]]\n",
    "Expected Output:\n",
    "[[ 0 1 3 0 2 4]\n",
    "[ 5 7 9 6 8 10]] \"\"\"\n",
    "\n",
    "\n",
    "import numpy as np\n",
    "x=[ ]\n",
    "n=int(input('Enter the number of rows-'))\n",
    "m=int(input('Enter the number of coloumns-'))\n",
    "for i in range(n):\n",
    "\tx.append([ ])\n",
    "for i in range(n):\n",
    "\tfor j in range(m):\n",
    "\t\tx[i].append(j)\n",
    "\t\tx[i][j]=int(input('Enter the elements-'))\n",
    "z=np.array(x)\n",
    "print(z)\n",
    "\n",
    "y=[ ]\n",
    "n=int(input('Enter the numberof rows-'))\n",
    "m=int(input('Enter the number of coloumns-'))\n",
    "for i in range(n):\n",
    "\ty.append([ ])\n",
    "for i in range(n):\n",
    "\tfor j in range(m):\n",
    "\t\ty[i].append(j)\n",
    "\t\ty[i][j]=int(input('Enter the elements-'))\n",
    "k=np.array(y)\n",
    "print(k)\n",
    "\n",
    "if(np.shape(z)==np.shape(k)): #for 2 arrays to concatenate along axis1 the shape of the arrays must be same\n",
    "\tc=np.concatenate((z,k),axis=1) #the two arrays z and k will be concatenated along the axis 1\n",
    "\tprint(c)\n",
    "else:\n",
    "\tprint('The array does not have the same shape so cannot concatenate-')"
   ]
  }
 ],
 "metadata": {
  "kernelspec": {
   "display_name": "Python 3",
   "language": "python",
   "name": "python3"
  },
  "language_info": {
   "codemirror_mode": {
    "name": "ipython",
    "version": 3
   },
   "file_extension": ".py",
   "mimetype": "text/x-python",
   "name": "python",
   "nbconvert_exporter": "python",
   "pygments_lexer": "ipython3",
   "version": "3.7.4"
  }
 },
 "nbformat": 4,
 "nbformat_minor": 2
}
