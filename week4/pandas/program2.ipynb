{
 "cells": [
  {
   "cell_type": "code",
   "execution_count": 3,
   "metadata": {},
   "outputs": [
    {
     "name": "stdin",
     "output_type": "stream",
     "text": [
      "Enter the size of the series- 5\n",
      "Enter the elements- 1\n",
      "Enter the elements- 2\n",
      "Enter the elements- 3\n",
      "Enter the elements- 4\n",
      "Enter the elements- 5\n"
     ]
    },
    {
     "name": "stdout",
     "output_type": "stream",
     "text": [
      "0    1.0\n",
      "1    2.0\n",
      "2    3.0\n",
      "3    4.0\n",
      "4    5.0\n",
      "dtype: float64\n",
      "Convert Pandas Series to Python list\n",
      "[1.0, 2.0, 3.0, 4.0, 5.0]\n",
      "<class 'list'>\n"
     ]
    }
   ],
   "source": [
    "\"\"\"Write a Python program to convert a Panda module Series to Python list and it's type\"\"\"\n",
    "\n",
    "import numpy as np\n",
    "import pandas as pd\n",
    "n=int(input('Enter the size of the series-'))\n",
    "x=np.zeros(n) #Input in form of numpy array\n",
    "for i in range(len(x)):\n",
    "    x[i]=input('Enter the elements-')\n",
    "z=pd.Series(x) #converting numpy to pandas\n",
    "print(z)\n",
    "print('Converting Pandas Series to Python list')\n",
    "print(z.tolist()) #converting pandas to list\n",
    "print(type(z.tolist()))"
   ]
  },
  {
   "cell_type": "code",
   "execution_count": null,
   "metadata": {},
   "outputs": [],
   "source": []
  }
 ],
 "metadata": {
  "kernelspec": {
   "display_name": "Python 3",
   "language": "python",
   "name": "python3"
  },
  "language_info": {
   "codemirror_mode": {
    "name": "ipython",
    "version": 3
   },
   "file_extension": ".py",
   "mimetype": "text/x-python",
   "name": "python",
   "nbconvert_exporter": "python",
   "pygments_lexer": "ipython3",
   "version": "3.7.4"
  }
 },
 "nbformat": 4,
 "nbformat_minor": 4
}
