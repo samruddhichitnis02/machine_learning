{
 "cells": [
  {
   "cell_type": "code",
   "execution_count": 2,
   "metadata": {},
   "outputs": [
    {
     "name": "stdin",
     "output_type": "stream",
     "text": [
      "Enter the size of series- 5\n",
      "Enter the elements- 10\n",
      "Enter the elements- 20\n",
      "Enter the elements- 30\n",
      "Enter the elements- 40\n",
      "Enter the elements- 50\n"
     ]
    },
    {
     "name": "stdout",
     "output_type": "stream",
     "text": [
      "0    10\n",
      "1    20\n",
      "2    30\n",
      "3    40\n",
      "4    50\n",
      "dtype: int64\n"
     ]
    },
    {
     "name": "stdin",
     "output_type": "stream",
     "text": [
      "Enter the size of series- 5\n",
      "Enter the elements- 11\n",
      "Enter the elements- 22\n",
      "Enter the elements- 33\n",
      "Enter the elements- 44\n",
      "Enter the elements- 55\n"
     ]
    },
    {
     "name": "stdout",
     "output_type": "stream",
     "text": [
      "0    11\n",
      "1    22\n",
      "2    33\n",
      "3    44\n",
      "4    55\n",
      "dtype: int64\n",
      "\n",
      "The addition of two series is- 0     21\n",
      "1     42\n",
      "2     63\n",
      "3     84\n",
      "4    105\n",
      "dtype: int64\n",
      "\n",
      "The subtraction of two series is- 0   -1\n",
      "1   -2\n",
      "2   -3\n",
      "3   -4\n",
      "4   -5\n",
      "dtype: int64\n",
      "\n",
      "The multiplication of two series is- 0     110\n",
      "1     440\n",
      "2     990\n",
      "3    1760\n",
      "4    2750\n",
      "dtype: int64\n",
      "\n",
      "The division of series1 by series 2 is- 0    0.909091\n",
      "1    0.909091\n",
      "2    0.909091\n",
      "3    0.909091\n",
      "4    0.909091\n",
      "dtype: float64\n",
      "\n",
      "The division of series2 by series1 is- 0    1.1\n",
      "1    1.1\n",
      "2    1.1\n",
      "3    1.1\n",
      "4    1.1\n",
      "dtype: float64\n"
     ]
    }
   ],
   "source": [
    "\"\"\"Write a Python program to add, subtract, multiple and divide two Pandas Series.  \n",
    "Sample Series: [2, 4, 6, 8, 10], [1, 3, 5, 7, 9]\"\"\"\n",
    "\n",
    "\n",
    "import pandas as pd\n",
    "x=[ ]\n",
    "n=int(input('Enter the size of series-'))\n",
    "for i in range(n):\n",
    "    a=int(input('Enter the elements-'))\n",
    "    x.append(a)\n",
    "z=pd.Series(x)\n",
    "print(z)\n",
    "\n",
    "y=[ ]\n",
    "n=int(input('Enter the size of series-'))\n",
    "for i in range(n):\n",
    "    a=int(input('Enter the elements-'))\n",
    "    y.append(a)\n",
    "m=pd.Series(y)\n",
    "print(m)\n",
    "\n",
    "if(z.shape==m.shape):\n",
    "    c=z+m\n",
    "    print()\n",
    "    print('The addition of two series is-',c)\n",
    "    d=z-m\n",
    "    print()\n",
    "    print('The subtraction of two series is-',d)\n",
    "    t=z*m\n",
    "    print()\n",
    "    print('The multiplication of two series is-',t)\n",
    "    div=z/m\n",
    "    print()\n",
    "    print('The division of series1 by series 2 is-',div)\n",
    "    div1=m/z\n",
    "    print()\n",
    "    print('The division of series2 by series1 is-',div1)\n",
    "else:\n",
    "    print('Since the length of two series are not same the operations cannot be performed')"
   ]
  },
  {
   "cell_type": "code",
   "execution_count": null,
   "metadata": {},
   "outputs": [],
   "source": []
  }
 ],
 "metadata": {
  "kernelspec": {
   "display_name": "Python 3",
   "language": "python",
   "name": "python3"
  },
  "language_info": {
   "codemirror_mode": {
    "name": "ipython",
    "version": 3
   },
   "file_extension": ".py",
   "mimetype": "text/x-python",
   "name": "python",
   "nbconvert_exporter": "python",
   "pygments_lexer": "ipython3",
   "version": "3.7.4"
  }
 },
 "nbformat": 4,
 "nbformat_minor": 4
}
