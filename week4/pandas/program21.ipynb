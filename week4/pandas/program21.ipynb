{
 "cells": [
  {
   "cell_type": "code",
   "execution_count": 1,
   "metadata": {},
   "outputs": [
    {
     "name": "stdout",
     "output_type": "stream",
     "text": [
      "        name  score  attempts qualify\n",
      "a  Anastasia   12.5         1     yes\n",
      "b       Dima    9.0         3      no\n",
      "c  Katherine   16.5         2     yes\n",
      "d      James    NaN         3      no\n",
      "e      Emily    9.0         2      no\n",
      "f    Michael   20.0         3     yes\n",
      "g    Matthew   14.5         1     yes\n",
      "h      Laura    NaN         1      no\n",
      "i      Kevin    8.0         2      no\n",
      "j      Jonas   19.0         1     yes\n"
     ]
    },
    {
     "name": "stdin",
     "output_type": "stream",
     "text": [
      "Enter the coloumn name- colour\n",
      "Enter the colors- red\n",
      "Enter the colors- blue\n",
      "Enter the colors- green\n",
      "Enter the colors- saffron\n",
      "Enter the colors- yellow\n",
      "Enter the colors- violet\n",
      "Enter the colors- indigo\n",
      "Enter the colors- golden\n",
      "Enter the colors- silver\n",
      "Enter the colors- pink\n"
     ]
    },
    {
     "name": "stdout",
     "output_type": "stream",
     "text": [
      "        name  score  attempts qualify   colour\n",
      "a  Anastasia   12.5         1     yes      red\n",
      "b       Dima    9.0         3      no     blue\n",
      "c  Katherine   16.5         2     yes    green\n",
      "d      James    NaN         3      no  saffron\n",
      "e      Emily    9.0         2      no   yellow\n",
      "f    Michael   20.0         3     yes   violet\n",
      "g    Matthew   14.5         1     yes   indigo\n",
      "h      Laura    NaN         1      no   golden\n",
      "i      Kevin    8.0         2      no   silver\n",
      "j      Jonas   19.0         1     yes     pink\n"
     ]
    }
   ],
   "source": [
    "\"\"\"Write a Python program to insert a new column in existing DataFrame. \n",
    "exam_data = {'name': ['Anastasia', 'Dima', 'Katherine', 'James', 'Emily', 'Michael', 'Matthew', 'Laura', 'Kevin', 'Jonas'],\n",
    "'score': [12.5, 9, 16.5, np.nan, 9, 20, 14.5, np.nan, 8, 19],\n",
    "'attempts': [1, 3, 2, 3, 2, 3, 1, 1, 2, 1],\n",
    "'qualify': ['yes', 'no', 'yes', 'no', 'no', 'yes', 'yes', 'no', 'no', 'yes']}\n",
    "labels = ['a', 'b', 'c', 'd', 'e', 'f', 'g', 'h', 'i', 'j']\n",
    "\"\"\"\n",
    "\n",
    "import pandas as pd\n",
    "import numpy as np\n",
    "\n",
    "exam_data = {'name': ['Anastasia', 'Dima', 'Katherine', 'James', 'Emily', 'Michael', 'Matthew', 'Laura', 'Kevin', 'Jonas'],\n",
    "'score': [12.5, 9, 16.5, np.nan, 9, 20, 14.5, np.nan, 8, 19],\n",
    "'attempts': [1, 3, 2, 3, 2, 3, 1, 1, 2, 1],\n",
    "'qualify': ['yes', 'no', 'yes', 'no', 'no', 'yes', 'yes', 'no', 'no', 'yes']}\n",
    "labels = ['a', 'b', 'c', 'd', 'e', 'f', 'g', 'h', 'i', 'j']\n",
    "\n",
    "z=pd.DataFrame(exam_data,index=labels)\n",
    "print(z)\n",
    "\n",
    "col=input('Enter the coloumn name-')\n",
    "x=[ ]\n",
    "for i in range(len(exam_data['name'])):\n",
    "    a=input('Enter the colors-')\n",
    "    x.append(a)\n",
    "    \n",
    "z[col]=x #inserting a new column in existing dataframe\n",
    "print(z)"
   ]
  },
  {
   "cell_type": "code",
   "execution_count": null,
   "metadata": {},
   "outputs": [],
   "source": []
  }
 ],
 "metadata": {
  "kernelspec": {
   "display_name": "Python 3",
   "language": "python",
   "name": "python3"
  },
  "language_info": {
   "codemirror_mode": {
    "name": "ipython",
    "version": 3
   },
   "file_extension": ".py",
   "mimetype": "text/x-python",
   "name": "python",
   "nbconvert_exporter": "python",
   "pygments_lexer": "ipython3",
   "version": "3.7.4"
  }
 },
 "nbformat": 4,
 "nbformat_minor": 4
}
