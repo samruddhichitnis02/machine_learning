{
 "cells": [
  {
   "cell_type": "code",
   "execution_count": 4,
   "metadata": {},
   "outputs": [
    {
     "name": "stdout",
     "output_type": "stream",
     "text": [
      "Anastasia 12.5 1 yes\n",
      "Dima 9.0 3 no\n",
      "Katherine 16.5 2 yes\n",
      "James nan 3 no\n",
      "Emily 9.0 2 no\n",
      "Michael 20.0 3 yes\n",
      "Matthew 14.5 1 yes\n",
      "Laura nan 1 no\n",
      "Kevin 8.0 2 no\n",
      "Jonas 19.0 1 yes\n"
     ]
    }
   ],
   "source": [
    "\"\"\"Write a Python program to iterate over rows in a DataFrame\"\"\"\n",
    "\n",
    "import pandas as pd\n",
    "import numpy as np\n",
    "\n",
    "exam_data = {'name': ['Anastasia', 'Dima', 'Katherine', 'James', 'Emily', 'Michael', 'Matthew', 'Laura', 'Kevin', 'Jonas'],\n",
    "'score': [12.5, 9, 16.5, np.nan, 9, 20, 14.5, np.nan, 8, 19],\n",
    "'attempts': [1, 3, 2, 3, 2, 3, 1, 1, 2, 1],\n",
    "'qualify': ['yes', 'no', 'yes', 'no', 'no', 'yes', 'yes', 'no', 'no', 'yes']}\n",
    "labels = ['a', 'b', 'c', 'd', 'e', 'f', 'g', 'h', 'i', 'j']\n",
    "\n",
    "z=pd.DataFrame(exam_data,index=labels)\n",
    "#print(z)\n",
    "\n",
    "for index, i in z.iterrows(): #to iterate over the rows of dataframe we use iterrowswhich iterates over the keys(coloumns in dataframe) \n",
    "    print(i['name'], i['score'],i['attempts'],i['qualify'])"
   ]
  },
  {
   "cell_type": "code",
   "execution_count": null,
   "metadata": {},
   "outputs": [],
   "source": []
  }
 ],
 "metadata": {
  "kernelspec": {
   "display_name": "Python 3",
   "language": "python",
   "name": "python3"
  },
  "language_info": {
   "codemirror_mode": {
    "name": "ipython",
    "version": 3
   },
   "file_extension": ".py",
   "mimetype": "text/x-python",
   "name": "python",
   "nbconvert_exporter": "python",
   "pygments_lexer": "ipython3",
   "version": "3.7.3"
  }
 },
 "nbformat": 4,
 "nbformat_minor": 4
}
