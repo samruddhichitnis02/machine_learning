{
 "cells": [
  {
   "cell_type": "code",
   "execution_count": null,
   "metadata": {},
   "outputs": [],
   "source": [
    " \"\"\" Write a Python program to get the powers of an array values element-wise.  \n",
    "\tNote: First array elements raised to powers from second array\n",
    "\tExpected Output:\n",
    "\tOriginal array \n",
    "\t[0 1 2 3 4 5 6] \n",
    "\tFirst array elements raised to powers from second array, element-wise: \n",
    "\t[ 0 1 8 27 64 125 216]\"\"\"\n",
    "import pandas as pd\n",
    "x=[ ]\n",
    "n=int(input('Enter the number of rows-'))\n",
    "m=int(input('Enter the number of coloumns-'))\n",
    "for i in range(n):\n",
    "    x.append([ ])\n",
    "for i in range(n):\n",
    "    for j in range(m):\n",
    "        x[i].append(j)\n",
    "        x[i][j]=int(input('Enter the elements-'))\n",
    "z=pd.DataFrame(x) #Pandas DataFrame is a 2-dimensional data structure \n",
    "print(z)\n",
    "\n",
    "y=[ ]\n",
    "n=int(input('Enter the number of rows-'))\n",
    "m=int(input('Enter the number of coloumns-'))\n",
    "for i in range(n):\n",
    "    y.append([ ])\n",
    "for i in range(n):\n",
    "    for j in range(m):\n",
    "        y[i].append(j)\n",
    "        y[i][j]=int(input('Enter the elements-'))\n",
    "p=pd.DataFrame(y)\n",
    "print(p)\n",
    "\n",
    "z.pow(p) #calculates the exponential power i.e elements of z raised to the power of elements of p\n",
    "\n"
   ]
  },
  {
   "cell_type": "code",
   "execution_count": null,
   "metadata": {},
   "outputs": [],
   "source": []
  }
 ],
 "metadata": {
  "kernelspec": {
   "display_name": "Python 3",
   "language": "python",
   "name": "python3"
  },
  "language_info": {
   "codemirror_mode": {
    "name": "ipython",
    "version": 3
   },
   "file_extension": ".py",
   "mimetype": "text/x-python",
   "name": "python",
   "nbconvert_exporter": "python",
   "pygments_lexer": "ipython3",
   "version": "3.7.3"
  }
 },
 "nbformat": 4,
 "nbformat_minor": 4
}
