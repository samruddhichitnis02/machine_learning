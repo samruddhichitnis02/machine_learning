{
 "cells": [
  {
   "cell_type": "code",
   "execution_count": null,
   "metadata": {},
   "outputs": [],
   "source": [
    "\"\"\" Write a Python program to plot two or more lines with legends, different widths and colors\"\"\"\n",
    "\n",
    "\n",
    "import matplotlib.pyplot as plt\n",
    "x=[ ]\n",
    "n=int(input('Enter the number of elements-'))\n",
    "for i in range(n):\n",
    "    a=int(input('Enter the elements-'))\n",
    "    x.append(a)\n",
    "print(x)\n",
    "\n",
    "y=[ ]\n",
    "for i in range(n):\n",
    "    a=int(input('Enter the elements-'))\n",
    "    y.append(a)\n",
    "print(y)\n",
    "    \n",
    "m=[ ]\n",
    "for i in range(n):\n",
    "    a=int(input('Enter the elements-'))\n",
    "    m.append(a)\n",
    "print(m)\n",
    "\n",
    "z=[ ]\n",
    "for i in range(n):\n",
    "    a=int(input('Enter the elements-'))\n",
    "    z.append(a)\n",
    "print(z)\n",
    "\n",
    "plt.plot(x,y,color='green',linewidth=6,label='line1') #plotting 1st line\n",
    "\n",
    "plt.plot(m,z,color='blue',linewidth=4,label='line2') #plotting 2nd line\n",
    "\n",
    "plt.xlabel('x-axis')\n",
    "\n",
    "plt.ylabel('y-axis')\n",
    "\n",
    "plt.title('Data from text file.')\n",
    "\n",
    "plt.legend()\n",
    "\n",
    "plt.show()"
   ]
  }
 ],
 "metadata": {
  "kernelspec": {
   "display_name": "Python 3",
   "language": "python",
   "name": "python3"
  },
  "language_info": {
   "codemirror_mode": {
    "name": "ipython",
    "version": 3
   },
   "file_extension": ".py",
   "mimetype": "text/x-python",
   "name": "python",
   "nbconvert_exporter": "python",
   "pygments_lexer": "ipython3",
   "version": "3.7.4"
  }
 },
 "nbformat": 4,
 "nbformat_minor": 4
}
