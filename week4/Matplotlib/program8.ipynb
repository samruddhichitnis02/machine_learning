{
 "cells": [
  {
   "cell_type": "code",
   "execution_count": null,
   "metadata": {},
   "outputs": [],
   "source": [
    "\"\"\"Write a Python program to plot two or more lines and set the line markers. \n",
    "\"\"\"\n",
    "\n",
    "import matplotlib.pyplot as plt\n",
    "w=[ ]\n",
    "n=int(input('Enter the number of elements-'))\n",
    "for i in range(n):\n",
    "    a=int(input('Enter the elements-'))\n",
    "    w.append(a)\n",
    "print(w)\n",
    "\n",
    "x=[ ]\n",
    "for i in range(n):\n",
    "    b=int(input('Enter the elements-'))\n",
    "    x.append(b)\n",
    "print(x)\n",
    "\n",
    "y=[ ]\n",
    "for i in range(n):\n",
    "    c=int(input('Enter the elements-'))\n",
    "    y.append(c)\n",
    "print(y)\n",
    "\n",
    "z=[ ]\n",
    "for i in range(n):\n",
    "    d=int(input('Enter the elements-'))\n",
    "    z.append(d)\n",
    "print(z)\n",
    "\n",
    "plt.plot(w,x,'go',linestyle='dashdot',linewidth=2,label='line1') #plotting x and y using green circle markers\n",
    "\n",
    "plt.plot(y,z,'bo',linestyle='dotted',linewidth=2,label='line2') #plotting x and y using blue circle markers\n",
    "\n",
    "plt.xlabel('x-axis')\n",
    "\n",
    "plt.ylabel('y-axis')\n",
    "\n",
    "plt.title('Lines with marker.')\n",
    "\n",
    "plt.legend()\n",
    "\n",
    "plt.show()\n"
   ]
  }
 ],
 "metadata": {
  "kernelspec": {
   "display_name": "Python 3",
   "language": "python",
   "name": "python3"
  },
  "language_info": {
   "codemirror_mode": {
    "name": "ipython",
    "version": 3
   },
   "file_extension": ".py",
   "mimetype": "text/x-python",
   "name": "python",
   "nbconvert_exporter": "python",
   "pygments_lexer": "ipython3",
   "version": "3.7.3"
  }
 },
 "nbformat": 4,
 "nbformat_minor": 4
}
