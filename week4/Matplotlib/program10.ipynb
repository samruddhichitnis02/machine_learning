{
 "cells": [
  {
   "cell_type": "code",
   "execution_count": 2,
   "metadata": {},
   "outputs": [
    {
     "name": "stdout",
     "output_type": "stream",
     "text": [
      "Enter the number of elements-4\n",
      "Enter the elements-1\n",
      "Enter the elements-2\n",
      "Enter the elements-3\n",
      "Enter the elements-4\n",
      "[1, 2, 3, 4]\n",
      "Enter the elements-11\n",
      "Enter the elements-22\n",
      "Enter the elements-33\n",
      "Enter the elements-44\n",
      "[11, 22, 33, 44]\n",
      "Enter the elements-1\n",
      "Enter the elements-2\n",
      "Enter the elements-3\n",
      "Enter the elements-4\n",
      "[1, 2, 3, 4]\n",
      "Enter the elements-10\n",
      "Enter the elements-20\n",
      "Enter the elements-30\n",
      "Enter the elements-40\n",
      "[10, 20, 30, 40]\n"
     ]
    },
    {
     "data": {
      "image/png": "[encoded data removed]",
      "text/plain": [
       "<Figure size 432x288 with 1 Axes>"
      ]
     },
     "metadata": {
      "needs_background": "light"
     },
     "output_type": "display_data"
    }
   ],
   "source": [
    " \"\"\" Write a Python program to plot quantities which have an x and y position.\n",
    "\"\"\"\n",
    "\n",
    "\n",
    "    \n",
    "import pylab as pl\n",
    "\n",
    "w=[ ]\n",
    "n=int(input('Enter the number of elements-'))\n",
    "for i in range(n):\n",
    "    a=int(input('Enter the elements-'))\n",
    "    w.append(a)\n",
    "print(w)\n",
    "\n",
    "x=[ ]\n",
    "for i in range(n):\n",
    "    b=int(input('Enter the elements-'))\n",
    "    x.append(b)\n",
    "print(x)\n",
    "\n",
    "y=[ ]\n",
    "for i in range(n):\n",
    "    c=int(input('Enter the elements-'))\n",
    "    y.append(c)\n",
    "print(y)\n",
    "\n",
    "z=[ ]\n",
    "for i in range(n):\n",
    "    d=int(input('Enter the elements-'))\n",
    "    z.append(d)\n",
    "print(z)\n",
    "\n",
    "pl.plot(w,x,'go',label='line1') #plotting x and y using green circle markers\n",
    "\n",
    "pl.plot(y,z,'bs',label='line2') #plotting x and y using blue square markers\n",
    "\n",
    "pl.xlabel('x-axis')\n",
    "\n",
    "pl.ylabel('y-axis')\n",
    "\n",
    "pl.title('Lines with marker.')\n",
    "\n",
    "pl.legend()\n",
    "\n",
    "pl.show()"
   ]
  },
  {
   "cell_type": "code",
   "execution_count": null,
   "metadata": {},
   "outputs": [],
   "source": []
  }
 ],
 "metadata": {
  "kernelspec": {
   "display_name": "Python 3",
   "language": "python",
   "name": "python3"
  },
  "language_info": {
   "codemirror_mode": {
    "name": "ipython",
    "version": 3
   },
   "file_extension": ".py",
   "mimetype": "text/x-python",
   "name": "python",
   "nbconvert_exporter": "python",
   "pygments_lexer": "ipython3",
   "version": "3.7.4"
  }
 },
 "nbformat": 4,
 "nbformat_minor": 4
}
