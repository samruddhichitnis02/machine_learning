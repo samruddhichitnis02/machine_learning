{
 "cells": [
  {
   "cell_type": "code",
   "execution_count": null,
   "metadata": {},
   "outputs": [],
   "source": [
    "\"\"\"Write a Python program to display the grid and draw line charts of the closing value of Alphabet Inc. \n",
    "between October 3, 2016 to October 7, 2016. Customized the grid lines with linestyle -, width .5. and color blue.\n",
    "Date,Close\n",
    "03-10-16,772.559998\n",
    "04-10-16,776.429993\n",
    "05-10-16,776.469971\n",
    "06-10-16,776.859985\n",
    "07-10-16,775.080017\n",
    "\"\"\"\n",
    "\n",
    "import matplotlib.pyplot as plt\n",
    "import pandas as pd\n",
    "\n",
    "x=[ ]\n",
    "y=[ ]\n",
    "\n",
    "data=pd.read_csv('dates.csv')\n",
    "\n",
    "for index, i in data.iterrows():\n",
    "    x.append(i['Date'])\n",
    "\n",
    "for index, i in data.iterrows():\n",
    "    y.append(i['Close'])\n",
    "\n",
    "plt.plot(x,y)\n",
    "plt.xlabel('Date')\n",
    "plt.ylabel('Closing Value')\n",
    "plt.grid(which='major',linewidth=1,linestyle='-',color='red')\n",
    "plt.title('closing value of Alphabet Inc')\n",
    "plt.show()\n",
    "    \n"
   ]
  }
 ],
 "metadata": {
  "kernelspec": {
   "display_name": "Python 3",
   "language": "python",
   "name": "python3"
  },
  "language_info": {
   "codemirror_mode": {
    "name": "ipython",
    "version": 3
   },
   "file_extension": ".py",
   "mimetype": "text/x-python",
   "name": "python",
   "nbconvert_exporter": "python",
   "pygments_lexer": "ipython3",
   "version": "3.7.3"
  }
 },
 "nbformat": 4,
 "nbformat_minor": 2
}
