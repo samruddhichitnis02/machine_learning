{
 "cells": [
  {
   "cell_type": "code",
   "execution_count": null,
   "metadata": {},
   "outputs": [],
   "source": [
    "\"\"\"Write a Python program to create bar plot from a DataFrame. \n",
    "Sample Data Frame:\n",
    "a b c d e \n",
    "2 4,8,5,7,6\n",
    "4 2,3,4,2,6\n",
    "6 4,7,4,7,8\n",
    "8 2,6,4,8,6\n",
    "10 2,4,3,3,2\n",
    "\"\"\"\n",
    "\n",
    "import pandas as pd\n",
    "import matplotlib.pyplot as plt\n",
    "import numpy as np\n",
    "\n",
    "a=np.array([[4,8,5,7,6],[2,3,4,2,6],[4,7,4,7,8],[2,6,4,8,6],[2,4,3,3,2]])\n",
    "c=['a','b','c','d','e']\n",
    "label=[2,4,6,8,10]\n",
    "d=pd.DataFrame(a,columns=c,index=label)\n",
    "\n",
    "\n",
    "d.plot(kind='bar') #plotting vertical bar graph using plot kind\n",
    "\n",
    "plt.show()\n"
   ]
  }
 ],
 "metadata": {
  "kernelspec": {
   "display_name": "Python 3",
   "language": "python",
   "name": "python3"
  },
  "language_info": {
   "codemirror_mode": {
    "name": "ipython",
    "version": 3
   },
   "file_extension": ".py",
   "mimetype": "text/x-python",
   "name": "python",
   "nbconvert_exporter": "python",
   "pygments_lexer": "ipython3",
   "version": "3.7.4"
  }
 },
 "nbformat": 4,
 "nbformat_minor": 4
}
