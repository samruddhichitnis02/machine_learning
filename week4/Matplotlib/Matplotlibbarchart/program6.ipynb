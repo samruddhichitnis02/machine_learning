{
 "cells": [
  {
   "cell_type": "code",
   "execution_count": null,
   "metadata": {},
   "outputs": [],
   "source": [
    "\"\"\"Write a Python programming to display a bar chart of the popularity of programming Languages. \n",
    "Make blue border to each bar. \"\"\"\n",
    "\n",
    "\n",
    "import matplotlib.pyplot as plt\n",
    "import numpy as np\n",
    "\n",
    "Programming_languages=['Java','Python','PHP','JavaScript','C#','C++']\n",
    "Popularity=[22.2,17.6,8.8,8,7.7,6.7]\n",
    "\n",
    "ypos=np.arange(len(Programming_languages))\n",
    "\n",
    "plt.bar(ypos,Popularity,edgecolor='blue') #making blue border to each bar\n",
    "plt.xticks(ypos,Programming_languages)\n",
    "\n",
    "\n",
    "plt.xlabel('Programming Languages')\n",
    "plt.ylabel('Popularity')\n",
    "plt.title('Programming Languages Vs Popularity')\n",
    "plt.show()"
   ]
  }
 ],
 "metadata": {
  "kernelspec": {
   "display_name": "Python 3",
   "language": "python",
   "name": "python3"
  },
  "language_info": {
   "codemirror_mode": {
    "name": "ipython",
    "version": 3
   },
   "file_extension": ".py",
   "mimetype": "text/x-python",
   "name": "python",
   "nbconvert_exporter": "python",
   "pygments_lexer": "ipython3",
   "version": "3.7.3"
  }
 },
 "nbformat": 4,
 "nbformat_minor": 4
}
