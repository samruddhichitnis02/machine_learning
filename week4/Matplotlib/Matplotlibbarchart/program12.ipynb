{
 "cells": [
  {
   "cell_type": "code",
   "execution_count": null,
   "metadata": {},
   "outputs": [],
   "source": [
    "\"\"\"Write a Python program to create bar plots with error bars on the same figure. Sample Dat\n",
    "Mean velocity: 0.2474, 0.1235, 0.1737, 0.1824\n",
    "Standard deviation of velocity: 0.3314, 0.2278, 0.2836, 0.2645\n",
    "\"\"\"\n",
    "\n",
    "import numpy as np\n",
    "import matplotlib.pyplot as plt\n",
    "\n",
    "Mean_Velocity= []\n",
    "n=int(input('Enter the number of elements-'))\n",
    "for i in range(n):\n",
    "    a=float(input('Enter the mean velocities-'))\n",
    "    Mean_Velocity.append(a)\n",
    "print(Mean_Velocity)\n",
    "\n",
    "Standard_Deviation=[]\n",
    "for i in range(n):\n",
    "    b=float(input('Enter the Standard deviations-'))\n",
    "    Standard_Deviation.append(b)\n",
    "print(Standard_Deviation)\n",
    "\n",
    "index = np.arange(len(Mean_Velocity))    \n",
    "\n",
    "width = 0.35   \n",
    "plt.bar(index, Mean_Velocity,yerr=Standard_Deviation, color='red') #yerr will add errorbars to the bar tips with + and - sizes relative to the data\n",
    "plt.minorticks_on()\n",
    "plt.grid(which='major', linestyle='-', linewidth='0.5', color='green')\n",
    "plt.grid(which='minor', linestyle=':', linewidth='0.5', color='black')\n",
    "plt.ylabel('Scores')\n",
    "plt.xlabel('Velocity')\n",
    "plt.title('Scores by Velocity')\n",
    "plt.show()"
   ]
  }
 ],
 "metadata": {
  "kernelspec": {
   "display_name": "Python 3",
   "language": "python",
   "name": "python3"
  },
  "language_info": {
   "codemirror_mode": {
    "name": "ipython",
    "version": 3
   },
   "file_extension": ".py",
   "mimetype": "text/x-python",
   "name": "python",
   "nbconvert_exporter": "python",
   "pygments_lexer": "ipython3",
   "version": "3.7.3"
  }
 },
 "nbformat": 4,
 "nbformat_minor": 4
}
