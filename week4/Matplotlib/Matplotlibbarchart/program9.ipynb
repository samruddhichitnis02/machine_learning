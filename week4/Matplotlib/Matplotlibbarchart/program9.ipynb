{
 "cells": [
  {
   "cell_type": "code",
   "execution_count": 1,
   "metadata": {},
   "outputs": [
    {
     "data": {
      "text/plain": [
       "<Figure size 640x480 with 1 Axes>"
      ]
     },
     "metadata": {},
     "output_type": "display_data"
    }
   ],
   "source": [
    "\"\"\"Write a Python programming to display a bar chart of the popularity of programming Languages. Increase bottom margin. \n",
    "Sample data: \n",
    "Programming languages: Java, Python, PHP, JavaScript, C#, C++\n",
    "Popularity: 22.2, 17.6, 8.8, 8, 7.7, 6.7\n",
    "\"\"\"\n",
    "\n",
    "import matplotlib.pyplot as plt\n",
    "import numpy as np\n",
    "\n",
    "Programming_languages=['Java','Python','PHP','JavaScript','C#','C++']\n",
    "Popularity=[22.2,17.6,8.8,8,7.7,6.7]\n",
    "\n",
    "ypos=np.arange(len(Programming_languages))\n",
    "plt.xticks(ypos,Programming_languages,rotation=90)\n",
    "plt.subplots_adjust(bottom=0.3, top=0.9) #Expanding the bottom moargin & top margin if you need more space or to make the axis labels fully readable\n",
    "plt.bar(ypos,Popularity)\n",
    "plt.xlabel('Programming Languages')\n",
    "plt.ylabel('Popularity')\n",
    "plt.title('Programming Languages Vs Popularity')\n",
    "plt.show()"
   ]
  },
  {
   "cell_type": "code",
   "execution_count": null,
   "metadata": {},
   "outputs": [],
   "source": []
  }
 ],
 "metadata": {
  "kernelspec": {
   "display_name": "Python 3",
   "language": "python",
   "name": "python3"
  },
  "language_info": {
   "codemirror_mode": {
    "name": "ipython",
    "version": 3
   },
   "file_extension": ".py",
   "mimetype": "text/x-python",
   "name": "python",
   "nbconvert_exporter": "python",
   "pygments_lexer": "ipython3",
   "version": "3.7.3"
  }
 },
 "nbformat": 4,
 "nbformat_minor": 4
}
