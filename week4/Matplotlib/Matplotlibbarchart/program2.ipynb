{
 "cells": [
  {
   "cell_type": "code",
   "execution_count": null,
   "metadata": {},
   "outputs": [],
   "source": [
    "\"\"\"Write a Python programming to display a horizontal bar chart of the popularity of programming Languages. \n",
    "Sample data: \n",
    "Programming languages: Java, Python, PHP, JavaScript, C#, C++\n",
    "Popularity: 22.2, 17.6, 8.8, 8, 7.7, 6.7\n",
    "\"\"\"\n",
    "\n",
    "import matplotlib.pyplot as plt\n",
    "import numpy as np\n",
    "\n",
    "Programming_languages=['Java','Python','PHP','JavaScript','C#','C++']\n",
    "Popularity=[22.2,17.6,8.8,8,7.7,6.7]\n",
    "ypos=np.arange(len(Programming_languages)) #generte the position\n",
    "\n",
    "plt.barh(ypos,Popularity) #barh will display horizontal barchart\n",
    "\n",
    "plt.yticks(ypos,Programming_languages) #place the ticks(labels) at given positions(ypos)\n",
    "\n",
    "plt.xlabel('Popularity')\n",
    "\n",
    "plt.ylabel('Programming Languages')\n",
    "\n",
    "plt.title('Programming Language Vs Popularity')\n",
    "\n",
    "plt.show()"
   ]
  }
 ],
 "metadata": {
  "kernelspec": {
   "display_name": "Python 3",
   "language": "python",
   "name": "python3"
  },
  "language_info": {
   "codemirror_mode": {
    "name": "ipython",
    "version": 3
   },
   "file_extension": ".py",
   "mimetype": "text/x-python",
   "name": "python",
   "nbconvert_exporter": "python",
   "pygments_lexer": "ipython3",
   "version": "3.7.4"
  }
 },
 "nbformat": 4,
 "nbformat_minor": 4
}
