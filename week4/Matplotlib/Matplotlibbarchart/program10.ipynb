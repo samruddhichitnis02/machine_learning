{
 "cells": [
  {
   "cell_type": "code",
   "execution_count": null,
   "metadata": {},
   "outputs": [],
   "source": [
    "\"\"\"Write a Python program to create bar plot of scores by group and gender. Use multiple X values on\n",
    "the same chart for men and women.\n",
    "Sample Data:\n",
    "Means (men) = (22, 30, 35, 35, 26)\n",
    "Means (women) = (25, 32, 30, 35, 29)\"\"\"\n",
    "\n",
    "import matplotlib.pyplot as plt\n",
    "import numpy as np\n",
    "\n",
    "Men=[22, 30, 35, 35, 26]\n",
    "Women=[25, 32, 30, 35, 29]\n",
    "\n",
    "\n",
    "index = np.arange(len(Men))\n",
    "bar_width = 0.3\n",
    "\n",
    "rects1 = plt.bar(index, Men, bar_width,color='g',label='Men') #The men's bar will be plotted at given position(index) also the width of the men's bar is specified\n",
    "rects2 = plt.bar(index + bar_width, Women, bar_width,color='r',label='Women') #The women's bar is plotted at index postion of men+width of the bar of women's bar\n",
    "plt.xlabel('Groups')\n",
    "plt.ylabel('Scores')\n",
    "plt.title('Scores by person')\n",
    "plt.xticks(index + bar_width, ('G1', 'G2', 'G3', 'G4', 'G5'))\n",
    "plt.legend()\n",
    "\n",
    "plt.show()\n",
    "\n"
   ]
  }
 ],
 "metadata": {
  "kernelspec": {
   "display_name": "Python 3",
   "language": "python",
   "name": "python3"
  },
  "language_info": {
   "codemirror_mode": {
    "name": "ipython",
    "version": 3
   },
   "file_extension": ".py",
   "mimetype": "text/x-python",
   "name": "python",
   "nbconvert_exporter": "python",
   "pygments_lexer": "ipython3",
   "version": "3.7.4"
  }
 },
 "nbformat": 4,
 "nbformat_minor": 4
}
