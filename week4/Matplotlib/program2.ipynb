{
 "cells": [
  {
   "cell_type": "code",
   "execution_count": null,
   "metadata": {},
   "outputs": [],
   "source": [
    "\"\"\"Write a Python program to draw a line using given axis values with suitable label in the x axis ,\n",
    "y axis and a title\"\"\"\n",
    "\n",
    "\n",
    "#Taking axis values from users\n",
    "import matplotlib.pyplot as plt\n",
    "x=[ ]\n",
    "n=int(input('Enter the number of elements-'))\n",
    "for i in range(n):\n",
    "    a=int(input('Enter the elements-'))\n",
    "    x.append(a)\n",
    "print(x)\n",
    "\n",
    "y=[ ]\n",
    "for i in range(n):\n",
    "    a=int(input('Enter the elements-'))\n",
    "    y.append(a)\n",
    "print(y)\n",
    "\n",
    "plt.plot(x,y)\n",
    "\n",
    "plt.xlabel('X-axis')\n",
    "\n",
    "plt.ylabel('Y-axis')\n",
    "\n",
    "plt.title('Line with input from users')\n",
    "\n",
    "plt.show()\n"
   ]
  }
 ],
 "metadata": {
  "kernelspec": {
   "display_name": "Python 3",
   "language": "python",
   "name": "python3"
  },
  "language_info": {
   "codemirror_mode": {
    "name": "ipython",
    "version": 3
   },
   "file_extension": ".py",
   "mimetype": "text/x-python",
   "name": "python",
   "nbconvert_exporter": "python",
   "pygments_lexer": "ipython3",
   "version": "3.7.3"
  }
 },
 "nbformat": 4,
 "nbformat_minor": 4
}
