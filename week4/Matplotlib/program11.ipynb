{
 "cells": [
  {
   "cell_type": "code",
   "execution_count": null,
   "metadata": {},
   "outputs": [],
   "source": [
    "\"\"\"Write a Python program to plot several lines with different format styles in one command using arrays. \n",
    "\"\"\"\n",
    "\n",
    "\n",
    "\n",
    "#plots several lines using numpy arrays\n",
    "import numpy as np\n",
    "import matplotlib.pyplot as plt\n",
    "\n",
    "n=float(input('Enter the start interval-'))\n",
    "m=float(input('Enter the stop interval-'))\n",
    "k=float(input('Enter the step size-'))\n",
    "t = np.arange(n,m,k)\n",
    "print(t)\n",
    "\n",
    "plt.plot(t, t,'bo',t,t*2,'gs',t,t*3,'r')\n",
    "plt.show()"
   ]
  }
 ],
 "metadata": {
  "kernelspec": {
   "display_name": "Python 3",
   "language": "python",
   "name": "python3"
  },
  "language_info": {
   "codemirror_mode": {
    "name": "ipython",
    "version": 3
   },
   "file_extension": ".py",
   "mimetype": "text/x-python",
   "name": "python",
   "nbconvert_exporter": "python",
   "pygments_lexer": "ipython3",
   "version": "3.7.4"
  }
 },
 "nbformat": 4,
 "nbformat_minor": 4
}
