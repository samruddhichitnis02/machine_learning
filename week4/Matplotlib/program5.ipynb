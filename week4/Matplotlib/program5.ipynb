{
 "cells": [
  {
   "cell_type": "code",
   "execution_count": null,
   "metadata": {},
   "outputs": [],
   "source": [
    "\"\"\"Write a Python program to plot two or more lines on same plot with suitable legends of each line.\n",
    "\"\"\"\n",
    "import matplotlib.pyplot as plt\n",
    "x=[ ]\n",
    "n=int(input('Enter the number of elements-'))\n",
    "for i in range(n):\n",
    "    a=int(input('Enter the elements-'))\n",
    "    x.append(a)\n",
    "print(x)\n",
    "\n",
    "y=[ ]\n",
    "for i in range(n):\n",
    "    a=int(input('Enter the elements-'))\n",
    "    y.append(a)\n",
    "print(y)\n",
    "    \n",
    "m=[ ]\n",
    "for i in range(n):\n",
    "    a=int(input('Enter the elements-'))\n",
    "    m.append(a)\n",
    "print(m)\n",
    "\n",
    "z=[ ]\n",
    "for i in range(n):\n",
    "    a=int(input('Enter the elements-'))\n",
    "    z.append(a)\n",
    "print(z)\n",
    "\n",
    "plt.plot(x,y,label='line1')\n",
    "\n",
    "plt.plot(m,z,label='line2')\n",
    "\n",
    "plt.xlabel('x-axis')\n",
    "\n",
    "plt.ylabel('y-axis')\n",
    "\n",
    "plt.title('Data from text file.')\n",
    "\n",
    "plt.legend()\n",
    "\n",
    "plt.show()\n",
    "\n"
   ]
  }
 ],
 "metadata": {
  "kernelspec": {
   "display_name": "Python 3",
   "language": "python",
   "name": "python3"
  },
  "language_info": {
   "codemirror_mode": {
    "name": "ipython",
    "version": 3
   },
   "file_extension": ".py",
   "mimetype": "text/x-python",
   "name": "python",
   "nbconvert_exporter": "python",
   "pygments_lexer": "ipython3",
   "version": "3.7.3"
  }
 },
 "nbformat": 4,
 "nbformat_minor": 4
}
