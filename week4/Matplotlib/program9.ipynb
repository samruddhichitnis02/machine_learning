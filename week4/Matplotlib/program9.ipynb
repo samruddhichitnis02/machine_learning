{
 "cells": [
  {
   "cell_type": "code",
   "execution_count": null,
   "metadata": {},
   "outputs": [],
   "source": [
    "\"\"\"Write a Python program to display the current axis limits values and set new axis values. \n",
    "\"\"\"\n",
    "import matplotlib.pyplot as plt\n",
    "\n",
    "X = [1,2,3,4,5,6,7,8,9,10]\n",
    "Y = [10,20,30,40,50,60,70,80,90,100]\n",
    "\n",
    "print(plt.axis()) #shows the axis limits of x and y\n",
    "\n",
    "plt.plot(X, Y)\n",
    "\n",
    "plt.xlabel('x - axis')\n",
    "\n",
    "plt.ylabel('y - axis')\n",
    "\n",
    "plt.title('line')\n",
    "\n",
    "xmin=int(input('Enter the lower limit of x axis-'))\n",
    "xmax=int(input('Enter the upper limit of x axis-'))\n",
    "ymin=int(input('Enter the lower limit of y axis-'))\n",
    "ymax=int(input('Enter the upper limit of y axis-'))\n",
    "\n",
    "plt.axis([xmin, xmax, ymin, ymax]) \n",
    "print(plt.axis()) #shows the axis limits of x and y after changing the axis limits\n",
    "# Display the figure.\n",
    "plt.show()"
   ]
  }
 ],
 "metadata": {
  "kernelspec": {
   "display_name": "Python 3",
   "language": "python",
   "name": "python3"
  },
  "language_info": {
   "codemirror_mode": {
    "name": "ipython",
    "version": 3
   },
   "file_extension": ".py",
   "mimetype": "text/x-python",
   "name": "python",
   "nbconvert_exporter": "python",
   "pygments_lexer": "ipython3",
   "version": "3.7.3"
  }
 },
 "nbformat": 4,
 "nbformat_minor": 2
}
