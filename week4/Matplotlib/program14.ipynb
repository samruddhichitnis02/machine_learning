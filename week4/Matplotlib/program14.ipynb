{
 "cells": [
  {
   "cell_type": "code",
   "execution_count": null,
   "metadata": {},
   "outputs": [],
   "source": [
    "\"\"\"Write a Python program to display the grid and draw line charts of the closing value of Alphabet Inc. \n",
    "between October 3, 2016 to October 7, 2016. Customized the grid lines with rendering with a larger grid \n",
    "(major grid) and a smaller grid (minor grid).Turn on the grid but turn off ticks. \n",
    "\"\"\"\n",
    "\n",
    "import matplotlib.pyplot as plt\n",
    "import pandas as pd\n",
    "x=[ ]\n",
    "y=[ ]\n",
    "\n",
    "data=pd.read_csv('dates.csv')\n",
    "\n",
    "for index, i in data.iterrows():\n",
    "    x.append(i['Date'])\n",
    "\n",
    "for index, i in data.iterrows():\n",
    "    y.append(i['Close'])\n",
    "    \n",
    "plt.plot(x,y)\n",
    "plt.xlabel('Date')\n",
    "plt.ylabel('Closing Value')\n",
    "plt.grid(which='major',linewidth=1,linestyle='-',color='red')\n",
    "plt.minorticks_on()\n",
    "plt.grid(which='minor',linewidth=0.5,linestyle=':',color='black')\n",
    "plt.title('closing value of Alphabet Inc')\n",
    "plt.show()"
   ]
  }
 ],
 "metadata": {
  "kernelspec": {
   "display_name": "Python 3",
   "language": "python",
   "name": "python3"
  },
  "language_info": {
   "codemirror_mode": {
    "name": "ipython",
    "version": 3
   },
   "file_extension": ".py",
   "mimetype": "text/x-python",
   "name": "python",
   "nbconvert_exporter": "python",
   "pygments_lexer": "ipython3",
   "version": "3.7.3"
  }
 },
 "nbformat": 4,
 "nbformat_minor": 2
}
