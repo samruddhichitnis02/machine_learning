{
 "cells": [
  {
   "cell_type": "code",
   "execution_count": null,
   "metadata": {},
   "outputs": [],
   "source": [
    "\"\"\" Write a Python program to draw a line with suitable label in the x axis, y axis and a title\"\"\"\n",
    "\n",
    "import matplotlib.pyplot as plt\n",
    "X=[ ]\n",
    "n=int(input('Enter a range-'))\n",
    "for i in range(n):\n",
    "    X.append(i)\n",
    "print('Values of X-',X)\n",
    "\n",
    "Y=[ ]\n",
    "for i in range(len(X)):\n",
    "    Y.append(3*X[i])\n",
    "print('Values of Y-',Y)\n",
    "\n",
    "\n",
    "plt.plot(X, Y)# plot x and y using default line style and color\n",
    "\n",
    "plt.xlabel('x - axis')# Setting the x axis label \n",
    "\n",
    "plt.ylabel('y - axis')# Setting the y axis label \n",
    "\n",
    "plt.title('Draw a line.')#Giving  a title \n",
    "\n",
    "plt.show()# Displaying the figure.\n"
   ]
  }
 ],
 "metadata": {
  "kernelspec": {
   "display_name": "Python 3",
   "language": "python",
   "name": "python3"
  },
  "language_info": {
   "codemirror_mode": {
    "name": "ipython",
    "version": 3
   },
   "file_extension": ".py",
   "mimetype": "text/x-python",
   "name": "python",
   "nbconvert_exporter": "python",
   "pygments_lexer": "ipython3",
   "version": "3.7.3"
  }
 },
 "nbformat": 4,
 "nbformat_minor": 4
}
