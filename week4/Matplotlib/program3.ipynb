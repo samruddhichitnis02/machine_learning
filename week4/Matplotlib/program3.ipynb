{
 "cells": [
  {
   "cell_type": "code",
   "execution_count": null,
   "metadata": {},
   "outputs": [],
   "source": [
    "\"\"\"Write a Python program to draw a line using given axis values taken from a text file, with \n",
    "suitable label in the x axis, y axis and a title.\n",
    "Test Data:\n",
    "test.txt\n",
    "1 2\n",
    "2 4\n",
    "3 1\"\"\"\n",
    "\n",
    "import matplotlib.pyplot as plt\n",
    "with open('test.txt') as f:\n",
    "    data = f.read()\n",
    "f.close()\n",
    "\n",
    "data = data.split('\\n')\n",
    "x=[ ]\n",
    "y=[ ]\n",
    "for i in data:\n",
    "    x.append(i[0:1])\n",
    "    y.append(i[-1:])\n",
    "print(x)\n",
    "print(y)\n",
    "\n",
    "\n",
    "\n",
    "\n",
    "plt.plot(x,y)\n",
    "\n",
    "plt.xlabel('x-axis')\n",
    "\n",
    "plt.ylabel('y-axis')\n",
    "\n",
    "plt.title('Data from text file.')\n",
    "\n",
    "plt.show()\n"
   ]
  }
 ],
 "metadata": {
  "kernelspec": {
   "display_name": "Python 3",
   "language": "python",
   "name": "python3"
  },
  "language_info": {
   "codemirror_mode": {
    "name": "ipython",
    "version": 3
   },
   "file_extension": ".py",
   "mimetype": "text/x-python",
   "name": "python",
   "nbconvert_exporter": "python",
   "pygments_lexer": "ipython3",
   "version": "3.7.4"
  }
 },
 "nbformat": 4,
 "nbformat_minor": 4
}
