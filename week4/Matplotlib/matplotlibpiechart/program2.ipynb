{
 "cells": [
  {
   "cell_type": "code",
   "execution_count": null,
   "metadata": {},
   "outputs": [],
   "source": [
    "\"\"\"Write a Python programming to create a pie chart with a title of the popularity of programming \n",
    "Languages. \n",
    "Sample data: \n",
    "Programming languages: Java, Python, PHP, JavaScript, C#, C++\n",
    "Popularity: 22.2, 17.6, 8.8, 8, 7.7, 6.7\n",
    "\"\"\"\n",
    "\n",
    "import matplotlib.pyplot as plt\n",
    "Programming_languages=['Java','Python','PHP','JavaScript','C#','C++']\n",
    "Popularity=[22.2, 17.6, 8.8, 8, 7.7, 6.7]\n",
    "\n",
    "plt.title('Popularity of Programming Languages')\n",
    "plt.pie(Popularity,labels=Programming_languages,autopct='%1.1f%%')\n",
    "plt.show()"
   ]
  }
 ],
 "metadata": {
  "kernelspec": {
   "display_name": "Python 3",
   "language": "python",
   "name": "python3"
  },
  "language_info": {
   "codemirror_mode": {
    "name": "ipython",
    "version": 3
   },
   "file_extension": ".py",
   "mimetype": "text/x-python",
   "name": "python",
   "nbconvert_exporter": "python",
   "pygments_lexer": "ipython3",
   "version": "3.7.3"
  }
 },
 "nbformat": 4,
 "nbformat_minor": 4
}
