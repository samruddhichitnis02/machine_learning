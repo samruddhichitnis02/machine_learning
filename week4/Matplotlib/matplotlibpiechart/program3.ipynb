{
 "cells": [
  {
   "cell_type": "code",
   "execution_count": null,
   "metadata": {},
   "outputs": [],
   "source": [
    "\"\"\" Write a Python programming to create a pie chart of gold medal achievements of five most successful countries in \n",
    "2016 Summer Olympics. Read the data from a csv file. \n",
    "Sample data: \n",
    "medal.csv\n",
    "country,gold_medal\n",
    "United States,46\n",
    "Great Britain,27\n",
    "China,26\n",
    "Russia,19\n",
    "Germany,17\n",
    "\"\"\"\n",
    "\n",
    "\n",
    "import matplotlib.pyplot as plt\n",
    "import pandas as pd\n",
    "\n",
    "df=pd.read_csv('pie.csv')\n",
    "gold_medal=df['gold_medal']\n",
    "country=df['country']\n",
    "plt.pie(gold_medal,labels=country,autopct='%1.1f%%')\n",
    "plt.title('Popularity of Programming Languages')\n",
    "plt.show()"
   ]
  }
 ],
 "metadata": {
  "kernelspec": {
   "display_name": "Python 3",
   "language": "python",
   "name": "python3"
  },
  "language_info": {
   "codemirror_mode": {
    "name": "ipython",
    "version": 3
   },
   "file_extension": ".py",
   "mimetype": "text/x-python",
   "name": "python",
   "nbconvert_exporter": "python",
   "pygments_lexer": "ipython3",
   "version": "3.7.4"
  }
 },
 "nbformat": 4,
 "nbformat_minor": 4
}
