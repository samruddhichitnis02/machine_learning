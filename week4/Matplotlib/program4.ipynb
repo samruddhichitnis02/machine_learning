{
 "cells": [
  {
   "cell_type": "code",
   "execution_count": null,
   "metadata": {},
   "outputs": [],
   "source": [
    "\"\"\"Write a Python program to draw line charts of the financial data of Alphabet Inc. between October 3, 2016 to October 7, 2016. \n",
    "Sample Financial data (fdata.csv):\n",
    "Date,Open,High,Low,Close\n",
    "03-10-16,774.25,776.065002,769.5,772.559998\n",
    "04-10-16,776.030029,778.710022,772.890015,776.429993\n",
    "05-10-16,779.309998,782.070007,775.650024,776.469971\n",
    "06-10-16,779,780.47998,775.539978,776.859985\n",
    "07-10-16,779.659973,779.659973,770.75,775.080017 \n",
    "\"\"\"\n",
    "\n",
    "import matplotlib.pyplot as plt\n",
    "import pandas as pd\n",
    "data=pd.read_csv('fdata.csv',parse_dates=True,index_col=0)\n",
    "data.plot()\n",
    "plt.show()"
   ]
  }
 ],
 "metadata": {
  "kernelspec": {
   "display_name": "Python 3",
   "language": "python",
   "name": "python3"
  },
  "language_info": {
   "codemirror_mode": {
    "name": "ipython",
    "version": 3
   },
   "file_extension": ".py",
   "mimetype": "text/x-python",
   "name": "python",
   "nbconvert_exporter": "python",
   "pygments_lexer": "ipython3",
   "version": "3.7.4"
  }
 },
 "nbformat": 4,
 "nbformat_minor": 2
}
