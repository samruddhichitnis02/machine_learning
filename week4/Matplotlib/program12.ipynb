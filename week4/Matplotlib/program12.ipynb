{
 "cells": [
  {
   "cell_type": "code",
   "execution_count": null,
   "metadata": {},
   "outputs": [],
   "source": [
    "\"\"\"Write a Python program to create multiple types of charts\"\"\"\n",
    "\n",
    "\n",
    "import matplotlib.pyplot as plt\n",
    "import numpy as np\n",
    "\n",
    "company=['Google','Microsoft','Amazon','Facebook']\n",
    "revenue=[100,200,300,400]\n",
    "\n",
    "ypos=np.arange(len(company))\n",
    "plt.xticks(ypos,company)\n",
    "\n",
    "plt.bar(ypos,revenue) #displaying the bar chart\n",
    "plt.show()\n",
    "\n",
    "plt.pie(revenue,labels=company) #Displaying the pie chart\n",
    "plt.show()\n",
    "\n",
    "plt.plot(company,revenue) #Displaying line chart\n",
    "plt.show()"
   ]
  }
 ],
 "metadata": {
  "kernelspec": {
   "display_name": "Python 3",
   "language": "python",
   "name": "python3"
  },
  "language_info": {
   "codemirror_mode": {
    "name": "ipython",
    "version": 3
   },
   "file_extension": ".py",
   "mimetype": "text/x-python",
   "name": "python",
   "nbconvert_exporter": "python",
   "pygments_lexer": "ipython3",
   "version": "3.7.4"
  }
 },
 "nbformat": 4,
 "nbformat_minor": 4
}
