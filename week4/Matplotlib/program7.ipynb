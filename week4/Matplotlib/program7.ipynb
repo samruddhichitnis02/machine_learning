{
 "cells": [
  {
   "cell_type": "code",
   "execution_count": null,
   "metadata": {},
   "outputs": [],
   "source": [
    "\"\"\"Write a Python program to plot two or more lines with different styles\"\"\"\n",
    "\n",
    "import matplotlib.pyplot as plt\n",
    "x=[ ]\n",
    "n=int(input('Enter the number of elements-'))\n",
    "for i in range(n):\n",
    "    a=int(input('Enter the elements-'))\n",
    "    x.append(a)\n",
    "print(x)\n",
    "\n",
    "y=[ ]\n",
    "for i in range(n):\n",
    "    b=int(input('Enter the elements-'))\n",
    "    y.append(b)\n",
    "print(y)\n",
    "\n",
    "z=[ ]\n",
    "for i in range(n):\n",
    "    c=int(input('Enter the elements-'))\n",
    "    z.append(c)\n",
    "print(z)\n",
    "    \n",
    "m=[ ]\n",
    "for i in range(n):\n",
    "    d=int(input('Enter the elements-'))\n",
    "    m.append(d)\n",
    "print(m)\n",
    "\n",
    "plt.plot(x,y,color='red',linewidth=4,linestyle='dashdot',label='line1') #line1 is with linestyle of dashdot\n",
    "\n",
    "plt.plot(z,m,color='blue',linewidth=6,linestyle='solid',label='line2') #line2 is with linestyle of solid\n",
    "\n",
    "plt.xlabel('x-axis')\n",
    "\n",
    "plt.ylabel('y-axis')\n",
    "\n",
    "plt.title('lines with different styles.')\n",
    "\n",
    "plt.legend()\n",
    "\n",
    "plt.show()"
   ]
  }
 ],
 "metadata": {
  "kernelspec": {
   "display_name": "Python 3",
   "language": "python",
   "name": "python3"
  },
  "language_info": {
   "codemirror_mode": {
    "name": "ipython",
    "version": 3
   },
   "file_extension": ".py",
   "mimetype": "text/x-python",
   "name": "python",
   "nbconvert_exporter": "python",
   "pygments_lexer": "ipython3",
   "version": "3.7.4"
  }
 },
 "nbformat": 4,
 "nbformat_minor": 4
}
