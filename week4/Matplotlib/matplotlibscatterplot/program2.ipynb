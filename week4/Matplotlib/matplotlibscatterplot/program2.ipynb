{
 "cells": [
  {
   "cell_type": "code",
   "execution_count": null,
   "metadata": {},
   "outputs": [],
   "source": [
    "\"\"\"Write a Python program to draw a scatter plot with empty circles taking a random distribution \n",
    "in X and Y and plotted against each other. \"\"\"\n",
    "\n",
    "\n",
    "import matplotlib.pyplot as plt\n",
    "import random\n",
    "n=int(input('Enter a number-'))\n",
    "x=[ ]\n",
    "y=[ ]\n",
    "for i in range(n):\n",
    "    a=random.triangular(0,n)\n",
    "    x.append(a)\n",
    "\n",
    "for i in range(n):\n",
    "    b=random.uniform(0,n)\n",
    "    y.append(b)\n",
    "\n",
    "plt.scatter(x,y,facecolors='none',edgecolors='blue') #will plot empty circles\n",
    "plt.xlabel('x-axis')\n",
    "plt.ylabel('y-axis')\n",
    "plt.title('Random Distribution')\n",
    "plt.show()\n",
    "\n"
   ]
  }
 ],
 "metadata": {
  "kernelspec": {
   "display_name": "Python 3",
   "language": "python",
   "name": "python3"
  },
  "language_info": {
   "codemirror_mode": {
    "name": "ipython",
    "version": 3
   },
   "file_extension": ".py",
   "mimetype": "text/x-python",
   "name": "python",
   "nbconvert_exporter": "python",
   "pygments_lexer": "ipython3",
   "version": "3.7.4"
  }
 },
 "nbformat": 4,
 "nbformat_minor": 4
}
