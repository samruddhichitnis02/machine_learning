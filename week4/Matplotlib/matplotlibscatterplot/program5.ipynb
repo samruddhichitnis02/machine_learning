{
 "cells": [
  {
   "cell_type": "code",
   "execution_count": null,
   "metadata": {},
   "outputs": [],
   "source": [
    "\"\"\"Write a Python program to draw a scatter plot for three different groups camparing weights and \n",
    "heights\"\"\"\n",
    "\n",
    "\n",
    "\n",
    "import matplotlib.pyplot as plt\n",
    "import numpy as np\n",
    "w1=[70.65,34,45,76,44.56,67.45]\n",
    "h1=[100.23,110.43,90.78,100.67,99.78,120]\n",
    "w2=[45,56,78,90.78,34.67,66]\n",
    "h2=[100,110,80.78,95.78,90.91,88]\n",
    "w3=[55,66,77,88,44,74]\n",
    "h3=[111,110.78,93.23,89,90,91.56]\n",
    "\n",
    "\n",
    "plt.scatter(w1,h1,c='red',label='Group1',s=100) #scatter plot of group1\n",
    "plt.scatter(w2,h2,c='black',label='Group2',s=100) #scatter plot of group2\n",
    "plt.scatter(w3,h3,c='blue',label='Group3',s=100) #scatter plot of group3\n",
    "plt.xlabel('weight')\n",
    "plt.ylabel('height')\n",
    "plt.title('Weight Vs Height')\n",
    "plt.legend()\n",
    "plt.show()\n",
    "\n"
   ]
  }
 ],
 "metadata": {
  "kernelspec": {
   "display_name": "Python 3",
   "language": "python",
   "name": "python3"
  },
  "language_info": {
   "codemirror_mode": {
    "name": "ipython",
    "version": 3
   },
   "file_extension": ".py",
   "mimetype": "text/x-python",
   "name": "python",
   "nbconvert_exporter": "python",
   "pygments_lexer": "ipython3",
   "version": "3.7.4"
  }
 },
 "nbformat": 4,
 "nbformat_minor": 4
}
