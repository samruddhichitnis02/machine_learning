{
 "cells": [
  {
   "cell_type": "code",
   "execution_count": null,
   "metadata": {},
   "outputs": [],
   "source": [
    "\"\"\" Write a Python program to draw a scatter plot comparing two subject marks of Mathematics and Science. Use marks of 10 students.\n",
    "Test Data:\n",
    "math_marks = [88, 92, 80, 89, 100, 80, 60, 100, 80, 34]\n",
    "science_marks = [35, 79, 79, 48, 100, 88, 32, 45, 20, 30]\n",
    "marks_range = [10, 20, 30, 40, 50, 60, 70, 80, 90, 100]\n",
    "\"\"\"\n",
    "\n",
    "import matplotlib.pyplot as plt\n",
    "\n",
    "math_marks=[88, 92, 80, 89, 100, 80, 60, 100, 80, 34]\n",
    "science_marks=[35, 79, 79, 48, 100, 88, 32, 45, 20, 30]\n",
    "marks_range=[10, 20, 30, 40, 50, 60, 70, 80, 90, 100]\n",
    "\n",
    "plt.scatter(marks_range,math_marks,c='blue',s=100,label='Math Marks') #scatter plot for math marks\n",
    "plt.scatter(marks_range,science_marks,c='green',s=150,label='Science Marks') #scatter plot for science marks\n",
    "plt.xlabel('Range of Marks')\n",
    "plt.ylabel('Marks Scored')\n",
    "plt.title('Comparison of Marks of two Subjects')\n",
    "plt.legend()\n",
    "plt.show()"
   ]
  }
 ],
 "metadata": {
  "kernelspec": {
   "display_name": "Python 3",
   "language": "python",
   "name": "python3"
  },
  "language_info": {
   "codemirror_mode": {
    "name": "ipython",
    "version": 3
   },
   "file_extension": ".py",
   "mimetype": "text/x-python",
   "name": "python",
   "nbconvert_exporter": "python",
   "pygments_lexer": "ipython3",
   "version": "3.7.3"
  }
 },
 "nbformat": 4,
 "nbformat_minor": 4
}
