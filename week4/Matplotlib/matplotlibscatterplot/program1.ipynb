{
 "cells": [
  {
   "cell_type": "code",
   "execution_count": null,
   "metadata": {},
   "outputs": [],
   "source": [
    "\"\"\"Write a Python program to draw a scatter graph taking a random distribution in X and Y and \n",
    "plotted against each other. \"\"\"\n",
    "\n",
    "\n",
    "import matplotlib.pyplot as plt\n",
    "import random\n",
    "n=int(input('Enter a number-'))\n",
    "x=[ ]\n",
    "y=[ ]\n",
    "\n",
    "for i in range(n):\n",
    "    b=random.triangular(0,n) #random.triangular() function returns a random floating point number N such that lower <= N <= upper  \n",
    "    x.append(b)\n",
    "\n",
    "\n",
    "for i in range(n):\n",
    "    a=random.uniform(0,n) #random.uniform() to generate a floating point number within a given range.\n",
    "    y.append(a)\n",
    "\n",
    "\n",
    "plt.scatter(x,y)\n",
    "plt.xlabel('x-axis')\n",
    "plt.ylabel('y-axis')\n",
    "plt.title('Random Distribution')\n",
    "plt.show()\n",
    "    "
   ]
  }
 ],
 "metadata": {
  "kernelspec": {
   "display_name": "Python 3",
   "language": "python",
   "name": "python3"
  },
  "language_info": {
   "codemirror_mode": {
    "name": "ipython",
    "version": 3
   },
   "file_extension": ".py",
   "mimetype": "text/x-python",
   "name": "python",
   "nbconvert_exporter": "python",
   "pygments_lexer": "ipython3",
   "version": "3.7.3"
  }
 },
 "nbformat": 4,
 "nbformat_minor": 4
}
