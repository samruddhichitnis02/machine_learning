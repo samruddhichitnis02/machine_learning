{
 "cells": [
  {
   "cell_type": "code",
   "execution_count": null,
   "metadata": {},
   "outputs": [],
   "source": [
    "\"\"\"Write a Python program to draw a scatter plot using random distributions to generate balls of \n",
    "different sizes.\"\"\"\n",
    "\n",
    "\n",
    "import matplotlib.pyplot as plt\n",
    "import random\n",
    "\n",
    "x=[ ]\n",
    "y=[ ]\n",
    " \n",
    "n=int(input('Enter a Number-'))\n",
    "for i in range(n):\n",
    "    a=random.triangular(0,n)\n",
    "    x.append(a)\n",
    "\n",
    "for i in range(n):\n",
    "    b=random.uniform(0,n)\n",
    "    y.append(b)\n",
    "    \n",
    "size=[ ] #using a list size to store different sizes of markers\n",
    "for i in range(0,n):\n",
    "    c=x[i]*2\n",
    "    size.append(c)\n",
    "\n",
    "\n",
    "plt.scatter(x,y,s=size)\n",
    "plt.xlabel('x-axis')\n",
    "plt.ylabel('y-axis')\n",
    "plt.title('Random Distribution')\n",
    "plt.show()"
   ]
  }
 ],
 "metadata": {
  "kernelspec": {
   "display_name": "Python 3",
   "language": "python",
   "name": "python3"
  },
  "language_info": {
   "codemirror_mode": {
    "name": "ipython",
    "version": 3
   },
   "file_extension": ".py",
   "mimetype": "text/x-python",
   "name": "python",
   "nbconvert_exporter": "python",
   "pygments_lexer": "ipython3",
   "version": "3.7.4"
  }
 },
 "nbformat": 4,
 "nbformat_minor": 4
}
