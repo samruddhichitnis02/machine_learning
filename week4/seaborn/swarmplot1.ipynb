{
 "cells": [
  {
   "cell_type": "code",
   "execution_count": null,
   "metadata": {},
   "outputs": [],
   "source": [
    "\"\"\"Write a program to draw a swarm plot of total bill against size  for a  given dataset\"\"\"\n",
    "\n",
    "import seaborn as sb\n",
    "import matplotlib.pyplot as plt\n",
    "data=sb.load_dataset('https://raw.githubusercontent.com/mwaskom/seaborn-data/master/tips')\n",
    "sb.swarmplot(x='total_bill',y='size',data=data)\n",
    "plt.title('plot of total bill against size  for a  given dataset')\n",
    "plt.show()"
   ]
  }
 ],
 "metadata": {
  "kernelspec": {
   "display_name": "Python 3",
   "language": "python",
   "name": "python3"
  },
  "language_info": {
   "codemirror_mode": {
    "name": "ipython",
    "version": 3
   },
   "file_extension": ".py",
   "mimetype": "text/x-python",
   "name": "python",
   "nbconvert_exporter": "python",
   "pygments_lexer": "ipython3",
   "version": "3.7.4"
  }
 },
 "nbformat": 4,
 "nbformat_minor": 4
}
