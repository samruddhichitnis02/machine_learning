{
 "cells": [
  {
   "cell_type": "code",
   "execution_count": 1,
   "metadata": {},
   "outputs": [],
   "source": [
    "import os\n",
    "import pandas as pd"
   ]
  },
  {
   "cell_type": "markdown",
   "metadata": {},
   "source": [
    "# Loading the Dataset"
   ]
  },
  {
   "cell_type": "code",
   "execution_count": 2,
   "metadata": {},
   "outputs": [],
   "source": [
    "path = \"/home/admin1/Downloads/machine_learning/week13/aclImdb_v1/aclImdb/\""
   ]
  },
  {
   "cell_type": "code",
   "execution_count": 3,
   "metadata": {},
   "outputs": [],
   "source": [
    "pos_train_file = [x for x in os.listdir(path + \"train/pos/\") if x.endswith(\".txt\")]\n",
    "neg_train_file = [x for x in os.listdir(path + \"train/neg/\") if x.endswith(\".txt\")]\n",
    "pos_test_file = [x for x in os.listdir(path + \"test/pos/\") if x.endswith(\".txt\")]\n",
    "neg_test_file = [x for x in os.listdir(path + \"test/neg/\") if x.endswith(\".txt\")]"
   ]
  },
  {
   "cell_type": "code",
   "execution_count": 4,
   "metadata": {},
   "outputs": [],
   "source": [
    "pos_train, neg_train, pos_test, neg_test = [ ], [ ], [ ], [ ]"
   ]
  },
  {
   "cell_type": "code",
   "execution_count": 5,
   "metadata": {},
   "outputs": [],
   "source": [
    "for pfile in pos_train_file:\n",
    "    with open(path + \"train/pos/\" +pfile, encoding=\"latin1\") as f:\n",
    "        pos_train.append(f.read())"
   ]
  },
  {
   "cell_type": "code",
   "execution_count": 6,
   "metadata": {},
   "outputs": [],
   "source": [
    "for nfile in neg_train_file:\n",
    "    with open(path + \"train/neg/\" + nfile, encoding=\"latin1\") as f:\n",
    "        neg_train.append(f.read())"
   ]
  },
  {
   "cell_type": "code",
   "execution_count": 7,
   "metadata": {},
   "outputs": [],
   "source": [
    "for pfile in pos_test_file:\n",
    "    with open(path + \"test/pos/\" + pfile, encoding=\"latin1\") as f:\n",
    "        pos_test.append(f.read())"
   ]
  },
  {
   "cell_type": "code",
   "execution_count": 8,
   "metadata": {},
   "outputs": [],
   "source": [
    "for nfile in neg_test_file:\n",
    "    with open(path + \"test/neg/\" + nfile, encoding=\"latin1\") as f:\n",
    "        neg_test.append(f.read())"
   ]
  },
  {
   "cell_type": "code",
   "execution_count": 9,
   "metadata": {},
   "outputs": [
    {
     "data": {
      "text/plain": [
       "(12500, 12500, 12500, 12500)"
      ]
     },
     "execution_count": 9,
     "metadata": {},
     "output_type": "execute_result"
    }
   ],
   "source": [
    "len(pos_train), len(neg_train), len(pos_test), len(neg_test)"
   ]
  },
  {
   "cell_type": "code",
   "execution_count": 10,
   "metadata": {},
   "outputs": [],
   "source": [
    "reviews_train = pd.concat([\n",
    "    pd.DataFrame({\"review\":pos_train, \"label\":1, \"file\": pos_train_file}),\n",
    "    pd.DataFrame({\"review\":neg_train, \"label\":0, \"file\": neg_train_file})\n",
    "], ignore_index = True).sample(frac = 1, random_state = 1)"
   ]
  },
  {
   "cell_type": "code",
   "execution_count": 11,
   "metadata": {
    "scrolled": true
   },
   "outputs": [
    {
     "data": {
      "text/html": [
       "<div>\n",
       "<style scoped>\n",
       "    .dataframe tbody tr th:only-of-type {\n",
       "        vertical-align: middle;\n",
       "    }\n",
       "\n",
       "    .dataframe tbody tr th {\n",
       "        vertical-align: top;\n",
       "    }\n",
       "\n",
       "    .dataframe thead th {\n",
       "        text-align: right;\n",
       "    }\n",
       "</style>\n",
       "<table border=\"1\" class=\"dataframe\">\n",
       "  <thead>\n",
       "    <tr style=\"text-align: right;\">\n",
       "      <th></th>\n",
       "      <th>review</th>\n",
       "      <th>label</th>\n",
       "      <th>file</th>\n",
       "    </tr>\n",
       "  </thead>\n",
       "  <tbody>\n",
       "    <tr>\n",
       "      <td>21492</td>\n",
       "      <td>The film attempts to be a mockumentary--shot i...</td>\n",
       "      <td>0</td>\n",
       "      <td>6514_2.txt</td>\n",
       "    </tr>\n",
       "    <tr>\n",
       "      <td>9488</td>\n",
       "      <td>It does seem like this film is polarizing us. ...</td>\n",
       "      <td>1</td>\n",
       "      <td>7463_10.txt</td>\n",
       "    </tr>\n",
       "    <tr>\n",
       "      <td>16933</td>\n",
       "      <td>I'm both amused and disgusted by the people wh...</td>\n",
       "      <td>0</td>\n",
       "      <td>5051_1.txt</td>\n",
       "    </tr>\n",
       "    <tr>\n",
       "      <td>12604</td>\n",
       "      <td>I can't stand most reality shows and this one ...</td>\n",
       "      <td>0</td>\n",
       "      <td>388_1.txt</td>\n",
       "    </tr>\n",
       "    <tr>\n",
       "      <td>8222</td>\n",
       "      <td>Also known as \"Water Lilies\" this film tells t...</td>\n",
       "      <td>1</td>\n",
       "      <td>1384_7.txt</td>\n",
       "    </tr>\n",
       "  </tbody>\n",
       "</table>\n",
       "</div>"
      ],
      "text/plain": [
       "                                                  review  label         file\n",
       "21492  The film attempts to be a mockumentary--shot i...      0   6514_2.txt\n",
       "9488   It does seem like this film is polarizing us. ...      1  7463_10.txt\n",
       "16933  I'm both amused and disgusted by the people wh...      0   5051_1.txt\n",
       "12604  I can't stand most reality shows and this one ...      0    388_1.txt\n",
       "8222   Also known as \"Water Lilies\" this film tells t...      1   1384_7.txt"
      ]
     },
     "execution_count": 11,
     "metadata": {},
     "output_type": "execute_result"
    }
   ],
   "source": [
    "reviews_train.head()"
   ]
  },
  {
   "cell_type": "code",
   "execution_count": 12,
   "metadata": {},
   "outputs": [
    {
     "data": {
      "text/plain": [
       "(25000, 3)"
      ]
     },
     "execution_count": 12,
     "metadata": {},
     "output_type": "execute_result"
    }
   ],
   "source": [
    "reviews_train.shape"
   ]
  },
  {
   "cell_type": "code",
   "execution_count": 14,
   "metadata": {},
   "outputs": [],
   "source": [
    "reviews_test = pd.concat([\n",
    "    pd.DataFrame({\"review\":pos_test, \"label\":1, \"file\": pos_test_file}),\n",
    "    pd.DataFrame({\"review\":neg_test, \"label\":0, \"file\": neg_test_file})\n",
    "], ignore_index = True).sample(frac=1, random_state=0)"
   ]
  },
  {
   "cell_type": "code",
   "execution_count": 16,
   "metadata": {},
   "outputs": [
    {
     "data": {
      "text/html": [
       "<div>\n",
       "<style scoped>\n",
       "    .dataframe tbody tr th:only-of-type {\n",
       "        vertical-align: middle;\n",
       "    }\n",
       "\n",
       "    .dataframe tbody tr th {\n",
       "        vertical-align: top;\n",
       "    }\n",
       "\n",
       "    .dataframe thead th {\n",
       "        text-align: right;\n",
       "    }\n",
       "</style>\n",
       "<table border=\"1\" class=\"dataframe\">\n",
       "  <thead>\n",
       "    <tr style=\"text-align: right;\">\n",
       "      <th></th>\n",
       "      <th>review</th>\n",
       "      <th>label</th>\n",
       "      <th>file</th>\n",
       "    </tr>\n",
       "  </thead>\n",
       "  <tbody>\n",
       "    <tr>\n",
       "      <td>18634</td>\n",
       "      <td>This is possibility the worst and most disappo...</td>\n",
       "      <td>0</td>\n",
       "      <td>10855_1.txt</td>\n",
       "    </tr>\n",
       "    <tr>\n",
       "      <td>1333</td>\n",
       "      <td>This film is absolute gold. If you haven't see...</td>\n",
       "      <td>1</td>\n",
       "      <td>325_10.txt</td>\n",
       "    </tr>\n",
       "    <tr>\n",
       "      <td>20315</td>\n",
       "      <td>Talk about your wild life. Barely a B-movie, b...</td>\n",
       "      <td>0</td>\n",
       "      <td>4476_4.txt</td>\n",
       "    </tr>\n",
       "    <tr>\n",
       "      <td>6357</td>\n",
       "      <td>putting aside the \"i'm so sure\"s and \"totally ...</td>\n",
       "      <td>1</td>\n",
       "      <td>1816_10.txt</td>\n",
       "    </tr>\n",
       "    <tr>\n",
       "      <td>10496</td>\n",
       "      <td>I remember really liking BATMAN RETURNS when i...</td>\n",
       "      <td>1</td>\n",
       "      <td>7991_10.txt</td>\n",
       "    </tr>\n",
       "  </tbody>\n",
       "</table>\n",
       "</div>"
      ],
      "text/plain": [
       "                                                  review  label         file\n",
       "18634  This is possibility the worst and most disappo...      0  10855_1.txt\n",
       "1333   This film is absolute gold. If you haven't see...      1   325_10.txt\n",
       "20315  Talk about your wild life. Barely a B-movie, b...      0   4476_4.txt\n",
       "6357   putting aside the \"i'm so sure\"s and \"totally ...      1  1816_10.txt\n",
       "10496  I remember really liking BATMAN RETURNS when i...      1  7991_10.txt"
      ]
     },
     "execution_count": 16,
     "metadata": {},
     "output_type": "execute_result"
    }
   ],
   "source": [
    "reviews_test.head()"
   ]
  },
  {
   "cell_type": "code",
   "execution_count": 17,
   "metadata": {},
   "outputs": [
    {
     "data": {
      "text/plain": [
       "(25000, 3)"
      ]
     },
     "execution_count": 17,
     "metadata": {},
     "output_type": "execute_result"
    }
   ],
   "source": [
    "reviews_test.shape"
   ]
  },
  {
   "cell_type": "markdown",
   "metadata": {},
   "source": [
    "# Creating  a train.csv file and test.csv file "
   ]
  },
  {
   "cell_type": "code",
   "execution_count": 18,
   "metadata": {},
   "outputs": [],
   "source": [
    "reviews_train.to_csv('reviews_train.csv',  index = False)"
   ]
  },
  {
   "cell_type": "code",
   "execution_count": 19,
   "metadata": {},
   "outputs": [],
   "source": [
    "reviews_test.to_csv('reviews_test.csv', index = False)"
   ]
  },
  {
   "cell_type": "code",
   "execution_count": null,
   "metadata": {},
   "outputs": [],
   "source": []
  },
  {
   "cell_type": "markdown",
   "metadata": {},
   "source": [
    "# Creating unsupervised.csv "
   ]
  },
  {
   "cell_type": "code",
   "execution_count": 20,
   "metadata": {},
   "outputs": [],
   "source": [
    "unsupervised_file = [x for x in os.listdir(path + \"train/unsup/\") if x.endswith(\".txt\")]"
   ]
  },
  {
   "cell_type": "code",
   "execution_count": 21,
   "metadata": {},
   "outputs": [
    {
     "data": {
      "text/plain": [
       "50000"
      ]
     },
     "execution_count": 21,
     "metadata": {},
     "output_type": "execute_result"
    }
   ],
   "source": [
    "len(unsupervised_file)"
   ]
  },
  {
   "cell_type": "code",
   "execution_count": 22,
   "metadata": {},
   "outputs": [],
   "source": [
    "unsup = [ ]\n",
    "for file in unsupervised_file:\n",
    "    with open(path + \"train/unsup/\" + file, encoding=\"latin1\") as f:\n",
    "        unsup.append(f.read())"
   ]
  },
  {
   "cell_type": "code",
   "execution_count": 23,
   "metadata": {},
   "outputs": [
    {
     "data": {
      "text/plain": [
       "50000"
      ]
     },
     "execution_count": 23,
     "metadata": {},
     "output_type": "execute_result"
    }
   ],
   "source": [
    "len(unsup)"
   ]
  },
  {
   "cell_type": "code",
   "execution_count": 24,
   "metadata": {},
   "outputs": [],
   "source": [
    "unsup_reviews = pd.DataFrame({\"review\":unsup, \"file\": unsupervised_file})"
   ]
  },
  {
   "cell_type": "code",
   "execution_count": 25,
   "metadata": {},
   "outputs": [
    {
     "data": {
      "text/html": [
       "<div>\n",
       "<style scoped>\n",
       "    .dataframe tbody tr th:only-of-type {\n",
       "        vertical-align: middle;\n",
       "    }\n",
       "\n",
       "    .dataframe tbody tr th {\n",
       "        vertical-align: top;\n",
       "    }\n",
       "\n",
       "    .dataframe thead th {\n",
       "        text-align: right;\n",
       "    }\n",
       "</style>\n",
       "<table border=\"1\" class=\"dataframe\">\n",
       "  <thead>\n",
       "    <tr style=\"text-align: right;\">\n",
       "      <th></th>\n",
       "      <th>review</th>\n",
       "      <th>file</th>\n",
       "    </tr>\n",
       "  </thead>\n",
       "  <tbody>\n",
       "    <tr>\n",
       "      <td>0</td>\n",
       "      <td>Prior to my viewing of 'The Living Dead Girl',...</td>\n",
       "      <td>27465_0.txt</td>\n",
       "    </tr>\n",
       "    <tr>\n",
       "      <td>1</td>\n",
       "      <td>'Confessions of a Teenage Drama Queen' comes a...</td>\n",
       "      <td>35402_0.txt</td>\n",
       "    </tr>\n",
       "    <tr>\n",
       "      <td>2</td>\n",
       "      <td>My age: 13&lt;br /&gt;&lt;br /&gt;John Murdoch, played by ...</td>\n",
       "      <td>14940_0.txt</td>\n",
       "    </tr>\n",
       "    <tr>\n",
       "      <td>3</td>\n",
       "      <td>Charles Chaplin made his film debut in Making ...</td>\n",
       "      <td>38925_0.txt</td>\n",
       "    </tr>\n",
       "    <tr>\n",
       "      <td>4</td>\n",
       "      <td>The best movie i have ever seen in my entire l...</td>\n",
       "      <td>31648_0.txt</td>\n",
       "    </tr>\n",
       "  </tbody>\n",
       "</table>\n",
       "</div>"
      ],
      "text/plain": [
       "                                              review         file\n",
       "0  Prior to my viewing of 'The Living Dead Girl',...  27465_0.txt\n",
       "1  'Confessions of a Teenage Drama Queen' comes a...  35402_0.txt\n",
       "2  My age: 13<br /><br />John Murdoch, played by ...  14940_0.txt\n",
       "3  Charles Chaplin made his film debut in Making ...  38925_0.txt\n",
       "4  The best movie i have ever seen in my entire l...  31648_0.txt"
      ]
     },
     "execution_count": 25,
     "metadata": {},
     "output_type": "execute_result"
    }
   ],
   "source": [
    "unsup_reviews.head()"
   ]
  },
  {
   "cell_type": "code",
   "execution_count": 26,
   "metadata": {},
   "outputs": [
    {
     "data": {
      "text/plain": [
       "(50000, 2)"
      ]
     },
     "execution_count": 26,
     "metadata": {},
     "output_type": "execute_result"
    }
   ],
   "source": [
    "unsup_reviews.shape"
   ]
  },
  {
   "cell_type": "code",
   "execution_count": 27,
   "metadata": {},
   "outputs": [],
   "source": [
    "unsup_reviews.to_csv('unsupervised.csv',  index = False)"
   ]
  },
  {
   "cell_type": "code",
   "execution_count": null,
   "metadata": {},
   "outputs": [],
   "source": []
  }
 ],
 "metadata": {
  "kernelspec": {
   "display_name": "Python 3",
   "language": "python",
   "name": "python3"
  },
  "language_info": {
   "codemirror_mode": {
    "name": "ipython",
    "version": 3
   },
   "file_extension": ".py",
   "mimetype": "text/x-python",
   "name": "python",
   "nbconvert_exporter": "python",
   "pygments_lexer": "ipython3",
   "version": "3.7.4"
  }
 },
 "nbformat": 4,
 "nbformat_minor": 2
}
