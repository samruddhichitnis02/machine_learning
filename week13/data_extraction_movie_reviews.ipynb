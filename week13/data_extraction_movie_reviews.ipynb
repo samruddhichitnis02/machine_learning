{
 "cells": [
  {
   "cell_type": "code",
   "execution_count": 11,
   "metadata": {},
   "outputs": [],
   "source": [
    "import os\n",
    "import pandas as pd"
   ]
  },
  {
   "cell_type": "markdown",
   "metadata": {},
   "source": [
    "# Loading the Dataset"
   ]
  },
  {
   "cell_type": "code",
   "execution_count": 2,
   "metadata": {},
   "outputs": [],
   "source": [
    "path = \"/home/admin1/Downloads/machine_learning/week13/aclImdb_v1/aclImdb/\""
   ]
  },
  {
   "cell_type": "code",
   "execution_count": 3,
   "metadata": {},
   "outputs": [],
   "source": [
    "pos_train_file = [x for x in os.listdir(path + \"train/pos/\") if x.endswith(\".txt\")]\n",
    "neg_train_file = [x for x in os.listdir(path + \"train/neg/\") if x.endswith(\".txt\")]\n",
    "pos_test_file = [x for x in os.listdir(path + \"test/pos/\") if x.endswith(\".txt\")]\n",
    "neg_test_file = [x for x in os.listdir(path + \"test/neg/\") if x.endswith(\".txt\")]"
   ]
  },
  {
   "cell_type": "code",
   "execution_count": 4,
   "metadata": {},
   "outputs": [],
   "source": [
    "pos_train, neg_train, pos_test, neg_test = [ ], [ ], [ ], [ ]"
   ]
  },
  {
   "cell_type": "code",
   "execution_count": 5,
   "metadata": {},
   "outputs": [],
   "source": [
    "for pfile in pos_train_file:\n",
    "    with open(path + \"train/pos/\" +pfile, encoding=\"latin1\") as f:\n",
    "        pos_train.append(f.read())"
   ]
  },
  {
   "cell_type": "code",
   "execution_count": 6,
   "metadata": {},
   "outputs": [],
   "source": [
    "for nfile in neg_train_file:\n",
    "    with open(path + \"train/neg/\" + nfile, encoding=\"latin1\") as f:\n",
    "        neg_train.append(f.read())"
   ]
  },
  {
   "cell_type": "code",
   "execution_count": 7,
   "metadata": {},
   "outputs": [],
   "source": [
    "for pfile in pos_test_file:\n",
    "    with open(path + \"test/pos/\" + pfile, encoding=\"latin1\") as f:\n",
    "        pos_test.append(f.read())"
   ]
  },
  {
   "cell_type": "code",
   "execution_count": 8,
   "metadata": {},
   "outputs": [],
   "source": [
    "for nfile in neg_test_file:\n",
    "    with open(path + \"test/neg/\" + nfile, encoding=\"latin1\") as f:\n",
    "        neg_test.append(f.read())"
   ]
  },
  {
   "cell_type": "code",
   "execution_count": 9,
   "metadata": {},
   "outputs": [
    {
     "data": {
      "text/plain": [
       "(12500, 12500, 12500, 12500)"
      ]
     },
     "execution_count": 9,
     "metadata": {},
     "output_type": "execute_result"
    }
   ],
   "source": [
    "len(pos_train), len(neg_train), len(pos_test), len(neg_test)"
   ]
  },
  {
   "cell_type": "code",
   "execution_count": 12,
   "metadata": {},
   "outputs": [],
   "source": [
    "reviews_train = pd.concat([\n",
    "    pd.DataFrame({\"review\":pos_train, \"label\":1, \"file\": pos_train_file}),\n",
    "    pd.DataFrame({\"review\":neg_train, \"label\":0, \"file\": neg_train_file})\n",
    "], ignore_index = True)"
   ]
  },
  {
   "cell_type": "code",
   "execution_count": 13,
   "metadata": {
    "scrolled": true
   },
   "outputs": [
    {
     "data": {
      "text/html": [
       "<div>\n",
       "<style scoped>\n",
       "    .dataframe tbody tr th:only-of-type {\n",
       "        vertical-align: middle;\n",
       "    }\n",
       "\n",
       "    .dataframe tbody tr th {\n",
       "        vertical-align: top;\n",
       "    }\n",
       "\n",
       "    .dataframe thead th {\n",
       "        text-align: right;\n",
       "    }\n",
       "</style>\n",
       "<table border=\"1\" class=\"dataframe\">\n",
       "  <thead>\n",
       "    <tr style=\"text-align: right;\">\n",
       "      <th></th>\n",
       "      <th>review</th>\n",
       "      <th>label</th>\n",
       "      <th>file</th>\n",
       "    </tr>\n",
       "  </thead>\n",
       "  <tbody>\n",
       "    <tr>\n",
       "      <td>0</td>\n",
       "      <td>I was intrigued by the title, so during a smal...</td>\n",
       "      <td>1</td>\n",
       "      <td>8833_9.txt</td>\n",
       "    </tr>\n",
       "    <tr>\n",
       "      <td>1</td>\n",
       "      <td>All I can say is, if you don't fall in love wi...</td>\n",
       "      <td>1</td>\n",
       "      <td>10959_10.txt</td>\n",
       "    </tr>\n",
       "    <tr>\n",
       "      <td>2</td>\n",
       "      <td>Zero Day leads you to think, even re-think why...</td>\n",
       "      <td>1</td>\n",
       "      <td>11485_10.txt</td>\n",
       "    </tr>\n",
       "    <tr>\n",
       "      <td>3</td>\n",
       "      <td>Telemundo should definitely consider making a ...</td>\n",
       "      <td>1</td>\n",
       "      <td>317_10.txt</td>\n",
       "    </tr>\n",
       "    <tr>\n",
       "      <td>4</td>\n",
       "      <td>An excellent cast makes this movie work; all o...</td>\n",
       "      <td>1</td>\n",
       "      <td>10831_7.txt</td>\n",
       "    </tr>\n",
       "  </tbody>\n",
       "</table>\n",
       "</div>"
      ],
      "text/plain": [
       "                                              review  label          file\n",
       "0  I was intrigued by the title, so during a smal...      1    8833_9.txt\n",
       "1  All I can say is, if you don't fall in love wi...      1  10959_10.txt\n",
       "2  Zero Day leads you to think, even re-think why...      1  11485_10.txt\n",
       "3  Telemundo should definitely consider making a ...      1    317_10.txt\n",
       "4  An excellent cast makes this movie work; all o...      1   10831_7.txt"
      ]
     },
     "execution_count": 13,
     "metadata": {},
     "output_type": "execute_result"
    }
   ],
   "source": [
    "reviews_train.head()"
   ]
  },
  {
   "cell_type": "code",
   "execution_count": 14,
   "metadata": {},
   "outputs": [
    {
     "data": {
      "text/plain": [
       "(25000, 3)"
      ]
     },
     "execution_count": 14,
     "metadata": {},
     "output_type": "execute_result"
    }
   ],
   "source": [
    "reviews_train.shape"
   ]
  },
  {
   "cell_type": "code",
   "execution_count": 15,
   "metadata": {},
   "outputs": [],
   "source": [
    "reviews_test = pd.concat([\n",
    "    pd.DataFrame({\"review\":pos_test, \"label\":1, \"file\": pos_test_file}),\n",
    "    pd.DataFrame({\"review\":neg_test, \"label\":0, \"file\": neg_test_file})\n",
    "], ignore_index = True)"
   ]
  },
  {
   "cell_type": "code",
   "execution_count": 16,
   "metadata": {},
   "outputs": [
    {
     "data": {
      "text/html": [
       "<div>\n",
       "<style scoped>\n",
       "    .dataframe tbody tr th:only-of-type {\n",
       "        vertical-align: middle;\n",
       "    }\n",
       "\n",
       "    .dataframe tbody tr th {\n",
       "        vertical-align: top;\n",
       "    }\n",
       "\n",
       "    .dataframe thead th {\n",
       "        text-align: right;\n",
       "    }\n",
       "</style>\n",
       "<table border=\"1\" class=\"dataframe\">\n",
       "  <thead>\n",
       "    <tr style=\"text-align: right;\">\n",
       "      <th></th>\n",
       "      <th>review</th>\n",
       "      <th>label</th>\n",
       "      <th>file</th>\n",
       "    </tr>\n",
       "  </thead>\n",
       "  <tbody>\n",
       "    <tr>\n",
       "      <td>0</td>\n",
       "      <td>People who thought that THE CHRONICLES OF RIDD...</td>\n",
       "      <td>1</td>\n",
       "      <td>6992_9.txt</td>\n",
       "    </tr>\n",
       "    <tr>\n",
       "      <td>1</td>\n",
       "      <td>In 1989, Aardman Animations introduced the two...</td>\n",
       "      <td>1</td>\n",
       "      <td>5350_10.txt</td>\n",
       "    </tr>\n",
       "    <tr>\n",
       "      <td>2</td>\n",
       "      <td>The Italian concept of \"sprezzatura\" was the g...</td>\n",
       "      <td>1</td>\n",
       "      <td>9165_8.txt</td>\n",
       "    </tr>\n",
       "    <tr>\n",
       "      <td>3</td>\n",
       "      <td>i was part of the cast of Space Odyssey, playi...</td>\n",
       "      <td>1</td>\n",
       "      <td>8833_9.txt</td>\n",
       "    </tr>\n",
       "    <tr>\n",
       "      <td>4</td>\n",
       "      <td>As I peruse through the hundreds of comments t...</td>\n",
       "      <td>1</td>\n",
       "      <td>317_10.txt</td>\n",
       "    </tr>\n",
       "  </tbody>\n",
       "</table>\n",
       "</div>"
      ],
      "text/plain": [
       "                                              review  label         file\n",
       "0  People who thought that THE CHRONICLES OF RIDD...      1   6992_9.txt\n",
       "1  In 1989, Aardman Animations introduced the two...      1  5350_10.txt\n",
       "2  The Italian concept of \"sprezzatura\" was the g...      1   9165_8.txt\n",
       "3  i was part of the cast of Space Odyssey, playi...      1   8833_9.txt\n",
       "4  As I peruse through the hundreds of comments t...      1   317_10.txt"
      ]
     },
     "execution_count": 16,
     "metadata": {},
     "output_type": "execute_result"
    }
   ],
   "source": [
    "reviews_test.head()"
   ]
  },
  {
   "cell_type": "code",
   "execution_count": 17,
   "metadata": {},
   "outputs": [
    {
     "data": {
      "text/plain": [
       "(25000, 3)"
      ]
     },
     "execution_count": 17,
     "metadata": {},
     "output_type": "execute_result"
    }
   ],
   "source": [
    "reviews_test.shape"
   ]
  },
  {
   "cell_type": "markdown",
   "metadata": {},
   "source": [
    "# Creating  a train.csv file and test.csv file "
   ]
  },
  {
   "cell_type": "code",
   "execution_count": 21,
   "metadata": {},
   "outputs": [],
   "source": [
    "reviews_train.to_csv('reviews_train.csv',  index = False)"
   ]
  },
  {
   "cell_type": "code",
   "execution_count": 24,
   "metadata": {},
   "outputs": [],
   "source": [
    "reviews_test.to_csv('reviews_test.csv', index = False)"
   ]
  },
  {
   "cell_type": "code",
   "execution_count": null,
   "metadata": {},
   "outputs": [],
   "source": []
  },
  {
   "cell_type": "markdown",
   "metadata": {},
   "source": [
    "# Creating unsupervised.csv "
   ]
  },
  {
   "cell_type": "code",
   "execution_count": 28,
   "metadata": {},
   "outputs": [],
   "source": [
    "unsupervised_file = [x for x in os.listdir(path + \"train/unsup/\") if x.endswith(\".txt\")]"
   ]
  },
  {
   "cell_type": "code",
   "execution_count": 30,
   "metadata": {},
   "outputs": [
    {
     "data": {
      "text/plain": [
       "50000"
      ]
     },
     "execution_count": 30,
     "metadata": {},
     "output_type": "execute_result"
    }
   ],
   "source": [
    "len(unsupervised_file)"
   ]
  },
  {
   "cell_type": "code",
   "execution_count": 33,
   "metadata": {},
   "outputs": [],
   "source": [
    "unsup = [ ]\n",
    "for file in unsupervised_file:\n",
    "    with open(path + \"train/unsup/\" + file, encoding=\"latin1\") as f:\n",
    "        unsup.append(f.read())"
   ]
  },
  {
   "cell_type": "code",
   "execution_count": 34,
   "metadata": {},
   "outputs": [
    {
     "data": {
      "text/plain": [
       "50000"
      ]
     },
     "execution_count": 34,
     "metadata": {},
     "output_type": "execute_result"
    }
   ],
   "source": [
    "len(unsup)"
   ]
  },
  {
   "cell_type": "code",
   "execution_count": 37,
   "metadata": {},
   "outputs": [],
   "source": [
    "unsup_reviews = pd.DataFrame({\"review\":unsup, \"file\": unsupervised_file})"
   ]
  },
  {
   "cell_type": "code",
   "execution_count": 38,
   "metadata": {},
   "outputs": [
    {
     "data": {
      "text/html": [
       "<div>\n",
       "<style scoped>\n",
       "    .dataframe tbody tr th:only-of-type {\n",
       "        vertical-align: middle;\n",
       "    }\n",
       "\n",
       "    .dataframe tbody tr th {\n",
       "        vertical-align: top;\n",
       "    }\n",
       "\n",
       "    .dataframe thead th {\n",
       "        text-align: right;\n",
       "    }\n",
       "</style>\n",
       "<table border=\"1\" class=\"dataframe\">\n",
       "  <thead>\n",
       "    <tr style=\"text-align: right;\">\n",
       "      <th></th>\n",
       "      <th>review</th>\n",
       "      <th>file</th>\n",
       "    </tr>\n",
       "  </thead>\n",
       "  <tbody>\n",
       "    <tr>\n",
       "      <td>0</td>\n",
       "      <td>Prior to my viewing of 'The Living Dead Girl',...</td>\n",
       "      <td>27465_0.txt</td>\n",
       "    </tr>\n",
       "    <tr>\n",
       "      <td>1</td>\n",
       "      <td>'Confessions of a Teenage Drama Queen' comes a...</td>\n",
       "      <td>35402_0.txt</td>\n",
       "    </tr>\n",
       "    <tr>\n",
       "      <td>2</td>\n",
       "      <td>My age: 13&lt;br /&gt;&lt;br /&gt;John Murdoch, played by ...</td>\n",
       "      <td>14940_0.txt</td>\n",
       "    </tr>\n",
       "    <tr>\n",
       "      <td>3</td>\n",
       "      <td>Charles Chaplin made his film debut in Making ...</td>\n",
       "      <td>38925_0.txt</td>\n",
       "    </tr>\n",
       "    <tr>\n",
       "      <td>4</td>\n",
       "      <td>The best movie i have ever seen in my entire l...</td>\n",
       "      <td>31648_0.txt</td>\n",
       "    </tr>\n",
       "  </tbody>\n",
       "</table>\n",
       "</div>"
      ],
      "text/plain": [
       "                                              review         file\n",
       "0  Prior to my viewing of 'The Living Dead Girl',...  27465_0.txt\n",
       "1  'Confessions of a Teenage Drama Queen' comes a...  35402_0.txt\n",
       "2  My age: 13<br /><br />John Murdoch, played by ...  14940_0.txt\n",
       "3  Charles Chaplin made his film debut in Making ...  38925_0.txt\n",
       "4  The best movie i have ever seen in my entire l...  31648_0.txt"
      ]
     },
     "execution_count": 38,
     "metadata": {},
     "output_type": "execute_result"
    }
   ],
   "source": [
    "unsup_reviews.head()"
   ]
  },
  {
   "cell_type": "code",
   "execution_count": 39,
   "metadata": {},
   "outputs": [
    {
     "data": {
      "text/plain": [
       "(50000, 2)"
      ]
     },
     "execution_count": 39,
     "metadata": {},
     "output_type": "execute_result"
    }
   ],
   "source": [
    "unsup_reviews.shape"
   ]
  },
  {
   "cell_type": "code",
   "execution_count": 40,
   "metadata": {},
   "outputs": [],
   "source": [
    "unsup_reviews.to_csv('unsupervised.csv',  index = False)"
   ]
  },
  {
   "cell_type": "code",
   "execution_count": 41,
   "metadata": {},
   "outputs": [],
   "source": [
    "data = pd.read_csv('unsupervised.csv')"
   ]
  },
  {
   "cell_type": "code",
   "execution_count": null,
   "metadata": {},
   "outputs": [],
   "source": []
  }
 ],
 "metadata": {
  "kernelspec": {
   "display_name": "Python 3",
   "language": "python",
   "name": "python3"
  },
  "language_info": {
   "codemirror_mode": {
    "name": "ipython",
    "version": 3
   },
   "file_extension": ".py",
   "mimetype": "text/x-python",
   "name": "python",
   "nbconvert_exporter": "python",
   "pygments_lexer": "ipython3",
   "version": "3.7.4"
  }
 },
 "nbformat": 4,
 "nbformat_minor": 2
}
