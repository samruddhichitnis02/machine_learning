{
 "cells": [
  {
   "cell_type": "code",
   "execution_count": 2,
   "metadata": {},
   "outputs": [],
   "source": [
    "from keras.utils import plot_model\n",
    "import pydot\n",
    "from keras.models import Model\n",
    "from keras.layers import Input, Dense\n",
    "\n",
    "from sklearn.model_selection import train_test_split\n",
    "from sklearn.preprocessing import StandardScaler, LabelEncoder, OneHotEncoder\n",
    "from sklearn.metrics import  confusion_matrix, accuracy_score\n",
    "\n",
    "import pandas as pd\n",
    "import numpy as np\n",
    "import pandas_profiling\n",
    "import warnings\n",
    "warnings.filterwarnings('ignore')"
   ]
  },
  {
   "cell_type": "code",
   "execution_count": 3,
   "metadata": {},
   "outputs": [],
   "source": [
    "data = pd.read_csv('Churn_Modelling.csv')"
   ]
  },
  {
   "cell_type": "code",
   "execution_count": 4,
   "metadata": {
    "scrolled": true
   },
   "outputs": [
    {
     "data": {
      "text/html": [
       "<div>\n",
       "<style scoped>\n",
       "    .dataframe tbody tr th:only-of-type {\n",
       "        vertical-align: middle;\n",
       "    }\n",
       "\n",
       "    .dataframe tbody tr th {\n",
       "        vertical-align: top;\n",
       "    }\n",
       "\n",
       "    .dataframe thead th {\n",
       "        text-align: right;\n",
       "    }\n",
       "</style>\n",
       "<table border=\"1\" class=\"dataframe\">\n",
       "  <thead>\n",
       "    <tr style=\"text-align: right;\">\n",
       "      <th></th>\n",
       "      <th>RowNumber</th>\n",
       "      <th>CustomerId</th>\n",
       "      <th>Surname</th>\n",
       "      <th>CreditScore</th>\n",
       "      <th>Geography</th>\n",
       "      <th>Gender</th>\n",
       "      <th>Age</th>\n",
       "      <th>Tenure</th>\n",
       "      <th>Balance</th>\n",
       "      <th>NumOfProducts</th>\n",
       "      <th>HasCrCard</th>\n",
       "      <th>IsActiveMember</th>\n",
       "      <th>EstimatedSalary</th>\n",
       "      <th>Exited</th>\n",
       "    </tr>\n",
       "  </thead>\n",
       "  <tbody>\n",
       "    <tr>\n",
       "      <td>0</td>\n",
       "      <td>1</td>\n",
       "      <td>15634602</td>\n",
       "      <td>Hargrave</td>\n",
       "      <td>619</td>\n",
       "      <td>France</td>\n",
       "      <td>Female</td>\n",
       "      <td>42</td>\n",
       "      <td>2</td>\n",
       "      <td>0.00</td>\n",
       "      <td>1</td>\n",
       "      <td>1</td>\n",
       "      <td>1</td>\n",
       "      <td>101348.88</td>\n",
       "      <td>1</td>\n",
       "    </tr>\n",
       "    <tr>\n",
       "      <td>1</td>\n",
       "      <td>2</td>\n",
       "      <td>15647311</td>\n",
       "      <td>Hill</td>\n",
       "      <td>608</td>\n",
       "      <td>Spain</td>\n",
       "      <td>Female</td>\n",
       "      <td>41</td>\n",
       "      <td>1</td>\n",
       "      <td>83807.86</td>\n",
       "      <td>1</td>\n",
       "      <td>0</td>\n",
       "      <td>1</td>\n",
       "      <td>112542.58</td>\n",
       "      <td>0</td>\n",
       "    </tr>\n",
       "    <tr>\n",
       "      <td>2</td>\n",
       "      <td>3</td>\n",
       "      <td>15619304</td>\n",
       "      <td>Onio</td>\n",
       "      <td>502</td>\n",
       "      <td>France</td>\n",
       "      <td>Female</td>\n",
       "      <td>42</td>\n",
       "      <td>8</td>\n",
       "      <td>159660.80</td>\n",
       "      <td>3</td>\n",
       "      <td>1</td>\n",
       "      <td>0</td>\n",
       "      <td>113931.57</td>\n",
       "      <td>1</td>\n",
       "    </tr>\n",
       "    <tr>\n",
       "      <td>3</td>\n",
       "      <td>4</td>\n",
       "      <td>15701354</td>\n",
       "      <td>Boni</td>\n",
       "      <td>699</td>\n",
       "      <td>France</td>\n",
       "      <td>Female</td>\n",
       "      <td>39</td>\n",
       "      <td>1</td>\n",
       "      <td>0.00</td>\n",
       "      <td>2</td>\n",
       "      <td>0</td>\n",
       "      <td>0</td>\n",
       "      <td>93826.63</td>\n",
       "      <td>0</td>\n",
       "    </tr>\n",
       "    <tr>\n",
       "      <td>4</td>\n",
       "      <td>5</td>\n",
       "      <td>15737888</td>\n",
       "      <td>Mitchell</td>\n",
       "      <td>850</td>\n",
       "      <td>Spain</td>\n",
       "      <td>Female</td>\n",
       "      <td>43</td>\n",
       "      <td>2</td>\n",
       "      <td>125510.82</td>\n",
       "      <td>1</td>\n",
       "      <td>1</td>\n",
       "      <td>1</td>\n",
       "      <td>79084.10</td>\n",
       "      <td>0</td>\n",
       "    </tr>\n",
       "  </tbody>\n",
       "</table>\n",
       "</div>"
      ],
      "text/plain": [
       "   RowNumber  CustomerId   Surname  CreditScore Geography  Gender  Age  \\\n",
       "0          1    15634602  Hargrave          619    France  Female   42   \n",
       "1          2    15647311      Hill          608     Spain  Female   41   \n",
       "2          3    15619304      Onio          502    France  Female   42   \n",
       "3          4    15701354      Boni          699    France  Female   39   \n",
       "4          5    15737888  Mitchell          850     Spain  Female   43   \n",
       "\n",
       "   Tenure    Balance  NumOfProducts  HasCrCard  IsActiveMember  \\\n",
       "0       2       0.00              1          1               1   \n",
       "1       1   83807.86              1          0               1   \n",
       "2       8  159660.80              3          1               0   \n",
       "3       1       0.00              2          0               0   \n",
       "4       2  125510.82              1          1               1   \n",
       "\n",
       "   EstimatedSalary  Exited  \n",
       "0        101348.88       1  \n",
       "1        112542.58       0  \n",
       "2        113931.57       1  \n",
       "3         93826.63       0  \n",
       "4         79084.10       0  "
      ]
     },
     "execution_count": 4,
     "metadata": {},
     "output_type": "execute_result"
    }
   ],
   "source": [
    "data.head()"
   ]
  },
  {
   "cell_type": "markdown",
   "metadata": {},
   "source": [
    "# Data Preprocessing"
   ]
  },
  {
   "cell_type": "code",
   "execution_count": 5,
   "metadata": {},
   "outputs": [],
   "source": [
    "data.drop(['RowNumber', 'CustomerId', 'Surname'], axis = 1, inplace = True)"
   ]
  },
  {
   "cell_type": "code",
   "execution_count": 6,
   "metadata": {},
   "outputs": [
    {
     "data": {
      "text/html": [
       "<div>\n",
       "<style scoped>\n",
       "    .dataframe tbody tr th:only-of-type {\n",
       "        vertical-align: middle;\n",
       "    }\n",
       "\n",
       "    .dataframe tbody tr th {\n",
       "        vertical-align: top;\n",
       "    }\n",
       "\n",
       "    .dataframe thead th {\n",
       "        text-align: right;\n",
       "    }\n",
       "</style>\n",
       "<table border=\"1\" class=\"dataframe\">\n",
       "  <thead>\n",
       "    <tr style=\"text-align: right;\">\n",
       "      <th></th>\n",
       "      <th>CreditScore</th>\n",
       "      <th>Geography</th>\n",
       "      <th>Gender</th>\n",
       "      <th>Age</th>\n",
       "      <th>Tenure</th>\n",
       "      <th>Balance</th>\n",
       "      <th>NumOfProducts</th>\n",
       "      <th>HasCrCard</th>\n",
       "      <th>IsActiveMember</th>\n",
       "      <th>EstimatedSalary</th>\n",
       "      <th>Exited</th>\n",
       "    </tr>\n",
       "  </thead>\n",
       "  <tbody>\n",
       "    <tr>\n",
       "      <td>0</td>\n",
       "      <td>619</td>\n",
       "      <td>France</td>\n",
       "      <td>Female</td>\n",
       "      <td>42</td>\n",
       "      <td>2</td>\n",
       "      <td>0.00</td>\n",
       "      <td>1</td>\n",
       "      <td>1</td>\n",
       "      <td>1</td>\n",
       "      <td>101348.88</td>\n",
       "      <td>1</td>\n",
       "    </tr>\n",
       "    <tr>\n",
       "      <td>1</td>\n",
       "      <td>608</td>\n",
       "      <td>Spain</td>\n",
       "      <td>Female</td>\n",
       "      <td>41</td>\n",
       "      <td>1</td>\n",
       "      <td>83807.86</td>\n",
       "      <td>1</td>\n",
       "      <td>0</td>\n",
       "      <td>1</td>\n",
       "      <td>112542.58</td>\n",
       "      <td>0</td>\n",
       "    </tr>\n",
       "    <tr>\n",
       "      <td>2</td>\n",
       "      <td>502</td>\n",
       "      <td>France</td>\n",
       "      <td>Female</td>\n",
       "      <td>42</td>\n",
       "      <td>8</td>\n",
       "      <td>159660.80</td>\n",
       "      <td>3</td>\n",
       "      <td>1</td>\n",
       "      <td>0</td>\n",
       "      <td>113931.57</td>\n",
       "      <td>1</td>\n",
       "    </tr>\n",
       "    <tr>\n",
       "      <td>3</td>\n",
       "      <td>699</td>\n",
       "      <td>France</td>\n",
       "      <td>Female</td>\n",
       "      <td>39</td>\n",
       "      <td>1</td>\n",
       "      <td>0.00</td>\n",
       "      <td>2</td>\n",
       "      <td>0</td>\n",
       "      <td>0</td>\n",
       "      <td>93826.63</td>\n",
       "      <td>0</td>\n",
       "    </tr>\n",
       "    <tr>\n",
       "      <td>4</td>\n",
       "      <td>850</td>\n",
       "      <td>Spain</td>\n",
       "      <td>Female</td>\n",
       "      <td>43</td>\n",
       "      <td>2</td>\n",
       "      <td>125510.82</td>\n",
       "      <td>1</td>\n",
       "      <td>1</td>\n",
       "      <td>1</td>\n",
       "      <td>79084.10</td>\n",
       "      <td>0</td>\n",
       "    </tr>\n",
       "  </tbody>\n",
       "</table>\n",
       "</div>"
      ],
      "text/plain": [
       "   CreditScore Geography  Gender  Age  Tenure    Balance  NumOfProducts  \\\n",
       "0          619    France  Female   42       2       0.00              1   \n",
       "1          608     Spain  Female   41       1   83807.86              1   \n",
       "2          502    France  Female   42       8  159660.80              3   \n",
       "3          699    France  Female   39       1       0.00              2   \n",
       "4          850     Spain  Female   43       2  125510.82              1   \n",
       "\n",
       "   HasCrCard  IsActiveMember  EstimatedSalary  Exited  \n",
       "0          1               1        101348.88       1  \n",
       "1          0               1        112542.58       0  \n",
       "2          1               0        113931.57       1  \n",
       "3          0               0         93826.63       0  \n",
       "4          1               1         79084.10       0  "
      ]
     },
     "execution_count": 6,
     "metadata": {},
     "output_type": "execute_result"
    }
   ],
   "source": [
    "data.head()"
   ]
  },
  {
   "cell_type": "markdown",
   "metadata": {},
   "source": [
    "# Applying Standard Scaler"
   ]
  },
  {
   "cell_type": "code",
   "execution_count": 7,
   "metadata": {},
   "outputs": [],
   "source": [
    "sc = StandardScaler()\n",
    "data.iloc[:, [0,3,5,9]] = sc.fit_transform(data.iloc[:, [0,3,5,9]])"
   ]
  },
  {
   "cell_type": "code",
   "execution_count": 8,
   "metadata": {},
   "outputs": [
    {
     "data": {
      "text/html": [
       "<div>\n",
       "<style scoped>\n",
       "    .dataframe tbody tr th:only-of-type {\n",
       "        vertical-align: middle;\n",
       "    }\n",
       "\n",
       "    .dataframe tbody tr th {\n",
       "        vertical-align: top;\n",
       "    }\n",
       "\n",
       "    .dataframe thead th {\n",
       "        text-align: right;\n",
       "    }\n",
       "</style>\n",
       "<table border=\"1\" class=\"dataframe\">\n",
       "  <thead>\n",
       "    <tr style=\"text-align: right;\">\n",
       "      <th></th>\n",
       "      <th>CreditScore</th>\n",
       "      <th>Geography</th>\n",
       "      <th>Gender</th>\n",
       "      <th>Age</th>\n",
       "      <th>Tenure</th>\n",
       "      <th>Balance</th>\n",
       "      <th>NumOfProducts</th>\n",
       "      <th>HasCrCard</th>\n",
       "      <th>IsActiveMember</th>\n",
       "      <th>EstimatedSalary</th>\n",
       "      <th>Exited</th>\n",
       "    </tr>\n",
       "  </thead>\n",
       "  <tbody>\n",
       "    <tr>\n",
       "      <td>0</td>\n",
       "      <td>-0.326221</td>\n",
       "      <td>France</td>\n",
       "      <td>Female</td>\n",
       "      <td>0.293517</td>\n",
       "      <td>2</td>\n",
       "      <td>-1.225848</td>\n",
       "      <td>1</td>\n",
       "      <td>1</td>\n",
       "      <td>1</td>\n",
       "      <td>0.021886</td>\n",
       "      <td>1</td>\n",
       "    </tr>\n",
       "    <tr>\n",
       "      <td>1</td>\n",
       "      <td>-0.440036</td>\n",
       "      <td>Spain</td>\n",
       "      <td>Female</td>\n",
       "      <td>0.198164</td>\n",
       "      <td>1</td>\n",
       "      <td>0.117350</td>\n",
       "      <td>1</td>\n",
       "      <td>0</td>\n",
       "      <td>1</td>\n",
       "      <td>0.216534</td>\n",
       "      <td>0</td>\n",
       "    </tr>\n",
       "    <tr>\n",
       "      <td>2</td>\n",
       "      <td>-1.536794</td>\n",
       "      <td>France</td>\n",
       "      <td>Female</td>\n",
       "      <td>0.293517</td>\n",
       "      <td>8</td>\n",
       "      <td>1.333053</td>\n",
       "      <td>3</td>\n",
       "      <td>1</td>\n",
       "      <td>0</td>\n",
       "      <td>0.240687</td>\n",
       "      <td>1</td>\n",
       "    </tr>\n",
       "    <tr>\n",
       "      <td>3</td>\n",
       "      <td>0.501521</td>\n",
       "      <td>France</td>\n",
       "      <td>Female</td>\n",
       "      <td>0.007457</td>\n",
       "      <td>1</td>\n",
       "      <td>-1.225848</td>\n",
       "      <td>2</td>\n",
       "      <td>0</td>\n",
       "      <td>0</td>\n",
       "      <td>-0.108918</td>\n",
       "      <td>0</td>\n",
       "    </tr>\n",
       "    <tr>\n",
       "      <td>4</td>\n",
       "      <td>2.063884</td>\n",
       "      <td>Spain</td>\n",
       "      <td>Female</td>\n",
       "      <td>0.388871</td>\n",
       "      <td>2</td>\n",
       "      <td>0.785728</td>\n",
       "      <td>1</td>\n",
       "      <td>1</td>\n",
       "      <td>1</td>\n",
       "      <td>-0.365276</td>\n",
       "      <td>0</td>\n",
       "    </tr>\n",
       "  </tbody>\n",
       "</table>\n",
       "</div>"
      ],
      "text/plain": [
       "   CreditScore Geography  Gender       Age  Tenure   Balance  NumOfProducts  \\\n",
       "0    -0.326221    France  Female  0.293517       2 -1.225848              1   \n",
       "1    -0.440036     Spain  Female  0.198164       1  0.117350              1   \n",
       "2    -1.536794    France  Female  0.293517       8  1.333053              3   \n",
       "3     0.501521    France  Female  0.007457       1 -1.225848              2   \n",
       "4     2.063884     Spain  Female  0.388871       2  0.785728              1   \n",
       "\n",
       "   HasCrCard  IsActiveMember  EstimatedSalary  Exited  \n",
       "0          1               1         0.021886       1  \n",
       "1          0               1         0.216534       0  \n",
       "2          1               0         0.240687       1  \n",
       "3          0               0        -0.108918       0  \n",
       "4          1               1        -0.365276       0  "
      ]
     },
     "execution_count": 8,
     "metadata": {},
     "output_type": "execute_result"
    }
   ],
   "source": [
    "data.head()"
   ]
  },
  {
   "cell_type": "markdown",
   "metadata": {},
   "source": [
    "#  Splitting Input and Output"
   ]
  },
  {
   "cell_type": "code",
   "execution_count": 9,
   "metadata": {},
   "outputs": [],
   "source": [
    "X = data.iloc[:, 0:-1].values\n",
    "Y = data.iloc[:, -1:].values"
   ]
  },
  {
   "cell_type": "code",
   "execution_count": 10,
   "metadata": {
    "scrolled": true
   },
   "outputs": [
    {
     "data": {
      "text/plain": [
       "array([[-0.3262214220367463, 'France', 'Female', ..., 1, 1,\n",
       "        0.021886493995386117],\n",
       "       [-0.4400359548576657, 'Spain', 'Female', ..., 0, 1,\n",
       "        0.21653375188734025],\n",
       "       [-1.536794180222889, 'France', 'Female', ..., 1, 0,\n",
       "        0.24068690006348814],\n",
       "       ...,\n",
       "       [0.6049883919525944, 'France', 'Female', ..., 0, 1,\n",
       "        -1.0086430751933764],\n",
       "       [1.2568352617451328, 'Germany', 'Male', ..., 1, 0,\n",
       "        -0.12523071253853688],\n",
       "       [1.4637707759649863, 'France', 'Female', ..., 1, 0,\n",
       "        -1.07636975538291]], dtype=object)"
      ]
     },
     "execution_count": 10,
     "metadata": {},
     "output_type": "execute_result"
    }
   ],
   "source": [
    "X"
   ]
  },
  {
   "cell_type": "code",
   "execution_count": 11,
   "metadata": {},
   "outputs": [
    {
     "data": {
      "text/plain": [
       "array([[1],\n",
       "       [0],\n",
       "       [1],\n",
       "       ...,\n",
       "       [1],\n",
       "       [1],\n",
       "       [0]])"
      ]
     },
     "execution_count": 11,
     "metadata": {},
     "output_type": "execute_result"
    }
   ],
   "source": [
    "Y"
   ]
  },
  {
   "cell_type": "markdown",
   "metadata": {},
   "source": [
    "# Applying One hot encoding"
   ]
  },
  {
   "cell_type": "code",
   "execution_count": 12,
   "metadata": {},
   "outputs": [],
   "source": [
    "lb = LabelEncoder()\n",
    "X[:, 1] = lb.fit_transform(X[:, 1])\n",
    "X[:, 2] = lb.fit_transform(X[:, 2])"
   ]
  },
  {
   "cell_type": "code",
   "execution_count": 13,
   "metadata": {},
   "outputs": [],
   "source": [
    "ohe = OneHotEncoder(categorical_features = [1])\n",
    "X = ohe.fit_transform(X).toarray()"
   ]
  },
  {
   "cell_type": "code",
   "execution_count": 14,
   "metadata": {},
   "outputs": [
    {
     "data": {
      "text/plain": [
       "array([[ 1.        ,  0.        ,  0.        , -0.32622142,  0.        ,\n",
       "         0.29351742,  2.        , -1.22584767,  1.        ,  1.        ,\n",
       "         1.        ,  0.02188649],\n",
       "       [ 0.        ,  0.        ,  1.        , -0.44003595,  0.        ,\n",
       "         0.19816383,  1.        ,  0.11735002,  1.        ,  0.        ,\n",
       "         1.        ,  0.21653375],\n",
       "       [ 1.        ,  0.        ,  0.        , -1.53679418,  0.        ,\n",
       "         0.29351742,  8.        ,  1.33305335,  3.        ,  1.        ,\n",
       "         0.        ,  0.2406869 ]])"
      ]
     },
     "execution_count": 14,
     "metadata": {},
     "output_type": "execute_result"
    }
   ],
   "source": [
    "X[0:3]"
   ]
  },
  {
   "cell_type": "code",
   "execution_count": 15,
   "metadata": {},
   "outputs": [
    {
     "data": {
      "text/plain": [
       "(10000, 12)"
      ]
     },
     "execution_count": 15,
     "metadata": {},
     "output_type": "execute_result"
    }
   ],
   "source": [
    "X.shape"
   ]
  },
  {
   "cell_type": "code",
   "execution_count": 16,
   "metadata": {},
   "outputs": [],
   "source": [
    "X = X[:,1:]"
   ]
  },
  {
   "cell_type": "code",
   "execution_count": 17,
   "metadata": {},
   "outputs": [
    {
     "data": {
      "text/plain": [
       "(10000, 11)"
      ]
     },
     "execution_count": 17,
     "metadata": {},
     "output_type": "execute_result"
    }
   ],
   "source": [
    "X.shape"
   ]
  },
  {
   "cell_type": "code",
   "execution_count": 18,
   "metadata": {},
   "outputs": [
    {
     "data": {
      "text/plain": [
       "array([ 0.        ,  0.        , -0.32622142,  0.        ,  0.29351742,\n",
       "        2.        , -1.22584767,  1.        ,  1.        ,  1.        ,\n",
       "        0.02188649])"
      ]
     },
     "execution_count": 18,
     "metadata": {},
     "output_type": "execute_result"
    }
   ],
   "source": [
    "X[0]"
   ]
  },
  {
   "cell_type": "markdown",
   "metadata": {},
   "source": [
    "# Splitting data in to training and testing"
   ]
  },
  {
   "cell_type": "code",
   "execution_count": 19,
   "metadata": {},
   "outputs": [],
   "source": [
    "x_train, x_test, y_train, y_test = train_test_split(X, Y, test_size = 0.2, random_state = 0)"
   ]
  },
  {
   "cell_type": "code",
   "execution_count": 20,
   "metadata": {},
   "outputs": [
    {
     "data": {
      "text/plain": [
       "((8000, 11), (2000, 11), (8000, 1), (2000, 1))"
      ]
     },
     "execution_count": 20,
     "metadata": {},
     "output_type": "execute_result"
    }
   ],
   "source": [
    "x_train.shape, x_test.shape, y_train.shape, y_test.shape"
   ]
  },
  {
   "cell_type": "markdown",
   "metadata": {},
   "source": [
    "# Using Keras Functional API"
   ]
  },
  {
   "cell_type": "markdown",
   "metadata": {},
   "source": [
    "The Keras Python library makes creating deep learning models fast and easy. Moreover we can create more complicated models using functional API\n",
    "\n",
    "The functional API uses the same layers as the Sequential model but provides more flexibility in putting them together. In the functional API you define the layers first, and then create the Model, compile it, and fit (train) it."
   ]
  },
  {
   "cell_type": "markdown",
   "metadata": {},
   "source": [
    "# Connecting Layers"
   ]
  },
  {
   "cell_type": "markdown",
   "metadata": {},
   "source": [
    "The layers in the model are connected pairwise.\n",
    "\n",
    "This is done by specifying where the input comes from when defining each new layer. A bracket notation is used, such that after the layer is created, the layer from which the input to the current layer comes from is specified.\n",
    "\n",
    "for example. We can create the input layer as below, then create a hidden layer as a Dense that receives input only from the input layer."
   ]
  },
  {
   "cell_type": "markdown",
   "metadata": {},
   "source": [
    "# Instantiate a Keras tensor"
   ]
  },
  {
   "cell_type": "code",
   "execution_count": 21,
   "metadata": {},
   "outputs": [],
   "source": [
    "visible = Input(shape = (11,))"
   ]
  },
  {
   "cell_type": "code",
   "execution_count": 22,
   "metadata": {},
   "outputs": [
    {
     "data": {
      "text/plain": [
       "<tf.Tensor 'input_1:0' shape=(?, 11) dtype=float32>"
      ]
     },
     "execution_count": 22,
     "metadata": {},
     "output_type": "execute_result"
    }
   ],
   "source": [
    "visible"
   ]
  },
  {
   "cell_type": "markdown",
   "metadata": {},
   "source": [
    "# Creating 1st hidden layer"
   ]
  },
  {
   "cell_type": "markdown",
   "metadata": {},
   "source": [
    "Attributes:-\n",
    "\n",
    "output_dim = number of nodes \n",
    "\n",
    "activation = activation function\n",
    "\n",
    "use_bias = whether the layer uses a bias vector"
   ]
  },
  {
   "cell_type": "code",
   "execution_count": 39,
   "metadata": {},
   "outputs": [],
   "source": [
    "hidden1 = Dense(output_dim = 6, activation = 'relu', use_bias = True, name = 'hidden_layer_1')(visible)"
   ]
  },
  {
   "cell_type": "markdown",
   "metadata": {},
   "source": [
    "# Creating the 2nd Hidden Layer"
   ]
  },
  {
   "cell_type": "code",
   "execution_count": 40,
   "metadata": {},
   "outputs": [],
   "source": [
    "hidden2 = Dense(output_dim = 6, activation = 'relu', use_bias = True, name = 'hidden_layer_2')(hidden1)"
   ]
  },
  {
   "cell_type": "markdown",
   "metadata": {},
   "source": [
    "# Creating the Output Layer"
   ]
  },
  {
   "cell_type": "code",
   "execution_count": 41,
   "metadata": {},
   "outputs": [],
   "source": [
    "output = Dense(output_dim = 1, activation = 'sigmoid', name = 'output_layer')(hidden2)"
   ]
  },
  {
   "cell_type": "markdown",
   "metadata": {},
   "source": [
    "# Creating the model"
   ]
  },
  {
   "cell_type": "markdown",
   "metadata": {},
   "source": [
    "This will create a model that include the Input Layer and 3 Dense Layers"
   ]
  },
  {
   "cell_type": "code",
   "execution_count": 43,
   "metadata": {},
   "outputs": [],
   "source": [
    "model = Model(inputs = visible, outputs = output)"
   ]
  },
  {
   "cell_type": "code",
   "execution_count": 44,
   "metadata": {},
   "outputs": [
    {
     "data": {
      "text/plain": [
       "<keras.engine.training.Model at 0x7f9c5c27f2d0>"
      ]
     },
     "execution_count": 44,
     "metadata": {},
     "output_type": "execute_result"
    }
   ],
   "source": [
    "model"
   ]
  },
  {
   "cell_type": "markdown",
   "metadata": {},
   "source": [
    "# Summarize the Layers"
   ]
  },
  {
   "cell_type": "code",
   "execution_count": 45,
   "metadata": {},
   "outputs": [
    {
     "name": "stdout",
     "output_type": "stream",
     "text": [
      "Model: \"model_2\"\n",
      "_________________________________________________________________\n",
      "Layer (type)                 Output Shape              Param #   \n",
      "=================================================================\n",
      "input_1 (InputLayer)         (None, 11)                0         \n",
      "_________________________________________________________________\n",
      "hidden_layer_1 (Dense)       (None, 6)                 72        \n",
      "_________________________________________________________________\n",
      "hidden_layer_2 (Dense)       (None, 6)                 42        \n",
      "_________________________________________________________________\n",
      "output_layer (Dense)         (None, 1)                 7         \n",
      "=================================================================\n",
      "Total params: 121\n",
      "Trainable params: 121\n",
      "Non-trainable params: 0\n",
      "_________________________________________________________________\n"
     ]
    }
   ],
   "source": [
    "model.summary()"
   ]
  },
  {
   "cell_type": "markdown",
   "metadata": {},
   "source": [
    "# Compile the Artificial Neural network"
   ]
  },
  {
   "cell_type": "code",
   "execution_count": 46,
   "metadata": {},
   "outputs": [],
   "source": [
    "model.compile(optimizer = 'adam', loss = 'binary_crossentropy', metrics = ['accuracy'])"
   ]
  },
  {
   "cell_type": "markdown",
   "metadata": {},
   "source": [
    "# Fitting the ANN to the training set"
   ]
  },
  {
   "cell_type": "code",
   "execution_count": 47,
   "metadata": {
    "scrolled": true
   },
   "outputs": [
    {
     "name": "stdout",
     "output_type": "stream",
     "text": [
      "Epoch 1/100\n",
      "8000/8000 [==============================] - 2s 303us/step - loss: 0.5020 - accuracy: 0.7960\n",
      "Epoch 2/100\n",
      "8000/8000 [==============================] - 1s 140us/step - loss: 0.4553 - accuracy: 0.7960\n",
      "Epoch 3/100\n",
      "8000/8000 [==============================] - 1s 137us/step - loss: 0.4379 - accuracy: 0.7968\n",
      "Epoch 4/100\n",
      "8000/8000 [==============================] - 1s 132us/step - loss: 0.4317 - accuracy: 0.8051\n",
      "Epoch 5/100\n",
      "8000/8000 [==============================] - 1s 135us/step - loss: 0.4279 - accuracy: 0.8099\n",
      "Epoch 6/100\n",
      "8000/8000 [==============================] - 1s 136us/step - loss: 0.4237 - accuracy: 0.8120\n",
      "Epoch 7/100\n",
      "8000/8000 [==============================] - 1s 132us/step - loss: 0.4204 - accuracy: 0.8164\n",
      "Epoch 8/100\n",
      "8000/8000 [==============================] - 1s 135us/step - loss: 0.4171 - accuracy: 0.8189\n",
      "Epoch 9/100\n",
      "8000/8000 [==============================] - 1s 136us/step - loss: 0.4149 - accuracy: 0.8223\n",
      "Epoch 10/100\n",
      "8000/8000 [==============================] - 1s 148us/step - loss: 0.4129 - accuracy: 0.8251\n",
      "Epoch 11/100\n",
      "8000/8000 [==============================] - 1s 143us/step - loss: 0.4115 - accuracy: 0.8288\n",
      "Epoch 12/100\n",
      "8000/8000 [==============================] - 1s 155us/step - loss: 0.4101 - accuracy: 0.8285\n",
      "Epoch 13/100\n",
      "8000/8000 [==============================] - 1s 144us/step - loss: 0.4093 - accuracy: 0.8299\n",
      "Epoch 14/100\n",
      "8000/8000 [==============================] - 1s 141us/step - loss: 0.4084 - accuracy: 0.8316\n",
      "Epoch 15/100\n",
      "8000/8000 [==============================] - 1s 138us/step - loss: 0.4078 - accuracy: 0.8322\n",
      "Epoch 16/100\n",
      "8000/8000 [==============================] - 1s 154us/step - loss: 0.4066 - accuracy: 0.8319\n",
      "Epoch 17/100\n",
      "8000/8000 [==============================] - 1s 162us/step - loss: 0.4058 - accuracy: 0.8329\n",
      "Epoch 18/100\n",
      "8000/8000 [==============================] - 1s 157us/step - loss: 0.4045 - accuracy: 0.8324\n",
      "Epoch 19/100\n",
      "8000/8000 [==============================] - 1s 131us/step - loss: 0.4048 - accuracy: 0.8331\n",
      "Epoch 20/100\n",
      "8000/8000 [==============================] - 1s 142us/step - loss: 0.4036 - accuracy: 0.8310\n",
      "Epoch 21/100\n",
      "8000/8000 [==============================] - 1s 127us/step - loss: 0.4024 - accuracy: 0.8339\n",
      "Epoch 22/100\n",
      "8000/8000 [==============================] - 1s 140us/step - loss: 0.4002 - accuracy: 0.8351\n",
      "Epoch 23/100\n",
      "8000/8000 [==============================] - 1s 142us/step - loss: 0.3959 - accuracy: 0.8347\n",
      "Epoch 24/100\n",
      "8000/8000 [==============================] - 1s 131us/step - loss: 0.3937 - accuracy: 0.8353\n",
      "Epoch 25/100\n",
      "8000/8000 [==============================] - 1s 130us/step - loss: 0.3920 - accuracy: 0.8356\n",
      "Epoch 26/100\n",
      "8000/8000 [==============================] - 1s 125us/step - loss: 0.3888 - accuracy: 0.8357\n",
      "Epoch 27/100\n",
      "8000/8000 [==============================] - 1s 127us/step - loss: 0.3883 - accuracy: 0.8354\n",
      "Epoch 28/100\n",
      "8000/8000 [==============================] - 1s 151us/step - loss: 0.3866 - accuracy: 0.8381\n",
      "Epoch 29/100\n",
      "8000/8000 [==============================] - 1s 131us/step - loss: 0.3858 - accuracy: 0.8384\n",
      "Epoch 30/100\n",
      "8000/8000 [==============================] - 1s 152us/step - loss: 0.3849 - accuracy: 0.8379\n",
      "Epoch 31/100\n",
      "8000/8000 [==============================] - 1s 139us/step - loss: 0.3836 - accuracy: 0.8380\n",
      "Epoch 32/100\n",
      "8000/8000 [==============================] - 1s 176us/step - loss: 0.3825 - accuracy: 0.8406\n",
      "Epoch 33/100\n",
      "8000/8000 [==============================] - 1s 156us/step - loss: 0.3816 - accuracy: 0.8401\n",
      "Epoch 34/100\n",
      "8000/8000 [==============================] - 1s 132us/step - loss: 0.3817 - accuracy: 0.8385\n",
      "Epoch 35/100\n",
      "8000/8000 [==============================] - 1s 163us/step - loss: 0.3809 - accuracy: 0.8393\n",
      "Epoch 36/100\n",
      "8000/8000 [==============================] - 1s 162us/step - loss: 0.3800 - accuracy: 0.8413\n",
      "Epoch 37/100\n",
      "8000/8000 [==============================] - 1s 173us/step - loss: 0.3784 - accuracy: 0.8403\n",
      "Epoch 38/100\n",
      "8000/8000 [==============================] - 1s 145us/step - loss: 0.3785 - accuracy: 0.8401\n",
      "Epoch 39/100\n",
      "8000/8000 [==============================] - 1s 156us/step - loss: 0.3780 - accuracy: 0.8399\n",
      "Epoch 40/100\n",
      "8000/8000 [==============================] - 1s 164us/step - loss: 0.3772 - accuracy: 0.8393\n",
      "Epoch 41/100\n",
      "8000/8000 [==============================] - 1s 145us/step - loss: 0.3771 - accuracy: 0.8409\n",
      "Epoch 42/100\n",
      "8000/8000 [==============================] - 1s 145us/step - loss: 0.3759 - accuracy: 0.8416\n",
      "Epoch 43/100\n",
      "8000/8000 [==============================] - 1s 146us/step - loss: 0.3755 - accuracy: 0.8425\n",
      "Epoch 44/100\n",
      "8000/8000 [==============================] - 1s 173us/step - loss: 0.3756 - accuracy: 0.8418\n",
      "Epoch 45/100\n",
      "8000/8000 [==============================] - 1s 146us/step - loss: 0.3747 - accuracy: 0.8431\n",
      "Epoch 46/100\n",
      "8000/8000 [==============================] - 1s 149us/step - loss: 0.3749 - accuracy: 0.8400\n",
      "Epoch 47/100\n",
      "8000/8000 [==============================] - 1s 145us/step - loss: 0.3734 - accuracy: 0.8424\n",
      "Epoch 48/100\n",
      "8000/8000 [==============================] - 1s 148us/step - loss: 0.3735 - accuracy: 0.8421\n",
      "Epoch 49/100\n",
      "8000/8000 [==============================] - 1s 144us/step - loss: 0.3735 - accuracy: 0.8422\n",
      "Epoch 50/100\n",
      "8000/8000 [==============================] - 1s 149us/step - loss: 0.3728 - accuracy: 0.8429\n",
      "Epoch 51/100\n",
      "8000/8000 [==============================] - 1s 152us/step - loss: 0.3726 - accuracy: 0.8438\n",
      "Epoch 52/100\n",
      "8000/8000 [==============================] - 1s 145us/step - loss: 0.3727 - accuracy: 0.8397\n",
      "Epoch 53/100\n",
      "8000/8000 [==============================] - 1s 146us/step - loss: 0.3722 - accuracy: 0.8419\n",
      "Epoch 54/100\n",
      "8000/8000 [==============================] - 1s 140us/step - loss: 0.3722 - accuracy: 0.8422\n",
      "Epoch 55/100\n",
      "8000/8000 [==============================] - 1s 149us/step - loss: 0.3724 - accuracy: 0.8416\n",
      "Epoch 56/100\n",
      "8000/8000 [==============================] - 1s 145us/step - loss: 0.3718 - accuracy: 0.8435\n",
      "Epoch 57/100\n",
      "8000/8000 [==============================] - 1s 159us/step - loss: 0.3719 - accuracy: 0.8426\n",
      "Epoch 58/100\n",
      "8000/8000 [==============================] - 1s 157us/step - loss: 0.3708 - accuracy: 0.8420\n",
      "Epoch 59/100\n",
      "8000/8000 [==============================] - 1s 145us/step - loss: 0.3722 - accuracy: 0.8428\n",
      "Epoch 60/100\n",
      "8000/8000 [==============================] - 1s 149us/step - loss: 0.3706 - accuracy: 0.8399\n",
      "Epoch 61/100\n",
      "8000/8000 [==============================] - 1s 142us/step - loss: 0.3709 - accuracy: 0.8444\n",
      "Epoch 62/100\n",
      "8000/8000 [==============================] - 1s 145us/step - loss: 0.3707 - accuracy: 0.8425\n",
      "Epoch 63/100\n",
      "8000/8000 [==============================] - 1s 138us/step - loss: 0.3710 - accuracy: 0.8424\n",
      "Epoch 64/100\n",
      "8000/8000 [==============================] - 1s 151us/step - loss: 0.3702 - accuracy: 0.8414\n",
      "Epoch 65/100\n",
      "8000/8000 [==============================] - 1s 153us/step - loss: 0.3700 - accuracy: 0.8434\n",
      "Epoch 66/100\n",
      "8000/8000 [==============================] - 1s 157us/step - loss: 0.3700 - accuracy: 0.8429\n",
      "Epoch 67/100\n",
      "8000/8000 [==============================] - 1s 146us/step - loss: 0.3712 - accuracy: 0.8414\n",
      "Epoch 68/100\n",
      "8000/8000 [==============================] - 1s 145us/step - loss: 0.3701 - accuracy: 0.8409\n",
      "Epoch 69/100\n",
      "8000/8000 [==============================] - 1s 145us/step - loss: 0.3701 - accuracy: 0.8430\n",
      "Epoch 70/100\n",
      "8000/8000 [==============================] - 1s 147us/step - loss: 0.3697 - accuracy: 0.8430\n",
      "Epoch 71/100\n",
      "8000/8000 [==============================] - 1s 115us/step - loss: 0.3695 - accuracy: 0.8411\n",
      "Epoch 72/100\n",
      "8000/8000 [==============================] - 2s 291us/step - loss: 0.3699 - accuracy: 0.8409\n",
      "Epoch 73/100\n",
      "8000/8000 [==============================] - 1s 152us/step - loss: 0.3689 - accuracy: 0.8426\n",
      "Epoch 74/100\n",
      "8000/8000 [==============================] - 1s 152us/step - loss: 0.3686 - accuracy: 0.8438\n",
      "Epoch 75/100\n",
      "8000/8000 [==============================] - 1s 151us/step - loss: 0.3697 - accuracy: 0.8425\n",
      "Epoch 76/100\n",
      "8000/8000 [==============================] - 1s 157us/step - loss: 0.3689 - accuracy: 0.8384\n",
      "Epoch 77/100\n",
      "8000/8000 [==============================] - 1s 152us/step - loss: 0.3687 - accuracy: 0.8399\n",
      "Epoch 78/100\n"
     ]
    },
    {
     "name": "stdout",
     "output_type": "stream",
     "text": [
      "8000/8000 [==============================] - 1s 139us/step - loss: 0.3689 - accuracy: 0.8428\n",
      "Epoch 79/100\n",
      "8000/8000 [==============================] - 1s 142us/step - loss: 0.3687 - accuracy: 0.8415\n",
      "Epoch 80/100\n",
      "8000/8000 [==============================] - 1s 146us/step - loss: 0.3674 - accuracy: 0.8421\n",
      "Epoch 81/100\n",
      "8000/8000 [==============================] - 1s 172us/step - loss: 0.3686 - accuracy: 0.8418\n",
      "Epoch 82/100\n",
      "8000/8000 [==============================] - 1s 182us/step - loss: 0.3677 - accuracy: 0.8405\n",
      "Epoch 83/100\n",
      "8000/8000 [==============================] - 2s 191us/step - loss: 0.3678 - accuracy: 0.8432\n",
      "Epoch 84/100\n",
      "8000/8000 [==============================] - 1s 179us/step - loss: 0.3680 - accuracy: 0.8411\n",
      "Epoch 85/100\n",
      "8000/8000 [==============================] - 1s 167us/step - loss: 0.3677 - accuracy: 0.8419\n",
      "Epoch 86/100\n",
      "8000/8000 [==============================] - 1s 140us/step - loss: 0.3671 - accuracy: 0.8431\n",
      "Epoch 87/100\n",
      "8000/8000 [==============================] - 1s 138us/step - loss: 0.3674 - accuracy: 0.8420\n",
      "Epoch 88/100\n",
      "8000/8000 [==============================] - 1s 144us/step - loss: 0.3676 - accuracy: 0.8413\n",
      "Epoch 89/100\n",
      "8000/8000 [==============================] - 1s 143us/step - loss: 0.3670 - accuracy: 0.8431\n",
      "Epoch 90/100\n",
      "8000/8000 [==============================] - 1s 150us/step - loss: 0.3670 - accuracy: 0.8435\n",
      "Epoch 91/100\n",
      "8000/8000 [==============================] - 1s 150us/step - loss: 0.3670 - accuracy: 0.8401\n",
      "Epoch 92/100\n",
      "8000/8000 [==============================] - 1s 145us/step - loss: 0.3667 - accuracy: 0.8403\n",
      "Epoch 93/100\n",
      "8000/8000 [==============================] - 1s 139us/step - loss: 0.3666 - accuracy: 0.8418\n",
      "Epoch 94/100\n",
      "8000/8000 [==============================] - 1s 143us/step - loss: 0.3671 - accuracy: 0.8418\n",
      "Epoch 95/100\n",
      "8000/8000 [==============================] - 1s 144us/step - loss: 0.3669 - accuracy: 0.8421\n",
      "Epoch 96/100\n",
      "8000/8000 [==============================] - 1s 140us/step - loss: 0.3659 - accuracy: 0.8420\n",
      "Epoch 97/100\n",
      "8000/8000 [==============================] - 1s 139us/step - loss: 0.3657 - accuracy: 0.8416\n",
      "Epoch 98/100\n",
      "8000/8000 [==============================] - 1s 145us/step - loss: 0.3662 - accuracy: 0.8428\n",
      "Epoch 99/100\n",
      "8000/8000 [==============================] - 1s 149us/step - loss: 0.3664 - accuracy: 0.8426\n",
      "Epoch 100/100\n",
      "8000/8000 [==============================] - 1s 156us/step - loss: 0.3654 - accuracy: 0.8410\n"
     ]
    },
    {
     "data": {
      "text/plain": [
       "<keras.callbacks.callbacks.History at 0x7f9c5c38a910>"
      ]
     },
     "execution_count": 47,
     "metadata": {},
     "output_type": "execute_result"
    }
   ],
   "source": [
    "model.fit(x = x_train, y = y_train, batch_size = 10, epochs = 100) "
   ]
  },
  {
   "cell_type": "markdown",
   "metadata": {},
   "source": [
    "# Predicting the Test set Result"
   ]
  },
  {
   "cell_type": "code",
   "execution_count": 48,
   "metadata": {},
   "outputs": [],
   "source": [
    "y_pred = model.predict(x_test)"
   ]
  },
  {
   "cell_type": "code",
   "execution_count": 49,
   "metadata": {},
   "outputs": [
    {
     "data": {
      "text/plain": [
       "array([[0.16671869],\n",
       "       [0.27475262],\n",
       "       [0.20642674],\n",
       "       ...,\n",
       "       [0.34064713],\n",
       "       [0.12664905],\n",
       "       [0.13129064]], dtype=float32)"
      ]
     },
     "execution_count": 49,
     "metadata": {},
     "output_type": "execute_result"
    }
   ],
   "source": [
    "y_pred"
   ]
  },
  {
   "cell_type": "code",
   "execution_count": 50,
   "metadata": {},
   "outputs": [],
   "source": [
    "y_pred = (y_pred > 0.5)"
   ]
  },
  {
   "cell_type": "code",
   "execution_count": 51,
   "metadata": {},
   "outputs": [
    {
     "data": {
      "text/plain": [
       "array([[False],\n",
       "       [False],\n",
       "       [False],\n",
       "       [False],\n",
       "       [False],\n",
       "       [ True]])"
      ]
     },
     "execution_count": 51,
     "metadata": {},
     "output_type": "execute_result"
    }
   ],
   "source": [
    "y_pred[0:6]"
   ]
  },
  {
   "cell_type": "code",
   "execution_count": 52,
   "metadata": {},
   "outputs": [
    {
     "data": {
      "text/plain": [
       "array([[1528,   67],\n",
       "       [ 238,  167]])"
      ]
     },
     "execution_count": 52,
     "metadata": {},
     "output_type": "execute_result"
    }
   ],
   "source": [
    "cm = confusion_matrix(y_test, y_pred)\n",
    "cm"
   ]
  },
  {
   "cell_type": "code",
   "execution_count": 53,
   "metadata": {},
   "outputs": [
    {
     "data": {
      "text/plain": [
       "0.8475"
      ]
     },
     "execution_count": 53,
     "metadata": {},
     "output_type": "execute_result"
    }
   ],
   "source": [
    "score = accuracy_score(y_test, y_pred)\n",
    "score"
   ]
  },
  {
   "cell_type": "markdown",
   "metadata": {},
   "source": [
    "# Keras Graphs"
   ]
  },
  {
   "cell_type": "code",
   "execution_count": 54,
   "metadata": {},
   "outputs": [
    {
     "data": {
      "image/png": "[encoded data removed]",
      "text/plain": [
       "<IPython.core.display.Image object>"
      ]
     },
     "execution_count": 54,
     "metadata": {},
     "output_type": "execute_result"
    }
   ],
   "source": [
    "plot_model(model)"
   ]
  },
  {
   "cell_type": "code",
   "execution_count": null,
   "metadata": {},
   "outputs": [],
   "source": []
  }
 ],
 "metadata": {
  "kernelspec": {
   "display_name": "Python 3",
   "language": "python",
   "name": "python3"
  },
  "language_info": {
   "codemirror_mode": {
    "name": "ipython",
    "version": 3
   },
   "file_extension": ".py",
   "mimetype": "text/x-python",
   "name": "python",
   "nbconvert_exporter": "python",
   "pygments_lexer": "ipython3",
   "version": "3.7.4"
  }
 },
 "nbformat": 4,
 "nbformat_minor": 2
}
