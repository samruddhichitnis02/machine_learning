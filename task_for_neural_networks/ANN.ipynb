{
 "cells": [
  {
   "cell_type": "code",
   "execution_count": 80,
   "metadata": {},
   "outputs": [],
   "source": [
    "from keras.models import Sequential\n",
    "from keras.layers import Dense\n",
    "\n",
    "from sklearn.model_selection import train_test_split\n",
    "from sklearn.preprocessing import StandardScaler, LabelEncoder, OneHotEncoder\n",
    "from sklearn.metrics import accuracy_score, classification_report, confusion_matrix\n",
    "\n",
    "import seaborn as sb\n",
    "import matplotlib.pyplot as plt\n",
    "import pandas as pd\n",
    "import numpy as np\n",
    "\n",
    "import warnings\n",
    "warnings.filterwarnings('ignore')"
   ]
  },
  {
   "cell_type": "code",
   "execution_count": 2,
   "metadata": {},
   "outputs": [],
   "source": [
    "data = pd.read_csv('crx.data', header = None)"
   ]
  },
  {
   "cell_type": "code",
   "execution_count": 3,
   "metadata": {},
   "outputs": [
    {
     "data": {
      "text/html": [
       "<div>\n",
       "<style scoped>\n",
       "    .dataframe tbody tr th:only-of-type {\n",
       "        vertical-align: middle;\n",
       "    }\n",
       "\n",
       "    .dataframe tbody tr th {\n",
       "        vertical-align: top;\n",
       "    }\n",
       "\n",
       "    .dataframe thead th {\n",
       "        text-align: right;\n",
       "    }\n",
       "</style>\n",
       "<table border=\"1\" class=\"dataframe\">\n",
       "  <thead>\n",
       "    <tr style=\"text-align: right;\">\n",
       "      <th></th>\n",
       "      <th>0</th>\n",
       "      <th>1</th>\n",
       "      <th>2</th>\n",
       "      <th>3</th>\n",
       "      <th>4</th>\n",
       "      <th>5</th>\n",
       "      <th>6</th>\n",
       "      <th>7</th>\n",
       "      <th>8</th>\n",
       "      <th>9</th>\n",
       "      <th>10</th>\n",
       "      <th>11</th>\n",
       "      <th>12</th>\n",
       "      <th>13</th>\n",
       "      <th>14</th>\n",
       "      <th>15</th>\n",
       "    </tr>\n",
       "  </thead>\n",
       "  <tbody>\n",
       "    <tr>\n",
       "      <th>0</th>\n",
       "      <td>b</td>\n",
       "      <td>30.83</td>\n",
       "      <td>0.000</td>\n",
       "      <td>u</td>\n",
       "      <td>g</td>\n",
       "      <td>w</td>\n",
       "      <td>v</td>\n",
       "      <td>1.25</td>\n",
       "      <td>t</td>\n",
       "      <td>t</td>\n",
       "      <td>1</td>\n",
       "      <td>f</td>\n",
       "      <td>g</td>\n",
       "      <td>00202</td>\n",
       "      <td>0</td>\n",
       "      <td>+</td>\n",
       "    </tr>\n",
       "    <tr>\n",
       "      <th>1</th>\n",
       "      <td>a</td>\n",
       "      <td>58.67</td>\n",
       "      <td>4.460</td>\n",
       "      <td>u</td>\n",
       "      <td>g</td>\n",
       "      <td>q</td>\n",
       "      <td>h</td>\n",
       "      <td>3.04</td>\n",
       "      <td>t</td>\n",
       "      <td>t</td>\n",
       "      <td>6</td>\n",
       "      <td>f</td>\n",
       "      <td>g</td>\n",
       "      <td>00043</td>\n",
       "      <td>560</td>\n",
       "      <td>+</td>\n",
       "    </tr>\n",
       "    <tr>\n",
       "      <th>2</th>\n",
       "      <td>a</td>\n",
       "      <td>24.50</td>\n",
       "      <td>0.500</td>\n",
       "      <td>u</td>\n",
       "      <td>g</td>\n",
       "      <td>q</td>\n",
       "      <td>h</td>\n",
       "      <td>1.50</td>\n",
       "      <td>t</td>\n",
       "      <td>f</td>\n",
       "      <td>0</td>\n",
       "      <td>f</td>\n",
       "      <td>g</td>\n",
       "      <td>00280</td>\n",
       "      <td>824</td>\n",
       "      <td>+</td>\n",
       "    </tr>\n",
       "    <tr>\n",
       "      <th>3</th>\n",
       "      <td>b</td>\n",
       "      <td>27.83</td>\n",
       "      <td>1.540</td>\n",
       "      <td>u</td>\n",
       "      <td>g</td>\n",
       "      <td>w</td>\n",
       "      <td>v</td>\n",
       "      <td>3.75</td>\n",
       "      <td>t</td>\n",
       "      <td>t</td>\n",
       "      <td>5</td>\n",
       "      <td>t</td>\n",
       "      <td>g</td>\n",
       "      <td>00100</td>\n",
       "      <td>3</td>\n",
       "      <td>+</td>\n",
       "    </tr>\n",
       "    <tr>\n",
       "      <th>4</th>\n",
       "      <td>b</td>\n",
       "      <td>20.17</td>\n",
       "      <td>5.625</td>\n",
       "      <td>u</td>\n",
       "      <td>g</td>\n",
       "      <td>w</td>\n",
       "      <td>v</td>\n",
       "      <td>1.71</td>\n",
       "      <td>t</td>\n",
       "      <td>f</td>\n",
       "      <td>0</td>\n",
       "      <td>f</td>\n",
       "      <td>s</td>\n",
       "      <td>00120</td>\n",
       "      <td>0</td>\n",
       "      <td>+</td>\n",
       "    </tr>\n",
       "  </tbody>\n",
       "</table>\n",
       "</div>"
      ],
      "text/plain": [
       "  0      1      2  3  4  5  6     7  8  9   10 11 12     13   14 15\n",
       "0  b  30.83  0.000  u  g  w  v  1.25  t  t   1  f  g  00202    0  +\n",
       "1  a  58.67  4.460  u  g  q  h  3.04  t  t   6  f  g  00043  560  +\n",
       "2  a  24.50  0.500  u  g  q  h  1.50  t  f   0  f  g  00280  824  +\n",
       "3  b  27.83  1.540  u  g  w  v  3.75  t  t   5  t  g  00100    3  +\n",
       "4  b  20.17  5.625  u  g  w  v  1.71  t  f   0  f  s  00120    0  +"
      ]
     },
     "execution_count": 3,
     "metadata": {},
     "output_type": "execute_result"
    }
   ],
   "source": [
    "data.head()"
   ]
  },
  {
   "cell_type": "code",
   "execution_count": 4,
   "metadata": {},
   "outputs": [],
   "source": [
    "data.columns = ['A1', 'A2', 'A3', 'A4', 'A5', 'A6', 'A7', 'A8',\n",
    "               'A9', 'A10', 'A11', 'A12', 'A13', 'A14', 'A15', 'classes']"
   ]
  },
  {
   "cell_type": "code",
   "execution_count": 5,
   "metadata": {
    "scrolled": false
   },
   "outputs": [
    {
     "data": {
      "text/html": [
       "<div>\n",
       "<style scoped>\n",
       "    .dataframe tbody tr th:only-of-type {\n",
       "        vertical-align: middle;\n",
       "    }\n",
       "\n",
       "    .dataframe tbody tr th {\n",
       "        vertical-align: top;\n",
       "    }\n",
       "\n",
       "    .dataframe thead th {\n",
       "        text-align: right;\n",
       "    }\n",
       "</style>\n",
       "<table border=\"1\" class=\"dataframe\">\n",
       "  <thead>\n",
       "    <tr style=\"text-align: right;\">\n",
       "      <th></th>\n",
       "      <th>A1</th>\n",
       "      <th>A2</th>\n",
       "      <th>A3</th>\n",
       "      <th>A4</th>\n",
       "      <th>A5</th>\n",
       "      <th>A6</th>\n",
       "      <th>A7</th>\n",
       "      <th>A8</th>\n",
       "      <th>A9</th>\n",
       "      <th>A10</th>\n",
       "      <th>A11</th>\n",
       "      <th>A12</th>\n",
       "      <th>A13</th>\n",
       "      <th>A14</th>\n",
       "      <th>A15</th>\n",
       "      <th>classes</th>\n",
       "    </tr>\n",
       "  </thead>\n",
       "  <tbody>\n",
       "    <tr>\n",
       "      <th>0</th>\n",
       "      <td>b</td>\n",
       "      <td>30.83</td>\n",
       "      <td>0.000</td>\n",
       "      <td>u</td>\n",
       "      <td>g</td>\n",
       "      <td>w</td>\n",
       "      <td>v</td>\n",
       "      <td>1.25</td>\n",
       "      <td>t</td>\n",
       "      <td>t</td>\n",
       "      <td>1</td>\n",
       "      <td>f</td>\n",
       "      <td>g</td>\n",
       "      <td>00202</td>\n",
       "      <td>0</td>\n",
       "      <td>+</td>\n",
       "    </tr>\n",
       "    <tr>\n",
       "      <th>1</th>\n",
       "      <td>a</td>\n",
       "      <td>58.67</td>\n",
       "      <td>4.460</td>\n",
       "      <td>u</td>\n",
       "      <td>g</td>\n",
       "      <td>q</td>\n",
       "      <td>h</td>\n",
       "      <td>3.04</td>\n",
       "      <td>t</td>\n",
       "      <td>t</td>\n",
       "      <td>6</td>\n",
       "      <td>f</td>\n",
       "      <td>g</td>\n",
       "      <td>00043</td>\n",
       "      <td>560</td>\n",
       "      <td>+</td>\n",
       "    </tr>\n",
       "    <tr>\n",
       "      <th>2</th>\n",
       "      <td>a</td>\n",
       "      <td>24.50</td>\n",
       "      <td>0.500</td>\n",
       "      <td>u</td>\n",
       "      <td>g</td>\n",
       "      <td>q</td>\n",
       "      <td>h</td>\n",
       "      <td>1.50</td>\n",
       "      <td>t</td>\n",
       "      <td>f</td>\n",
       "      <td>0</td>\n",
       "      <td>f</td>\n",
       "      <td>g</td>\n",
       "      <td>00280</td>\n",
       "      <td>824</td>\n",
       "      <td>+</td>\n",
       "    </tr>\n",
       "    <tr>\n",
       "      <th>3</th>\n",
       "      <td>b</td>\n",
       "      <td>27.83</td>\n",
       "      <td>1.540</td>\n",
       "      <td>u</td>\n",
       "      <td>g</td>\n",
       "      <td>w</td>\n",
       "      <td>v</td>\n",
       "      <td>3.75</td>\n",
       "      <td>t</td>\n",
       "      <td>t</td>\n",
       "      <td>5</td>\n",
       "      <td>t</td>\n",
       "      <td>g</td>\n",
       "      <td>00100</td>\n",
       "      <td>3</td>\n",
       "      <td>+</td>\n",
       "    </tr>\n",
       "    <tr>\n",
       "      <th>4</th>\n",
       "      <td>b</td>\n",
       "      <td>20.17</td>\n",
       "      <td>5.625</td>\n",
       "      <td>u</td>\n",
       "      <td>g</td>\n",
       "      <td>w</td>\n",
       "      <td>v</td>\n",
       "      <td>1.71</td>\n",
       "      <td>t</td>\n",
       "      <td>f</td>\n",
       "      <td>0</td>\n",
       "      <td>f</td>\n",
       "      <td>s</td>\n",
       "      <td>00120</td>\n",
       "      <td>0</td>\n",
       "      <td>+</td>\n",
       "    </tr>\n",
       "  </tbody>\n",
       "</table>\n",
       "</div>"
      ],
      "text/plain": [
       "  A1     A2     A3 A4 A5 A6 A7    A8 A9 A10  A11 A12 A13    A14  A15 classes\n",
       "0  b  30.83  0.000  u  g  w  v  1.25  t   t    1   f   g  00202    0       +\n",
       "1  a  58.67  4.460  u  g  q  h  3.04  t   t    6   f   g  00043  560       +\n",
       "2  a  24.50  0.500  u  g  q  h  1.50  t   f    0   f   g  00280  824       +\n",
       "3  b  27.83  1.540  u  g  w  v  3.75  t   t    5   t   g  00100    3       +\n",
       "4  b  20.17  5.625  u  g  w  v  1.71  t   f    0   f   s  00120    0       +"
      ]
     },
     "execution_count": 5,
     "metadata": {},
     "output_type": "execute_result"
    }
   ],
   "source": [
    "data.head()"
   ]
  },
  {
   "cell_type": "code",
   "execution_count": 70,
   "metadata": {},
   "outputs": [
    {
     "data": {
      "image/png": "[encoded data removed]",
      "text/plain": [
       "<Figure size 432x288 with 1 Axes>"
      ]
     },
     "metadata": {
      "needs_background": "light"
     },
     "output_type": "display_data"
    }
   ],
   "source": [
    "sb.countplot(data['classes'])\n",
    "plt.show()"
   ]
  },
  {
   "cell_type": "code",
   "execution_count": 6,
   "metadata": {
    "scrolled": false
   },
   "outputs": [
    {
     "data": {
      "text/plain": [
       "False"
      ]
     },
     "execution_count": 6,
     "metadata": {},
     "output_type": "execute_result"
    }
   ],
   "source": [
    "data.head().isnull().any().any()"
   ]
  },
  {
   "cell_type": "code",
   "execution_count": 7,
   "metadata": {
    "scrolled": false
   },
   "outputs": [
    {
     "data": {
      "text/plain": [
       "b    468\n",
       "a    210\n",
       "?     12\n",
       "Name: A1, dtype: int64"
      ]
     },
     "execution_count": 7,
     "metadata": {},
     "output_type": "execute_result"
    }
   ],
   "source": [
    "data['A1'].value_counts()"
   ]
  },
  {
   "cell_type": "code",
   "execution_count": 8,
   "metadata": {
    "scrolled": true
   },
   "outputs": [
    {
     "data": {
      "text/plain": [
       "A1          True\n",
       "A2          True\n",
       "A3         False\n",
       "A4          True\n",
       "A5          True\n",
       "A6          True\n",
       "A7          True\n",
       "A8         False\n",
       "A9         False\n",
       "A10        False\n",
       "A11        False\n",
       "A12        False\n",
       "A13        False\n",
       "A14         True\n",
       "A15        False\n",
       "classes    False\n",
       "dtype: bool"
      ]
     },
     "execution_count": 8,
     "metadata": {},
     "output_type": "execute_result"
    }
   ],
   "source": [
    "data[(data == '?')].any()"
   ]
  },
  {
   "cell_type": "code",
   "execution_count": 36,
   "metadata": {},
   "outputs": [],
   "source": [
    "df = pd.read_csv('crx.data', na_values=['?'], header = None)"
   ]
  },
  {
   "cell_type": "code",
   "execution_count": 37,
   "metadata": {
    "scrolled": true
   },
   "outputs": [
    {
     "data": {
      "text/html": [
       "<div>\n",
       "<style scoped>\n",
       "    .dataframe tbody tr th:only-of-type {\n",
       "        vertical-align: middle;\n",
       "    }\n",
       "\n",
       "    .dataframe tbody tr th {\n",
       "        vertical-align: top;\n",
       "    }\n",
       "\n",
       "    .dataframe thead th {\n",
       "        text-align: right;\n",
       "    }\n",
       "</style>\n",
       "<table border=\"1\" class=\"dataframe\">\n",
       "  <thead>\n",
       "    <tr style=\"text-align: right;\">\n",
       "      <th></th>\n",
       "      <th>0</th>\n",
       "      <th>1</th>\n",
       "      <th>2</th>\n",
       "      <th>3</th>\n",
       "      <th>4</th>\n",
       "      <th>5</th>\n",
       "      <th>6</th>\n",
       "      <th>7</th>\n",
       "      <th>8</th>\n",
       "      <th>9</th>\n",
       "      <th>10</th>\n",
       "      <th>11</th>\n",
       "      <th>12</th>\n",
       "      <th>13</th>\n",
       "      <th>14</th>\n",
       "      <th>15</th>\n",
       "    </tr>\n",
       "  </thead>\n",
       "  <tbody>\n",
       "    <tr>\n",
       "      <th>0</th>\n",
       "      <td>b</td>\n",
       "      <td>30.83</td>\n",
       "      <td>0.000</td>\n",
       "      <td>u</td>\n",
       "      <td>g</td>\n",
       "      <td>w</td>\n",
       "      <td>v</td>\n",
       "      <td>1.25</td>\n",
       "      <td>t</td>\n",
       "      <td>t</td>\n",
       "      <td>1</td>\n",
       "      <td>f</td>\n",
       "      <td>g</td>\n",
       "      <td>202.0</td>\n",
       "      <td>0</td>\n",
       "      <td>+</td>\n",
       "    </tr>\n",
       "    <tr>\n",
       "      <th>1</th>\n",
       "      <td>a</td>\n",
       "      <td>58.67</td>\n",
       "      <td>4.460</td>\n",
       "      <td>u</td>\n",
       "      <td>g</td>\n",
       "      <td>q</td>\n",
       "      <td>h</td>\n",
       "      <td>3.04</td>\n",
       "      <td>t</td>\n",
       "      <td>t</td>\n",
       "      <td>6</td>\n",
       "      <td>f</td>\n",
       "      <td>g</td>\n",
       "      <td>43.0</td>\n",
       "      <td>560</td>\n",
       "      <td>+</td>\n",
       "    </tr>\n",
       "    <tr>\n",
       "      <th>2</th>\n",
       "      <td>a</td>\n",
       "      <td>24.50</td>\n",
       "      <td>0.500</td>\n",
       "      <td>u</td>\n",
       "      <td>g</td>\n",
       "      <td>q</td>\n",
       "      <td>h</td>\n",
       "      <td>1.50</td>\n",
       "      <td>t</td>\n",
       "      <td>f</td>\n",
       "      <td>0</td>\n",
       "      <td>f</td>\n",
       "      <td>g</td>\n",
       "      <td>280.0</td>\n",
       "      <td>824</td>\n",
       "      <td>+</td>\n",
       "    </tr>\n",
       "    <tr>\n",
       "      <th>3</th>\n",
       "      <td>b</td>\n",
       "      <td>27.83</td>\n",
       "      <td>1.540</td>\n",
       "      <td>u</td>\n",
       "      <td>g</td>\n",
       "      <td>w</td>\n",
       "      <td>v</td>\n",
       "      <td>3.75</td>\n",
       "      <td>t</td>\n",
       "      <td>t</td>\n",
       "      <td>5</td>\n",
       "      <td>t</td>\n",
       "      <td>g</td>\n",
       "      <td>100.0</td>\n",
       "      <td>3</td>\n",
       "      <td>+</td>\n",
       "    </tr>\n",
       "    <tr>\n",
       "      <th>4</th>\n",
       "      <td>b</td>\n",
       "      <td>20.17</td>\n",
       "      <td>5.625</td>\n",
       "      <td>u</td>\n",
       "      <td>g</td>\n",
       "      <td>w</td>\n",
       "      <td>v</td>\n",
       "      <td>1.71</td>\n",
       "      <td>t</td>\n",
       "      <td>f</td>\n",
       "      <td>0</td>\n",
       "      <td>f</td>\n",
       "      <td>s</td>\n",
       "      <td>120.0</td>\n",
       "      <td>0</td>\n",
       "      <td>+</td>\n",
       "    </tr>\n",
       "  </tbody>\n",
       "</table>\n",
       "</div>"
      ],
      "text/plain": [
       "  0      1      2  3  4  5  6     7  8  9   10 11 12     13   14 15\n",
       "0  b  30.83  0.000  u  g  w  v  1.25  t  t   1  f  g  202.0    0  +\n",
       "1  a  58.67  4.460  u  g  q  h  3.04  t  t   6  f  g   43.0  560  +\n",
       "2  a  24.50  0.500  u  g  q  h  1.50  t  f   0  f  g  280.0  824  +\n",
       "3  b  27.83  1.540  u  g  w  v  3.75  t  t   5  t  g  100.0    3  +\n",
       "4  b  20.17  5.625  u  g  w  v  1.71  t  f   0  f  s  120.0    0  +"
      ]
     },
     "execution_count": 37,
     "metadata": {},
     "output_type": "execute_result"
    }
   ],
   "source": [
    "df.head()"
   ]
  },
  {
   "cell_type": "code",
   "execution_count": 38,
   "metadata": {},
   "outputs": [],
   "source": [
    "df.columns = ['A1', 'A2', 'A3', 'A4', 'A5', 'A6', 'A7', 'A8',\n",
    "               'A9', 'A10', 'A11', 'A12', 'A13', 'A14', 'A15', 'classes']"
   ]
  },
  {
   "cell_type": "code",
   "execution_count": 39,
   "metadata": {},
   "outputs": [
    {
     "data": {
      "text/html": [
       "<div>\n",
       "<style scoped>\n",
       "    .dataframe tbody tr th:only-of-type {\n",
       "        vertical-align: middle;\n",
       "    }\n",
       "\n",
       "    .dataframe tbody tr th {\n",
       "        vertical-align: top;\n",
       "    }\n",
       "\n",
       "    .dataframe thead th {\n",
       "        text-align: right;\n",
       "    }\n",
       "</style>\n",
       "<table border=\"1\" class=\"dataframe\">\n",
       "  <thead>\n",
       "    <tr style=\"text-align: right;\">\n",
       "      <th></th>\n",
       "      <th>A1</th>\n",
       "      <th>A2</th>\n",
       "      <th>A3</th>\n",
       "      <th>A4</th>\n",
       "      <th>A5</th>\n",
       "      <th>A6</th>\n",
       "      <th>A7</th>\n",
       "      <th>A8</th>\n",
       "      <th>A9</th>\n",
       "      <th>A10</th>\n",
       "      <th>A11</th>\n",
       "      <th>A12</th>\n",
       "      <th>A13</th>\n",
       "      <th>A14</th>\n",
       "      <th>A15</th>\n",
       "      <th>classes</th>\n",
       "    </tr>\n",
       "  </thead>\n",
       "  <tbody>\n",
       "    <tr>\n",
       "      <th>0</th>\n",
       "      <td>b</td>\n",
       "      <td>30.83</td>\n",
       "      <td>0.000</td>\n",
       "      <td>u</td>\n",
       "      <td>g</td>\n",
       "      <td>w</td>\n",
       "      <td>v</td>\n",
       "      <td>1.25</td>\n",
       "      <td>t</td>\n",
       "      <td>t</td>\n",
       "      <td>1</td>\n",
       "      <td>f</td>\n",
       "      <td>g</td>\n",
       "      <td>202.0</td>\n",
       "      <td>0</td>\n",
       "      <td>+</td>\n",
       "    </tr>\n",
       "    <tr>\n",
       "      <th>1</th>\n",
       "      <td>a</td>\n",
       "      <td>58.67</td>\n",
       "      <td>4.460</td>\n",
       "      <td>u</td>\n",
       "      <td>g</td>\n",
       "      <td>q</td>\n",
       "      <td>h</td>\n",
       "      <td>3.04</td>\n",
       "      <td>t</td>\n",
       "      <td>t</td>\n",
       "      <td>6</td>\n",
       "      <td>f</td>\n",
       "      <td>g</td>\n",
       "      <td>43.0</td>\n",
       "      <td>560</td>\n",
       "      <td>+</td>\n",
       "    </tr>\n",
       "    <tr>\n",
       "      <th>2</th>\n",
       "      <td>a</td>\n",
       "      <td>24.50</td>\n",
       "      <td>0.500</td>\n",
       "      <td>u</td>\n",
       "      <td>g</td>\n",
       "      <td>q</td>\n",
       "      <td>h</td>\n",
       "      <td>1.50</td>\n",
       "      <td>t</td>\n",
       "      <td>f</td>\n",
       "      <td>0</td>\n",
       "      <td>f</td>\n",
       "      <td>g</td>\n",
       "      <td>280.0</td>\n",
       "      <td>824</td>\n",
       "      <td>+</td>\n",
       "    </tr>\n",
       "    <tr>\n",
       "      <th>3</th>\n",
       "      <td>b</td>\n",
       "      <td>27.83</td>\n",
       "      <td>1.540</td>\n",
       "      <td>u</td>\n",
       "      <td>g</td>\n",
       "      <td>w</td>\n",
       "      <td>v</td>\n",
       "      <td>3.75</td>\n",
       "      <td>t</td>\n",
       "      <td>t</td>\n",
       "      <td>5</td>\n",
       "      <td>t</td>\n",
       "      <td>g</td>\n",
       "      <td>100.0</td>\n",
       "      <td>3</td>\n",
       "      <td>+</td>\n",
       "    </tr>\n",
       "    <tr>\n",
       "      <th>4</th>\n",
       "      <td>b</td>\n",
       "      <td>20.17</td>\n",
       "      <td>5.625</td>\n",
       "      <td>u</td>\n",
       "      <td>g</td>\n",
       "      <td>w</td>\n",
       "      <td>v</td>\n",
       "      <td>1.71</td>\n",
       "      <td>t</td>\n",
       "      <td>f</td>\n",
       "      <td>0</td>\n",
       "      <td>f</td>\n",
       "      <td>s</td>\n",
       "      <td>120.0</td>\n",
       "      <td>0</td>\n",
       "      <td>+</td>\n",
       "    </tr>\n",
       "  </tbody>\n",
       "</table>\n",
       "</div>"
      ],
      "text/plain": [
       "  A1     A2     A3 A4 A5 A6 A7    A8 A9 A10  A11 A12 A13    A14  A15 classes\n",
       "0  b  30.83  0.000  u  g  w  v  1.25  t   t    1   f   g  202.0    0       +\n",
       "1  a  58.67  4.460  u  g  q  h  3.04  t   t    6   f   g   43.0  560       +\n",
       "2  a  24.50  0.500  u  g  q  h  1.50  t   f    0   f   g  280.0  824       +\n",
       "3  b  27.83  1.540  u  g  w  v  3.75  t   t    5   t   g  100.0    3       +\n",
       "4  b  20.17  5.625  u  g  w  v  1.71  t   f    0   f   s  120.0    0       +"
      ]
     },
     "execution_count": 39,
     "metadata": {},
     "output_type": "execute_result"
    }
   ],
   "source": [
    "df.head()"
   ]
  },
  {
   "cell_type": "code",
   "execution_count": 40,
   "metadata": {},
   "outputs": [
    {
     "data": {
      "text/plain": [
       "A1          True\n",
       "A2          True\n",
       "A3         False\n",
       "A4          True\n",
       "A5          True\n",
       "A6          True\n",
       "A7          True\n",
       "A8         False\n",
       "A9         False\n",
       "A10        False\n",
       "A11        False\n",
       "A12        False\n",
       "A13        False\n",
       "A14         True\n",
       "A15        False\n",
       "classes    False\n",
       "dtype: bool"
      ]
     },
     "execution_count": 40,
     "metadata": {},
     "output_type": "execute_result"
    }
   ],
   "source": [
    "df.isnull().any()"
   ]
  },
  {
   "cell_type": "code",
   "execution_count": 41,
   "metadata": {
    "scrolled": false
   },
   "outputs": [
    {
     "data": {
      "text/plain": [
       "array(['b', 'a', nan], dtype=object)"
      ]
     },
     "execution_count": 41,
     "metadata": {},
     "output_type": "execute_result"
    }
   ],
   "source": [
    "df['A1'].unique()"
   ]
  },
  {
   "cell_type": "code",
   "execution_count": 42,
   "metadata": {
    "scrolled": true
   },
   "outputs": [
    {
     "data": {
      "text/plain": [
       "(690, 16)"
      ]
     },
     "execution_count": 42,
     "metadata": {},
     "output_type": "execute_result"
    }
   ],
   "source": [
    "df.shape"
   ]
  },
  {
   "cell_type": "markdown",
   "metadata": {},
   "source": [
    "# Handling Missing Values"
   ]
  },
  {
   "cell_type": "code",
   "execution_count": 43,
   "metadata": {
    "scrolled": false
   },
   "outputs": [],
   "source": [
    "df['A2'].fillna(df['A2'].mean(), inplace=True)\n",
    "df['A14'].fillna(df['A14'].mean(), inplace = True)"
   ]
  },
  {
   "cell_type": "code",
   "execution_count": 44,
   "metadata": {},
   "outputs": [],
   "source": [
    "df=df.fillna(method='ffill')"
   ]
  },
  {
   "cell_type": "code",
   "execution_count": 45,
   "metadata": {
    "scrolled": false
   },
   "outputs": [
    {
     "data": {
      "text/plain": [
       "A1         False\n",
       "A2         False\n",
       "A3         False\n",
       "A4         False\n",
       "A5         False\n",
       "A6         False\n",
       "A7         False\n",
       "A8         False\n",
       "A9         False\n",
       "A10        False\n",
       "A11        False\n",
       "A12        False\n",
       "A13        False\n",
       "A14        False\n",
       "A15        False\n",
       "classes    False\n",
       "dtype: bool"
      ]
     },
     "execution_count": 45,
     "metadata": {},
     "output_type": "execute_result"
    }
   ],
   "source": [
    "df.isnull().any()"
   ]
  },
  {
   "cell_type": "code",
   "execution_count": 46,
   "metadata": {
    "scrolled": true
   },
   "outputs": [
    {
     "data": {
      "text/plain": [
       "A1          object\n",
       "A2         float64\n",
       "A3         float64\n",
       "A4          object\n",
       "A5          object\n",
       "A6          object\n",
       "A7          object\n",
       "A8         float64\n",
       "A9          object\n",
       "A10         object\n",
       "A11          int64\n",
       "A12         object\n",
       "A13         object\n",
       "A14        float64\n",
       "A15          int64\n",
       "classes     object\n",
       "dtype: object"
      ]
     },
     "execution_count": 46,
     "metadata": {},
     "output_type": "execute_result"
    }
   ],
   "source": [
    "df.dtypes"
   ]
  },
  {
   "cell_type": "markdown",
   "metadata": {},
   "source": [
    "# Applying Standard Scalar"
   ]
  },
  {
   "cell_type": "code",
   "execution_count": 47,
   "metadata": {},
   "outputs": [],
   "source": [
    "sc = StandardScaler()\n",
    "for col in df:\n",
    "    if (df[col].dtype == 'float64') or (df[col].dtype == 'int64'):\n",
    "        df[[col]]=sc.fit_transform(df[[col]])\n"
   ]
  },
  {
   "cell_type": "code",
   "execution_count": 48,
   "metadata": {
    "scrolled": true
   },
   "outputs": [
    {
     "data": {
      "text/html": [
       "<div>\n",
       "<style scoped>\n",
       "    .dataframe tbody tr th:only-of-type {\n",
       "        vertical-align: middle;\n",
       "    }\n",
       "\n",
       "    .dataframe tbody tr th {\n",
       "        vertical-align: top;\n",
       "    }\n",
       "\n",
       "    .dataframe thead th {\n",
       "        text-align: right;\n",
       "    }\n",
       "</style>\n",
       "<table border=\"1\" class=\"dataframe\">\n",
       "  <thead>\n",
       "    <tr style=\"text-align: right;\">\n",
       "      <th></th>\n",
       "      <th>A1</th>\n",
       "      <th>A2</th>\n",
       "      <th>A3</th>\n",
       "      <th>A4</th>\n",
       "      <th>A5</th>\n",
       "      <th>A6</th>\n",
       "      <th>A7</th>\n",
       "      <th>A8</th>\n",
       "      <th>A9</th>\n",
       "      <th>A10</th>\n",
       "      <th>A11</th>\n",
       "      <th>A12</th>\n",
       "      <th>A13</th>\n",
       "      <th>A14</th>\n",
       "      <th>A15</th>\n",
       "      <th>classes</th>\n",
       "    </tr>\n",
       "  </thead>\n",
       "  <tbody>\n",
       "    <tr>\n",
       "      <th>0</th>\n",
       "      <td>b</td>\n",
       "      <td>-0.062321</td>\n",
       "      <td>-0.956613</td>\n",
       "      <td>u</td>\n",
       "      <td>g</td>\n",
       "      <td>w</td>\n",
       "      <td>v</td>\n",
       "      <td>-0.291083</td>\n",
       "      <td>t</td>\n",
       "      <td>t</td>\n",
       "      <td>-0.288101</td>\n",
       "      <td>f</td>\n",
       "      <td>g</td>\n",
       "      <td>0.104544</td>\n",
       "      <td>-0.195413</td>\n",
       "      <td>+</td>\n",
       "    </tr>\n",
       "    <tr>\n",
       "      <th>1</th>\n",
       "      <td>a</td>\n",
       "      <td>2.288101</td>\n",
       "      <td>-0.060051</td>\n",
       "      <td>u</td>\n",
       "      <td>g</td>\n",
       "      <td>q</td>\n",
       "      <td>h</td>\n",
       "      <td>0.244190</td>\n",
       "      <td>t</td>\n",
       "      <td>t</td>\n",
       "      <td>0.740830</td>\n",
       "      <td>f</td>\n",
       "      <td>g</td>\n",
       "      <td>-0.819689</td>\n",
       "      <td>-0.087852</td>\n",
       "      <td>+</td>\n",
       "    </tr>\n",
       "    <tr>\n",
       "      <th>2</th>\n",
       "      <td>a</td>\n",
       "      <td>-0.596738</td>\n",
       "      <td>-0.856102</td>\n",
       "      <td>u</td>\n",
       "      <td>g</td>\n",
       "      <td>q</td>\n",
       "      <td>h</td>\n",
       "      <td>-0.216324</td>\n",
       "      <td>t</td>\n",
       "      <td>f</td>\n",
       "      <td>-0.493887</td>\n",
       "      <td>f</td>\n",
       "      <td>g</td>\n",
       "      <td>0.557942</td>\n",
       "      <td>-0.037144</td>\n",
       "      <td>+</td>\n",
       "    </tr>\n",
       "    <tr>\n",
       "      <th>3</th>\n",
       "      <td>b</td>\n",
       "      <td>-0.315599</td>\n",
       "      <td>-0.647038</td>\n",
       "      <td>u</td>\n",
       "      <td>g</td>\n",
       "      <td>w</td>\n",
       "      <td>v</td>\n",
       "      <td>0.456505</td>\n",
       "      <td>t</td>\n",
       "      <td>t</td>\n",
       "      <td>0.535044</td>\n",
       "      <td>t</td>\n",
       "      <td>g</td>\n",
       "      <td>-0.488360</td>\n",
       "      <td>-0.194837</td>\n",
       "      <td>+</td>\n",
       "    </tr>\n",
       "    <tr>\n",
       "      <th>4</th>\n",
       "      <td>b</td>\n",
       "      <td>-0.962303</td>\n",
       "      <td>0.174141</td>\n",
       "      <td>u</td>\n",
       "      <td>g</td>\n",
       "      <td>w</td>\n",
       "      <td>v</td>\n",
       "      <td>-0.153526</td>\n",
       "      <td>t</td>\n",
       "      <td>f</td>\n",
       "      <td>-0.493887</td>\n",
       "      <td>f</td>\n",
       "      <td>s</td>\n",
       "      <td>-0.372104</td>\n",
       "      <td>-0.195413</td>\n",
       "      <td>+</td>\n",
       "    </tr>\n",
       "  </tbody>\n",
       "</table>\n",
       "</div>"
      ],
      "text/plain": [
       "  A1        A2        A3 A4 A5 A6 A7        A8 A9 A10       A11 A12 A13  \\\n",
       "0  b -0.062321 -0.956613  u  g  w  v -0.291083  t   t -0.288101   f   g   \n",
       "1  a  2.288101 -0.060051  u  g  q  h  0.244190  t   t  0.740830   f   g   \n",
       "2  a -0.596738 -0.856102  u  g  q  h -0.216324  t   f -0.493887   f   g   \n",
       "3  b -0.315599 -0.647038  u  g  w  v  0.456505  t   t  0.535044   t   g   \n",
       "4  b -0.962303  0.174141  u  g  w  v -0.153526  t   f -0.493887   f   s   \n",
       "\n",
       "        A14       A15 classes  \n",
       "0  0.104544 -0.195413       +  \n",
       "1 -0.819689 -0.087852       +  \n",
       "2  0.557942 -0.037144       +  \n",
       "3 -0.488360 -0.194837       +  \n",
       "4 -0.372104 -0.195413       +  "
      ]
     },
     "execution_count": 48,
     "metadata": {},
     "output_type": "execute_result"
    }
   ],
   "source": [
    "df.head()"
   ]
  },
  {
   "cell_type": "markdown",
   "metadata": {},
   "source": [
    "# Applying label Encoding"
   ]
  },
  {
   "cell_type": "code",
   "execution_count": 49,
   "metadata": {},
   "outputs": [],
   "source": [
    "le = LabelEncoder()\n",
    "for col in df:\n",
    "    if df[col].dtype == 'object':\n",
    "        df[[col]] = le.fit_transform(df[[col]])"
   ]
  },
  {
   "cell_type": "code",
   "execution_count": 50,
   "metadata": {},
   "outputs": [
    {
     "data": {
      "text/html": [
       "<div>\n",
       "<style scoped>\n",
       "    .dataframe tbody tr th:only-of-type {\n",
       "        vertical-align: middle;\n",
       "    }\n",
       "\n",
       "    .dataframe tbody tr th {\n",
       "        vertical-align: top;\n",
       "    }\n",
       "\n",
       "    .dataframe thead th {\n",
       "        text-align: right;\n",
       "    }\n",
       "</style>\n",
       "<table border=\"1\" class=\"dataframe\">\n",
       "  <thead>\n",
       "    <tr style=\"text-align: right;\">\n",
       "      <th></th>\n",
       "      <th>A1</th>\n",
       "      <th>A2</th>\n",
       "      <th>A3</th>\n",
       "      <th>A4</th>\n",
       "      <th>A5</th>\n",
       "      <th>A6</th>\n",
       "      <th>A7</th>\n",
       "      <th>A8</th>\n",
       "      <th>A9</th>\n",
       "      <th>A10</th>\n",
       "      <th>A11</th>\n",
       "      <th>A12</th>\n",
       "      <th>A13</th>\n",
       "      <th>A14</th>\n",
       "      <th>A15</th>\n",
       "      <th>classes</th>\n",
       "    </tr>\n",
       "  </thead>\n",
       "  <tbody>\n",
       "    <tr>\n",
       "      <th>0</th>\n",
       "      <td>1</td>\n",
       "      <td>-0.062321</td>\n",
       "      <td>-0.956613</td>\n",
       "      <td>1</td>\n",
       "      <td>0</td>\n",
       "      <td>12</td>\n",
       "      <td>7</td>\n",
       "      <td>-0.291083</td>\n",
       "      <td>1</td>\n",
       "      <td>1</td>\n",
       "      <td>-0.288101</td>\n",
       "      <td>0</td>\n",
       "      <td>0</td>\n",
       "      <td>0.104544</td>\n",
       "      <td>-0.195413</td>\n",
       "      <td>0</td>\n",
       "    </tr>\n",
       "    <tr>\n",
       "      <th>1</th>\n",
       "      <td>0</td>\n",
       "      <td>2.288101</td>\n",
       "      <td>-0.060051</td>\n",
       "      <td>1</td>\n",
       "      <td>0</td>\n",
       "      <td>10</td>\n",
       "      <td>3</td>\n",
       "      <td>0.244190</td>\n",
       "      <td>1</td>\n",
       "      <td>1</td>\n",
       "      <td>0.740830</td>\n",
       "      <td>0</td>\n",
       "      <td>0</td>\n",
       "      <td>-0.819689</td>\n",
       "      <td>-0.087852</td>\n",
       "      <td>0</td>\n",
       "    </tr>\n",
       "    <tr>\n",
       "      <th>2</th>\n",
       "      <td>0</td>\n",
       "      <td>-0.596738</td>\n",
       "      <td>-0.856102</td>\n",
       "      <td>1</td>\n",
       "      <td>0</td>\n",
       "      <td>10</td>\n",
       "      <td>3</td>\n",
       "      <td>-0.216324</td>\n",
       "      <td>1</td>\n",
       "      <td>0</td>\n",
       "      <td>-0.493887</td>\n",
       "      <td>0</td>\n",
       "      <td>0</td>\n",
       "      <td>0.557942</td>\n",
       "      <td>-0.037144</td>\n",
       "      <td>0</td>\n",
       "    </tr>\n",
       "    <tr>\n",
       "      <th>3</th>\n",
       "      <td>1</td>\n",
       "      <td>-0.315599</td>\n",
       "      <td>-0.647038</td>\n",
       "      <td>1</td>\n",
       "      <td>0</td>\n",
       "      <td>12</td>\n",
       "      <td>7</td>\n",
       "      <td>0.456505</td>\n",
       "      <td>1</td>\n",
       "      <td>1</td>\n",
       "      <td>0.535044</td>\n",
       "      <td>1</td>\n",
       "      <td>0</td>\n",
       "      <td>-0.488360</td>\n",
       "      <td>-0.194837</td>\n",
       "      <td>0</td>\n",
       "    </tr>\n",
       "    <tr>\n",
       "      <th>4</th>\n",
       "      <td>1</td>\n",
       "      <td>-0.962303</td>\n",
       "      <td>0.174141</td>\n",
       "      <td>1</td>\n",
       "      <td>0</td>\n",
       "      <td>12</td>\n",
       "      <td>7</td>\n",
       "      <td>-0.153526</td>\n",
       "      <td>1</td>\n",
       "      <td>0</td>\n",
       "      <td>-0.493887</td>\n",
       "      <td>0</td>\n",
       "      <td>2</td>\n",
       "      <td>-0.372104</td>\n",
       "      <td>-0.195413</td>\n",
       "      <td>0</td>\n",
       "    </tr>\n",
       "  </tbody>\n",
       "</table>\n",
       "</div>"
      ],
      "text/plain": [
       "   A1        A2        A3  A4  A5  A6  A7        A8  A9  A10       A11  A12  \\\n",
       "0   1 -0.062321 -0.956613   1   0  12   7 -0.291083   1    1 -0.288101    0   \n",
       "1   0  2.288101 -0.060051   1   0  10   3  0.244190   1    1  0.740830    0   \n",
       "2   0 -0.596738 -0.856102   1   0  10   3 -0.216324   1    0 -0.493887    0   \n",
       "3   1 -0.315599 -0.647038   1   0  12   7  0.456505   1    1  0.535044    1   \n",
       "4   1 -0.962303  0.174141   1   0  12   7 -0.153526   1    0 -0.493887    0   \n",
       "\n",
       "   A13       A14       A15  classes  \n",
       "0    0  0.104544 -0.195413        0  \n",
       "1    0 -0.819689 -0.087852        0  \n",
       "2    0  0.557942 -0.037144        0  \n",
       "3    0 -0.488360 -0.194837        0  \n",
       "4    2 -0.372104 -0.195413        0  "
      ]
     },
     "execution_count": 50,
     "metadata": {},
     "output_type": "execute_result"
    }
   ],
   "source": [
    "df.head()"
   ]
  },
  {
   "cell_type": "code",
   "execution_count": 51,
   "metadata": {
    "scrolled": true
   },
   "outputs": [
    {
     "data": {
      "image/png": "[encoded data removed]",
      "text/plain": [
       "<Figure size 720x288 with 2 Axes>"
      ]
     },
     "metadata": {
      "needs_background": "light"
     },
     "output_type": "display_data"
    }
   ],
   "source": [
    "fig = plt.figure(figsize = (10,4))\n",
    "f1 = fig.add_subplot(1,2,1)\n",
    "f2 = fig.add_subplot(1,2,2)\n",
    "sb.countplot(df['A1'], ax = f1)\n",
    "sb.countplot(df['A4'], ax = f2)\n",
    "plt.show()"
   ]
  },
  {
   "cell_type": "code",
   "execution_count": 52,
   "metadata": {
    "scrolled": true
   },
   "outputs": [
    {
     "data": {
      "image/png": "[encoded data removed]",
      "text/plain": [
       "<Figure size 720x288 with 2 Axes>"
      ]
     },
     "metadata": {
      "needs_background": "light"
     },
     "output_type": "display_data"
    }
   ],
   "source": [
    "fig = plt.figure(figsize = (10,4))\n",
    "f1 = fig.add_subplot(1,2,1)\n",
    "f2 = fig.add_subplot(1,2,2)\n",
    "sb.countplot(df['A5'], ax = f1)\n",
    "sb.countplot(df['A6'], ax = f2)\n",
    "plt.show()"
   ]
  },
  {
   "cell_type": "code",
   "execution_count": 53,
   "metadata": {
    "scrolled": true
   },
   "outputs": [
    {
     "data": {
      "image/png": "[encoded data removed]",
      "text/plain": [
       "<Figure size 720x288 with 2 Axes>"
      ]
     },
     "metadata": {
      "needs_background": "light"
     },
     "output_type": "display_data"
    }
   ],
   "source": [
    "fig = plt.figure(figsize = (10,4))\n",
    "f1 = fig.add_subplot(1,2,1)\n",
    "f2 = fig.add_subplot(1,2,2)\n",
    "sb.countplot(df['A10'], ax = f1)\n",
    "sb.countplot(df['A12'], ax = f2)\n",
    "plt.show()"
   ]
  },
  {
   "cell_type": "code",
   "execution_count": 54,
   "metadata": {
    "scrolled": false
   },
   "outputs": [
    {
     "data": {
      "image/png": "[encoded data removed]",
      "text/plain": [
       "<Figure size 432x288 with 1 Axes>"
      ]
     },
     "metadata": {
      "needs_background": "light"
     },
     "output_type": "display_data"
    }
   ],
   "source": [
    "sb.countplot(df['A13'])\n",
    "plt.show()"
   ]
  },
  {
   "cell_type": "markdown",
   "metadata": {},
   "source": [
    "# Applying One Hot Encoding"
   ]
  },
  {
   "cell_type": "markdown",
   "metadata": {},
   "source": [
    "From the above graphs we can see that only columns A4, A5, A6, A7 and A13 have more than 2 categories "
   ]
  },
  {
   "cell_type": "code",
   "execution_count": 55,
   "metadata": {},
   "outputs": [],
   "source": [
    "X = df.iloc[:, 0:-1]\n",
    "Y = df.iloc[:,-1:]"
   ]
  },
  {
   "cell_type": "code",
   "execution_count": 56,
   "metadata": {},
   "outputs": [
    {
     "data": {
      "text/plain": [
       "((690, 15), (690, 1))"
      ]
     },
     "execution_count": 56,
     "metadata": {},
     "output_type": "execute_result"
    }
   ],
   "source": [
    "X.shape, Y.shape"
   ]
  },
  {
   "cell_type": "code",
   "execution_count": 61,
   "metadata": {},
   "outputs": [],
   "source": [
    "ohe = OneHotEncoder(categorical_features = [3, 4, 5, 6, 12])\n",
    "X = ohe.fit_transform(X).toarray()"
   ]
  },
  {
   "cell_type": "code",
   "execution_count": 62,
   "metadata": {},
   "outputs": [
    {
     "data": {
      "text/plain": [
       "array([ 0.        ,  1.        ,  0.        ,  1.        ,  0.        ,\n",
       "        0.        ,  0.        ,  0.        ,  0.        ,  0.        ,\n",
       "        0.        ,  0.        ,  0.        ,  0.        ,  0.        ,\n",
       "        0.        ,  0.        ,  0.        ,  1.        ,  0.        ,\n",
       "        0.        ,  0.        ,  0.        ,  0.        ,  0.        ,\n",
       "        0.        ,  0.        ,  1.        ,  0.        ,  1.        ,\n",
       "        0.        ,  0.        ,  1.        , -0.0623209 , -0.95661321,\n",
       "       -0.29108264,  1.        ,  1.        , -0.28810053,  0.        ,\n",
       "        0.10454433, -0.19541334])"
      ]
     },
     "execution_count": 62,
     "metadata": {},
     "output_type": "execute_result"
    }
   ],
   "source": [
    "X[0]"
   ]
  },
  {
   "cell_type": "code",
   "execution_count": 63,
   "metadata": {},
   "outputs": [
    {
     "data": {
      "text/plain": [
       "(690, 42)"
      ]
     },
     "execution_count": 63,
     "metadata": {},
     "output_type": "execute_result"
    }
   ],
   "source": [
    "X.shape"
   ]
  },
  {
   "cell_type": "markdown",
   "metadata": {},
   "source": [
    "# Splitting data in to training and testing"
   ]
  },
  {
   "cell_type": "code",
   "execution_count": 64,
   "metadata": {},
   "outputs": [],
   "source": [
    "x_train, x_test, y_train, y_test = train_test_split(X, Y, test_size = 0.2, random_state = 0)"
   ]
  },
  {
   "cell_type": "code",
   "execution_count": 65,
   "metadata": {},
   "outputs": [
    {
     "data": {
      "text/plain": [
       "((552, 42), (138, 42), (552, 1), (138, 1))"
      ]
     },
     "execution_count": 65,
     "metadata": {},
     "output_type": "execute_result"
    }
   ],
   "source": [
    "x_train.shape, x_test.shape, y_train.shape, y_test.shape"
   ]
  },
  {
   "cell_type": "markdown",
   "metadata": {},
   "source": [
    "# Initialising the ANN"
   ]
  },
  {
   "cell_type": "code",
   "execution_count": 69,
   "metadata": {
    "scrolled": true
   },
   "outputs": [
    {
     "name": "stdout",
     "output_type": "stream",
     "text": [
      "WARNING:tensorflow:From /home/admin1/anaconda3/envs/new_env/lib/python3.7/site-packages/keras/backend/tensorflow_backend.py:74: The name tf.get_default_graph is deprecated. Please use tf.compat.v1.get_default_graph instead.\n",
      "\n"
     ]
    }
   ],
   "source": [
    "model = Sequential()"
   ]
  },
  {
   "cell_type": "markdown",
   "metadata": {},
   "source": [
    "# Adding Hidden Layers"
   ]
  },
  {
   "cell_type": "code",
   "execution_count": 71,
   "metadata": {},
   "outputs": [
    {
     "name": "stdout",
     "output_type": "stream",
     "text": [
      "WARNING:tensorflow:From /home/admin1/anaconda3/envs/new_env/lib/python3.7/site-packages/keras/backend/tensorflow_backend.py:517: The name tf.placeholder is deprecated. Please use tf.compat.v1.placeholder instead.\n",
      "\n",
      "WARNING:tensorflow:From /home/admin1/anaconda3/envs/new_env/lib/python3.7/site-packages/keras/backend/tensorflow_backend.py:4138: The name tf.random_uniform is deprecated. Please use tf.random.uniform instead.\n",
      "\n"
     ]
    }
   ],
   "source": [
    "model.add(Dense(output_dim = 6, init = 'uniform', activation = 'relu', input_dim = 42))\n",
    "model.add(Dense(output_dim = 6, init = 'uniform', activation = 'sigmoid'))"
   ]
  },
  {
   "cell_type": "markdown",
   "metadata": {},
   "source": [
    "# Adding Output Layer"
   ]
  },
  {
   "cell_type": "code",
   "execution_count": 72,
   "metadata": {},
   "outputs": [],
   "source": [
    "model.add(Dense(output_dim = 1, init = 'uniform', activation = 'sigmoid'))"
   ]
  },
  {
   "cell_type": "markdown",
   "metadata": {},
   "source": [
    "# Compile the Artificial Neural network"
   ]
  },
  {
   "cell_type": "code",
   "execution_count": 73,
   "metadata": {},
   "outputs": [
    {
     "name": "stdout",
     "output_type": "stream",
     "text": [
      "WARNING:tensorflow:From /home/admin1/anaconda3/envs/new_env/lib/python3.7/site-packages/keras/optimizers.py:790: The name tf.train.Optimizer is deprecated. Please use tf.compat.v1.train.Optimizer instead.\n",
      "\n",
      "WARNING:tensorflow:From /home/admin1/anaconda3/envs/new_env/lib/python3.7/site-packages/keras/backend/tensorflow_backend.py:3376: The name tf.log is deprecated. Please use tf.math.log instead.\n",
      "\n",
      "WARNING:tensorflow:From /home/admin1/anaconda3/envs/new_env/lib/python3.7/site-packages/tensorflow/python/ops/nn_impl.py:180: add_dispatch_support.<locals>.wrapper (from tensorflow.python.ops.array_ops) is deprecated and will be removed in a future version.\n",
      "Instructions for updating:\n",
      "Use tf.where in 2.0, which has the same broadcast rule as np.where\n"
     ]
    }
   ],
   "source": [
    "model.compile(optimizer = 'adam', loss = 'binary_crossentropy', metrics = ['accuracy'])"
   ]
  },
  {
   "cell_type": "code",
   "execution_count": 74,
   "metadata": {},
   "outputs": [
    {
     "name": "stdout",
     "output_type": "stream",
     "text": [
      "_________________________________________________________________\n",
      "Layer (type)                 Output Shape              Param #   \n",
      "=================================================================\n",
      "dense_1 (Dense)              (None, 6)                 258       \n",
      "_________________________________________________________________\n",
      "dense_2 (Dense)              (None, 6)                 42        \n",
      "_________________________________________________________________\n",
      "dense_3 (Dense)              (None, 1)                 7         \n",
      "=================================================================\n",
      "Total params: 307\n",
      "Trainable params: 307\n",
      "Non-trainable params: 0\n",
      "_________________________________________________________________\n"
     ]
    }
   ],
   "source": [
    "model.summary()"
   ]
  },
  {
   "cell_type": "markdown",
   "metadata": {},
   "source": [
    "# Fitting the ANN to the training set "
   ]
  },
  {
   "cell_type": "code",
   "execution_count": 75,
   "metadata": {
    "scrolled": true
   },
   "outputs": [
    {
     "name": "stdout",
     "output_type": "stream",
     "text": [
      "WARNING:tensorflow:From /home/admin1/anaconda3/envs/new_env/lib/python3.7/site-packages/keras/backend/tensorflow_backend.py:986: The name tf.assign_add is deprecated. Please use tf.compat.v1.assign_add instead.\n",
      "\n",
      "Epoch 1/100\n",
      "552/552 [==============================] - 2s 4ms/step - loss: 0.6919 - acc: 0.5525\n",
      "Epoch 2/100\n",
      "552/552 [==============================] - 0s 95us/step - loss: 0.6900 - acc: 0.5525\n",
      "Epoch 3/100\n",
      "552/552 [==============================] - 0s 100us/step - loss: 0.6885 - acc: 0.5525\n",
      "Epoch 4/100\n",
      "552/552 [==============================] - 0s 78us/step - loss: 0.6856 - acc: 0.5525\n",
      "Epoch 5/100\n",
      "552/552 [==============================] - 0s 78us/step - loss: 0.6808 - acc: 0.5525\n",
      "Epoch 6/100\n",
      "552/552 [==============================] - 0s 77us/step - loss: 0.6729 - acc: 0.5525\n",
      "Epoch 7/100\n",
      "552/552 [==============================] - 0s 72us/step - loss: 0.6589 - acc: 0.5525\n",
      "Epoch 8/100\n",
      "552/552 [==============================] - 0s 85us/step - loss: 0.6400 - acc: 0.5779\n",
      "Epoch 9/100\n",
      "552/552 [==============================] - 0s 71us/step - loss: 0.6185 - acc: 0.6250\n",
      "Epoch 10/100\n",
      "552/552 [==============================] - 0s 72us/step - loss: 0.5955 - acc: 0.7319\n",
      "Epoch 11/100\n",
      "552/552 [==============================] - 0s 83us/step - loss: 0.5738 - acc: 0.7826\n",
      "Epoch 12/100\n",
      "552/552 [==============================] - 0s 73us/step - loss: 0.5539 - acc: 0.8007\n",
      "Epoch 13/100\n",
      "552/552 [==============================] - 0s 85us/step - loss: 0.5351 - acc: 0.8170\n",
      "Epoch 14/100\n",
      "552/552 [==============================] - 0s 72us/step - loss: 0.5188 - acc: 0.8279\n",
      "Epoch 15/100\n",
      "552/552 [==============================] - 0s 79us/step - loss: 0.5037 - acc: 0.8297\n",
      "Epoch 16/100\n",
      "552/552 [==============================] - 0s 90us/step - loss: 0.4891 - acc: 0.8315\n",
      "Epoch 17/100\n",
      "552/552 [==============================] - 0s 89us/step - loss: 0.4763 - acc: 0.8424\n",
      "Epoch 18/100\n",
      "552/552 [==============================] - 0s 91us/step - loss: 0.4640 - acc: 0.8460\n",
      "Epoch 19/100\n",
      "552/552 [==============================] - 0s 121us/step - loss: 0.4523 - acc: 0.8533\n",
      "Epoch 20/100\n",
      "552/552 [==============================] - 0s 148us/step - loss: 0.4418 - acc: 0.8587\n",
      "Epoch 21/100\n",
      "552/552 [==============================] - 0s 126us/step - loss: 0.4319 - acc: 0.8623\n",
      "Epoch 22/100\n",
      "552/552 [==============================] - 0s 85us/step - loss: 0.4227 - acc: 0.8623\n",
      "Epoch 23/100\n",
      "552/552 [==============================] - 0s 87us/step - loss: 0.4142 - acc: 0.8641\n",
      "Epoch 24/100\n",
      "552/552 [==============================] - 0s 91us/step - loss: 0.4059 - acc: 0.8623\n",
      "Epoch 25/100\n",
      "552/552 [==============================] - 0s 99us/step - loss: 0.3990 - acc: 0.8605\n",
      "Epoch 26/100\n",
      "552/552 [==============================] - 0s 84us/step - loss: 0.3919 - acc: 0.8768\n",
      "Epoch 27/100\n",
      "552/552 [==============================] - 0s 81us/step - loss: 0.3846 - acc: 0.8804\n",
      "Epoch 28/100\n",
      "552/552 [==============================] - 0s 89us/step - loss: 0.3786 - acc: 0.8768\n",
      "Epoch 29/100\n",
      "552/552 [==============================] - 0s 108us/step - loss: 0.3735 - acc: 0.8750\n",
      "Epoch 30/100\n",
      "552/552 [==============================] - 0s 127us/step - loss: 0.3675 - acc: 0.8804\n",
      "Epoch 31/100\n",
      "552/552 [==============================] - 0s 72us/step - loss: 0.3635 - acc: 0.8750\n",
      "Epoch 32/100\n",
      "552/552 [==============================] - 0s 85us/step - loss: 0.3576 - acc: 0.8804\n",
      "Epoch 33/100\n",
      "552/552 [==============================] - 0s 94us/step - loss: 0.3530 - acc: 0.8841\n",
      "Epoch 34/100\n",
      "552/552 [==============================] - 0s 90us/step - loss: 0.3488 - acc: 0.8895\n",
      "Epoch 35/100\n",
      "552/552 [==============================] - 0s 96us/step - loss: 0.3453 - acc: 0.8804\n",
      "Epoch 36/100\n",
      "552/552 [==============================] - 0s 81us/step - loss: 0.3420 - acc: 0.8822\n",
      "Epoch 37/100\n",
      "552/552 [==============================] - 0s 81us/step - loss: 0.3382 - acc: 0.8859\n",
      "Epoch 38/100\n",
      "552/552 [==============================] - 0s 108us/step - loss: 0.3344 - acc: 0.8895\n",
      "Epoch 39/100\n",
      "552/552 [==============================] - 0s 81us/step - loss: 0.3314 - acc: 0.8859\n",
      "Epoch 40/100\n",
      "552/552 [==============================] - 0s 89us/step - loss: 0.3283 - acc: 0.8877\n",
      "Epoch 41/100\n",
      "552/552 [==============================] - 0s 84us/step - loss: 0.3256 - acc: 0.8913\n",
      "Epoch 42/100\n",
      "552/552 [==============================] - 0s 86us/step - loss: 0.3234 - acc: 0.8895\n",
      "Epoch 43/100\n",
      "552/552 [==============================] - 0s 113us/step - loss: 0.3207 - acc: 0.8949\n",
      "Epoch 44/100\n",
      "552/552 [==============================] - 0s 81us/step - loss: 0.3184 - acc: 0.8949\n",
      "Epoch 45/100\n",
      "552/552 [==============================] - 0s 85us/step - loss: 0.3175 - acc: 0.8913\n",
      "Epoch 46/100\n",
      "552/552 [==============================] - 0s 87us/step - loss: 0.3144 - acc: 0.8949\n",
      "Epoch 47/100\n",
      "552/552 [==============================] - 0s 86us/step - loss: 0.3135 - acc: 0.8913\n",
      "Epoch 48/100\n",
      "552/552 [==============================] - 0s 99us/step - loss: 0.3107 - acc: 0.8895\n",
      "Epoch 49/100\n",
      "552/552 [==============================] - 0s 86us/step - loss: 0.3107 - acc: 0.8967\n",
      "Epoch 50/100\n",
      "552/552 [==============================] - 0s 87us/step - loss: 0.3081 - acc: 0.8913\n",
      "Epoch 51/100\n",
      "552/552 [==============================] - 0s 85us/step - loss: 0.3069 - acc: 0.8931\n",
      "Epoch 52/100\n",
      "552/552 [==============================] - 0s 91us/step - loss: 0.3060 - acc: 0.8931\n",
      "Epoch 53/100\n",
      "552/552 [==============================] - 0s 91us/step - loss: 0.3035 - acc: 0.8913\n",
      "Epoch 54/100\n",
      "552/552 [==============================] - 0s 87us/step - loss: 0.3025 - acc: 0.8949\n",
      "Epoch 55/100\n",
      "552/552 [==============================] - 0s 90us/step - loss: 0.3010 - acc: 0.8931\n",
      "Epoch 56/100\n",
      "552/552 [==============================] - 0s 89us/step - loss: 0.3002 - acc: 0.8931\n",
      "Epoch 57/100\n",
      "552/552 [==============================] - 0s 92us/step - loss: 0.2989 - acc: 0.8913\n",
      "Epoch 58/100\n",
      "552/552 [==============================] - 0s 91us/step - loss: 0.2977 - acc: 0.8931\n",
      "Epoch 59/100\n",
      "552/552 [==============================] - 0s 89us/step - loss: 0.2977 - acc: 0.8931\n",
      "Epoch 60/100\n",
      "552/552 [==============================] - 0s 86us/step - loss: 0.2968 - acc: 0.8949\n",
      "Epoch 61/100\n",
      "552/552 [==============================] - 0s 103us/step - loss: 0.2960 - acc: 0.8877\n",
      "Epoch 62/100\n",
      "552/552 [==============================] - 0s 83us/step - loss: 0.2943 - acc: 0.8931\n",
      "Epoch 63/100\n",
      "552/552 [==============================] - 0s 84us/step - loss: 0.2938 - acc: 0.8967\n",
      "Epoch 64/100\n",
      "552/552 [==============================] - 0s 87us/step - loss: 0.2927 - acc: 0.8877\n",
      "Epoch 65/100\n",
      "552/552 [==============================] - 0s 103us/step - loss: 0.2921 - acc: 0.8931\n",
      "Epoch 66/100\n",
      "552/552 [==============================] - 0s 99us/step - loss: 0.2913 - acc: 0.8931\n",
      "Epoch 67/100\n",
      "552/552 [==============================] - 0s 82us/step - loss: 0.2906 - acc: 0.8913\n",
      "Epoch 68/100\n",
      "552/552 [==============================] - 0s 78us/step - loss: 0.2900 - acc: 0.8931\n",
      "Epoch 69/100\n",
      "552/552 [==============================] - 0s 88us/step - loss: 0.2897 - acc: 0.8931\n",
      "Epoch 70/100\n",
      "552/552 [==============================] - 0s 84us/step - loss: 0.2893 - acc: 0.8913\n",
      "Epoch 71/100\n",
      "552/552 [==============================] - 0s 79us/step - loss: 0.2886 - acc: 0.8895\n",
      "Epoch 72/100\n",
      "552/552 [==============================] - 0s 106us/step - loss: 0.2875 - acc: 0.8931\n",
      "Epoch 73/100\n",
      "552/552 [==============================] - 0s 85us/step - loss: 0.2875 - acc: 0.8967\n",
      "Epoch 74/100\n",
      "552/552 [==============================] - 0s 85us/step - loss: 0.2863 - acc: 0.8949\n",
      "Epoch 75/100\n",
      "552/552 [==============================] - 0s 80us/step - loss: 0.2874 - acc: 0.8913\n",
      "Epoch 76/100\n",
      "552/552 [==============================] - 0s 81us/step - loss: 0.2860 - acc: 0.8931\n",
      "Epoch 77/100\n",
      "552/552 [==============================] - 0s 88us/step - loss: 0.2853 - acc: 0.8913\n",
      "Epoch 78/100\n",
      "552/552 [==============================] - 0s 89us/step - loss: 0.2847 - acc: 0.8931\n",
      "Epoch 79/100\n",
      "552/552 [==============================] - 0s 86us/step - loss: 0.2869 - acc: 0.8913\n",
      "Epoch 80/100\n",
      "552/552 [==============================] - 0s 88us/step - loss: 0.2832 - acc: 0.8931\n",
      "Epoch 81/100\n",
      "552/552 [==============================] - 0s 86us/step - loss: 0.2838 - acc: 0.8913\n",
      "Epoch 82/100\n"
     ]
    },
    {
     "name": "stdout",
     "output_type": "stream",
     "text": [
      "552/552 [==============================] - 0s 92us/step - loss: 0.2827 - acc: 0.8949\n",
      "Epoch 83/100\n",
      "552/552 [==============================] - 0s 126us/step - loss: 0.2828 - acc: 0.8967\n",
      "Epoch 84/100\n",
      "552/552 [==============================] - 0s 112us/step - loss: 0.2828 - acc: 0.8967\n",
      "Epoch 85/100\n",
      "552/552 [==============================] - 0s 109us/step - loss: 0.2828 - acc: 0.8967\n",
      "Epoch 86/100\n",
      "552/552 [==============================] - 0s 107us/step - loss: 0.2823 - acc: 0.8967\n",
      "Epoch 87/100\n",
      "552/552 [==============================] - 0s 75us/step - loss: 0.2816 - acc: 0.9022\n",
      "Epoch 88/100\n",
      "552/552 [==============================] - 0s 77us/step - loss: 0.2814 - acc: 0.8967\n",
      "Epoch 89/100\n",
      "552/552 [==============================] - 0s 82us/step - loss: 0.2812 - acc: 0.8986\n",
      "Epoch 90/100\n",
      "552/552 [==============================] - 0s 56us/step - loss: 0.2806 - acc: 0.8967\n",
      "Epoch 91/100\n",
      "552/552 [==============================] - 0s 189us/step - loss: 0.2813 - acc: 0.8967\n",
      "Epoch 92/100\n",
      "552/552 [==============================] - 0s 111us/step - loss: 0.2808 - acc: 0.9004\n",
      "Epoch 93/100\n",
      "552/552 [==============================] - 0s 115us/step - loss: 0.2809 - acc: 0.8967\n",
      "Epoch 94/100\n",
      "552/552 [==============================] - 0s 104us/step - loss: 0.2796 - acc: 0.9004\n",
      "Epoch 95/100\n",
      "552/552 [==============================] - 0s 72us/step - loss: 0.2792 - acc: 0.8986\n",
      "Epoch 96/100\n",
      "552/552 [==============================] - 0s 72us/step - loss: 0.2799 - acc: 0.8986\n",
      "Epoch 97/100\n",
      "552/552 [==============================] - 0s 85us/step - loss: 0.2795 - acc: 0.8967\n",
      "Epoch 98/100\n",
      "552/552 [==============================] - 0s 71us/step - loss: 0.2793 - acc: 0.9022\n",
      "Epoch 99/100\n",
      "552/552 [==============================] - 0s 88us/step - loss: 0.2781 - acc: 0.9022\n",
      "Epoch 100/100\n",
      "552/552 [==============================] - 0s 89us/step - loss: 0.2779 - acc: 0.9040\n"
     ]
    },
    {
     "data": {
      "text/plain": [
       "<keras.callbacks.History at 0x7f6de4d3fe10>"
      ]
     },
     "execution_count": 75,
     "metadata": {},
     "output_type": "execute_result"
    }
   ],
   "source": [
    "model.fit(x_train, y_train, batch_size = 20, nb_epoch = 100)"
   ]
  },
  {
   "cell_type": "markdown",
   "metadata": {},
   "source": [
    "# Predicting the Test set Result"
   ]
  },
  {
   "cell_type": "code",
   "execution_count": 76,
   "metadata": {},
   "outputs": [],
   "source": [
    "y_pred = model.predict_classes(x_test)"
   ]
  },
  {
   "cell_type": "code",
   "execution_count": 78,
   "metadata": {},
   "outputs": [
    {
     "data": {
      "text/plain": [
       "array([[0],\n",
       "       [0],\n",
       "       [0],\n",
       "       [0],\n",
       "       [1]], dtype=int32)"
      ]
     },
     "execution_count": 78,
     "metadata": {},
     "output_type": "execute_result"
    }
   ],
   "source": [
    "y_pred[0:5]"
   ]
  },
  {
   "cell_type": "code",
   "execution_count": 81,
   "metadata": {},
   "outputs": [
    {
     "data": {
      "text/plain": [
       "0.8333333333333334"
      ]
     },
     "execution_count": 81,
     "metadata": {},
     "output_type": "execute_result"
    }
   ],
   "source": [
    "score = accuracy_score(y_test, y_pred)\n",
    "score"
   ]
  },
  {
   "cell_type": "code",
   "execution_count": 82,
   "metadata": {},
   "outputs": [
    {
     "name": "stdout",
     "output_type": "stream",
     "text": [
      "              precision    recall  f1-score   support\n",
      "\n",
      "           0       0.82      0.78      0.80        60\n",
      "           1       0.84      0.87      0.86        78\n",
      "\n",
      "    accuracy                           0.83       138\n",
      "   macro avg       0.83      0.83      0.83       138\n",
      "weighted avg       0.83      0.83      0.83       138\n",
      "\n"
     ]
    }
   ],
   "source": [
    "print(classification_report(y_test, y_pred))"
   ]
  },
  {
   "cell_type": "code",
   "execution_count": 83,
   "metadata": {},
   "outputs": [
    {
     "data": {
      "text/plain": [
       "array([[47, 13],\n",
       "       [10, 68]])"
      ]
     },
     "execution_count": 83,
     "metadata": {},
     "output_type": "execute_result"
    }
   ],
   "source": [
    "cm = confusion_matrix(y_test, y_pred)\n",
    "cm"
   ]
  },
  {
   "cell_type": "markdown",
   "metadata": {},
   "source": [
    "# Predicting the result for one input example"
   ]
  },
  {
   "cell_type": "code",
   "execution_count": 92,
   "metadata": {},
   "outputs": [
    {
     "data": {
      "text/plain": [
       "classes    0.0\n",
       "Name: 45, dtype: float64"
      ]
     },
     "execution_count": 92,
     "metadata": {},
     "output_type": "execute_result"
    }
   ],
   "source": [
    "df.iloc[45, -1:]"
   ]
  },
  {
   "cell_type": "markdown",
   "metadata": {},
   "source": [
    "# Applying one hot encoding to row number 45 as the values are already scaled and label encoded. Also the output value is 0.0 i.e class '+'"
   ]
  },
  {
   "cell_type": "code",
   "execution_count": 95,
   "metadata": {},
   "outputs": [],
   "source": [
    "example = df.iloc[45, 0:-1].values"
   ]
  },
  {
   "cell_type": "code",
   "execution_count": 96,
   "metadata": {},
   "outputs": [
    {
     "data": {
      "text/plain": [
       "array([ 1.        ,  1.92169212,  0.40029219,  1.        ,  0.        ,\n",
       "        1.        ,  3.        ,  0.12009082,  1.        ,  1.        ,\n",
       "        1.76976039,  1.        ,  0.        , -1.06963892, -0.14086431])"
      ]
     },
     "execution_count": 96,
     "metadata": {},
     "output_type": "execute_result"
    }
   ],
   "source": [
    "example"
   ]
  },
  {
   "cell_type": "code",
   "execution_count": 98,
   "metadata": {},
   "outputs": [],
   "source": [
    "example = ohe.transform([example]).toarray()"
   ]
  },
  {
   "cell_type": "code",
   "execution_count": 99,
   "metadata": {},
   "outputs": [
    {
     "data": {
      "text/plain": [
       "array([[ 0.        ,  1.        ,  0.        ,  1.        ,  0.        ,\n",
       "         0.        ,  0.        ,  1.        ,  0.        ,  0.        ,\n",
       "         0.        ,  0.        ,  0.        ,  0.        ,  0.        ,\n",
       "         0.        ,  0.        ,  0.        ,  0.        ,  0.        ,\n",
       "         0.        ,  0.        ,  0.        ,  1.        ,  0.        ,\n",
       "         0.        ,  0.        ,  0.        ,  0.        ,  1.        ,\n",
       "         0.        ,  0.        ,  1.        ,  1.92169212,  0.40029219,\n",
       "         0.12009082,  1.        ,  1.        ,  1.76976039,  1.        ,\n",
       "        -1.06963892, -0.14086431]])"
      ]
     },
     "execution_count": 99,
     "metadata": {},
     "output_type": "execute_result"
    }
   ],
   "source": [
    "example"
   ]
  },
  {
   "cell_type": "code",
   "execution_count": 100,
   "metadata": {},
   "outputs": [
    {
     "data": {
      "text/plain": [
       "(1, 42)"
      ]
     },
     "execution_count": 100,
     "metadata": {},
     "output_type": "execute_result"
    }
   ],
   "source": [
    "example.shape"
   ]
  },
  {
   "cell_type": "code",
   "execution_count": 101,
   "metadata": {},
   "outputs": [],
   "source": [
    "prediction = model.predict_classes(example)"
   ]
  },
  {
   "cell_type": "code",
   "execution_count": 102,
   "metadata": {},
   "outputs": [
    {
     "data": {
      "text/plain": [
       "array([[0]], dtype=int32)"
      ]
     },
     "execution_count": 102,
     "metadata": {},
     "output_type": "execute_result"
    }
   ],
   "source": [
    "prediction"
   ]
  },
  {
   "cell_type": "code",
   "execution_count": 104,
   "metadata": {},
   "outputs": [
    {
     "name": "stdout",
     "output_type": "stream",
     "text": [
      "The class is +\n"
     ]
    }
   ],
   "source": [
    "if prediction:\n",
    "    print('The class is -')\n",
    "else:\n",
    "    print('The class is +')"
   ]
  },
  {
   "cell_type": "code",
   "execution_count": null,
   "metadata": {},
   "outputs": [],
   "source": []
  }
 ],
 "metadata": {
  "kernelspec": {
   "display_name": "Python 3",
   "language": "python",
   "name": "python3"
  },
  "language_info": {
   "codemirror_mode": {
    "name": "ipython",
    "version": 3
   },
   "file_extension": ".py",
   "mimetype": "text/x-python",
   "name": "python",
   "nbconvert_exporter": "python",
   "pygments_lexer": "ipython3",
   "version": "3.7.4"
  }
 },
 "nbformat": 4,
 "nbformat_minor": 2
}
